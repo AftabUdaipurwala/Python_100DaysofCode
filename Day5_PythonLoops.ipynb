{
  "nbformat": 4,
  "nbformat_minor": 0,
  "metadata": {
    "colab": {
      "name": "Day5_PythonLoops.ipynb",
      "provenance": [],
      "collapsed_sections": [],
      "authorship_tag": "ABX9TyNYapIL64oFyb8V4dDqXWf3",
      "include_colab_link": true
    },
    "kernelspec": {
      "name": "python3",
      "display_name": "Python 3"
    },
    "language_info": {
      "name": "python"
    }
  },
  "cells": [
    {
      "cell_type": "markdown",
      "metadata": {
        "id": "view-in-github",
        "colab_type": "text"
      },
      "source": [
        "<a href=\"https://colab.research.google.com/github/AftabUdaipurwala/Python_100DaysofCode/blob/main/Day5_PythonLoops.ipynb\" target=\"_parent\"><img src=\"https://colab.research.google.com/assets/colab-badge.svg\" alt=\"Open In Colab\"/></a>"
      ]
    },
    {
      "cell_type": "markdown",
      "source": [
        "# Simple for loops"
      ],
      "metadata": {
        "id": "5HwOWwSUmNyR"
      }
    },
    {
      "cell_type": "code",
      "execution_count": 1,
      "metadata": {
        "id": "3sFeILbkvI5a",
        "colab": {
          "base_uri": "https://localhost:8080/"
        },
        "outputId": "f8ca74ca-3a7e-4c81-9d7e-4a6d9a4a9e73"
      },
      "outputs": [
        {
          "output_type": "stream",
          "name": "stdout",
          "text": [
            "apple\n",
            "mango\n",
            "banana\n",
            "pear\n",
            "cherry\n"
          ]
        }
      ],
      "source": [
        "fruits = ['apple','mango','banana','pear','cherry']\n",
        "for i in fruits:\n",
        "  print(i)"
      ]
    },
    {
      "cell_type": "markdown",
      "source": [
        "#Exercise 1 -  Average Hieght"
      ],
      "metadata": {
        "id": "njxximkvmcb1"
      }
    },
    {
      "cell_type": "markdown",
      "source": [
        "**Instructions**\n",
        "\n",
        "\n",
        "You are going to write a program that calculates the average student height from a List of heights.\n",
        "\n",
        "*e.g. student_heights = [180, 124, 165, 173, 189, 169, 146]*\n",
        "\n",
        "The average height can be calculated by adding all the heights together and dividing by the total number of heights.\n",
        "\n",
        "e.g.\n",
        "\n",
        "*180 + 124 + 165 + 173 + 189 + 169 + 146 = 1146*\n",
        "\n",
        "There are a total of 7 heights in student_heights\n",
        "\n",
        "*1146 ÷ 7 = 163.71428571428572*\n",
        "\n",
        "Average height rounded to the nearest whole number = 164\n",
        "\n",
        "***Important*** *You should not use the sum() or len() functions in your answer. You should try to replicate their functionality using what you have learnt about for loops.*"
      ],
      "metadata": {
        "id": "FAOIUNdDmh4U"
      }
    },
    {
      "cell_type": "code",
      "source": [
        "# 🚨 Don't change the code below 👇\n",
        "student_heights = input(\"Input a list of student heights \").split()\n",
        "\n",
        "height=0\n",
        "count =0\n",
        "\n",
        "for n in range(0, len(student_heights)):\n",
        "  student_heights[n] = int(student_heights[n])\n",
        "  height +=student_heights[n]\n",
        "  count +=1\n",
        "Average_height=height/count\n",
        "print(Average_height)"
      ],
      "metadata": {
        "colab": {
          "base_uri": "https://localhost:8080/"
        },
        "id": "ZR3u_6Q7mb8j",
        "outputId": "f10fdfa2-ff52-4265-d28f-4fd03d3ea5f1"
      },
      "execution_count": 3,
      "outputs": [
        {
          "output_type": "stream",
          "name": "stdout",
          "text": [
            "Input a list of student heights 121 132 143 154 121 133\n",
            "134.0\n"
          ]
        }
      ]
    },
    {
      "cell_type": "markdown",
      "source": [
        "#Exercise 2 -  Highest Score"
      ],
      "metadata": {
        "id": "qUVWiOdaoDqs"
      }
    },
    {
      "cell_type": "markdown",
      "source": [
        "Instructions\n",
        "\n",
        "\n",
        "You are going to write a program that calculates the highest score from a List of scores.\n",
        "\n",
        "***e.g. student_scores = [78, 65, 89, 86, 55, 91, 64, 89]***\n",
        "\n",
        "***Important you are not allowed to use the max or min functions. The output words must match the example***. i.e\n",
        "\n",
        "The highest score in the class is: x\n",
        "\n",
        "Example Input\n",
        "\n",
        "78 65 89 86 55 91 64 89\n",
        "\n",
        "In this case, student_scores would be a list that looks like: [78, 65, 89, 86, 55, 91, 64, 89]\n",
        "\n",
        "Example Output\n",
        "\n",
        "The highest score in the class is: 91"
      ],
      "metadata": {
        "id": "AlDr3E14oGJj"
      }
    },
    {
      "cell_type": "code",
      "source": [
        "# 🚨 Don't change the code below 👇\n",
        "student_scores = input(\"Input a list of student scores \").split()\n",
        "for n in range(0, len(student_scores)):\n",
        "  student_scores[n] = int(student_scores[n])\n",
        "print(student_scores)\n",
        "# 🚨 Don't change the code above 👆\n",
        "\n",
        "#Write your code below this row 👇\n",
        "high_score=0\n",
        "for i in student_scores:\n",
        "  if i>high_score:\n",
        "    high_score=i\n",
        "\n",
        "print(f'The highest score in the class is: {high_score}')\n",
        "   \n",
        "\n",
        "\n"
      ],
      "metadata": {
        "colab": {
          "base_uri": "https://localhost:8080/"
        },
        "id": "le-2v3I2oFtn",
        "outputId": "9dd41963-8c11-42de-9dce-e82d33bc9604"
      },
      "execution_count": 5,
      "outputs": [
        {
          "output_type": "stream",
          "name": "stdout",
          "text": [
            "Input a list of student scores 10 20 30 20 30 20 21\n",
            "[10, 20, 30, 20, 30, 20, 21]\n",
            "30\n"
          ]
        }
      ]
    },
    {
      "cell_type": "markdown",
      "source": [
        "#Exercise 3 - Adding Even Numbers "
      ],
      "metadata": {
        "id": "RQ_alxRqq6la"
      }
    },
    {
      "cell_type": "markdown",
      "source": [
        "Instructions\n",
        "\n",
        "***You are going to write a program that calculates the sum of all the even numbers from 1 to 100. Thus, the first even number would be 2 and the last one is 100:***\n",
        "\n",
        "i.e. 2 + 4 + 6 + 8 +10 ... + 98 + 100\n",
        "\n",
        "***Important, there should only be 1 print statement in your console output. It should just print the final total and not every step of the calculation.***\n",
        "\n",
        "\n",
        "Hint\n",
        "There are quite a few ways of solving this problem, but you will need to use the range() function in any of the solutions.\n",
        "\n",
        "**Test Your Code**\n",
        "\n",
        "Check your code is doing what it is supposed to. When you're happy with your code, click submit to check your solution."
      ],
      "metadata": {
        "id": "VpWAeov9rBgS"
      }
    },
    {
      "cell_type": "code",
      "source": [
        "even=0\n",
        "for i in range(0,101):\n",
        "  if i%2==0:\n",
        "    even+=i\n",
        "\n",
        "print(even)\n"
      ],
      "metadata": {
        "colab": {
          "base_uri": "https://localhost:8080/"
        },
        "id": "xuI6jayJrMcx",
        "outputId": "27c03ab4-4aea-4c81-970d-2815a3a238bd"
      },
      "execution_count": 7,
      "outputs": [
        {
          "output_type": "stream",
          "name": "stdout",
          "text": [
            "2550\n"
          ]
        }
      ]
    },
    {
      "cell_type": "code",
      "source": [
        "even=0\n",
        "# using the step function\n",
        "for i in range(0,101,2):\n",
        "  #print(i)\n",
        "    even+=i\n",
        "\n",
        "print(even)\n"
      ],
      "metadata": {
        "colab": {
          "base_uri": "https://localhost:8080/"
        },
        "id": "RgF15pG67fIG",
        "outputId": "b7d56046-ed23-4b8d-dd63-4a046f8db860"
      },
      "execution_count": 19,
      "outputs": [
        {
          "output_type": "stream",
          "name": "stdout",
          "text": [
            "2550\n"
          ]
        }
      ]
    },
    {
      "cell_type": "markdown",
      "source": [
        "#Exercise 4 - FizzBuzz"
      ],
      "metadata": {
        "id": "UTJ9c67Jrqfp"
      }
    },
    {
      "cell_type": "markdown",
      "source": [
        "You are going to write a program that automatically prints the solution to the FizzBuzz game.\n",
        "\n",
        "Your program should print each number from 1 to 100 in turn.\n",
        "\n",
        "When the number is divisible by 3 then instead of printing the number it should print \"Fizz\".\n",
        "\n",
        "When the number is divisible by 5, then instead of printing the number it should print \"Buzz\".`\n",
        "\n",
        "  And if the number is divisible by both 3 and 5 e.g. 15 then instead of the number it should print \"FizzBuzz\"\n",
        "\n",
        "e.g. it might start off like this:\n",
        "\n",
        "1\n",
        "2\n",
        "Fizz\n",
        "4\n",
        "Buzz\n",
        "Fizz\n",
        "7\n",
        "8\n",
        "Fizz\n",
        "Buzz\n",
        "11\n",
        "Fizz\n",
        "13\n",
        "14\n",
        "FizzBuzz\n",
        ".... etc.\n",
        "\n",
        "Hint:\n",
        "\n",
        "1. Remember your answer should start from 1 and go up to and including 100.\n",
        "2. Each number/text should be printed on a separate line.\n"
      ],
      "metadata": {
        "id": "OkMZMmOwrzOB"
      }
    },
    {
      "cell_type": "code",
      "source": [
        "for i in range(1,101):\n",
        "  if i%3==0 and i%5==0:\n",
        "    print('FizzBuzz')\n",
        "  elif i%3==0:\n",
        "    print('Fizz')\n",
        "  elif i%5==0:\n",
        "    print('Buzz')\n",
        "  else:\n",
        "    print(i)"
      ],
      "metadata": {
        "colab": {
          "base_uri": "https://localhost:8080/"
        },
        "id": "NJvHdTISrsaa",
        "outputId": "fb805f98-a54b-499b-e9a1-ff28bdc8b2a9"
      },
      "execution_count": 9,
      "outputs": [
        {
          "output_type": "stream",
          "name": "stdout",
          "text": [
            "1\n",
            "2\n",
            "Fizz\n",
            "4\n",
            "Buzz\n",
            "Fizz\n",
            "7\n",
            "8\n",
            "Fizz\n",
            "Buzz\n",
            "11\n",
            "Fizz\n",
            "13\n",
            "14\n",
            "FizzBuzz\n",
            "16\n",
            "17\n",
            "Fizz\n",
            "19\n",
            "Buzz\n",
            "Fizz\n",
            "22\n",
            "23\n",
            "Fizz\n",
            "Buzz\n",
            "26\n",
            "Fizz\n",
            "28\n",
            "29\n",
            "FizzBuzz\n",
            "31\n",
            "32\n",
            "Fizz\n",
            "34\n",
            "Buzz\n",
            "Fizz\n",
            "37\n",
            "38\n",
            "Fizz\n",
            "Buzz\n",
            "41\n",
            "Fizz\n",
            "43\n",
            "44\n",
            "FizzBuzz\n",
            "46\n",
            "47\n",
            "Fizz\n",
            "49\n",
            "Buzz\n",
            "Fizz\n",
            "52\n",
            "53\n",
            "Fizz\n",
            "Buzz\n",
            "56\n",
            "Fizz\n",
            "58\n",
            "59\n",
            "FizzBuzz\n",
            "61\n",
            "62\n",
            "Fizz\n",
            "64\n",
            "Buzz\n",
            "Fizz\n",
            "67\n",
            "68\n",
            "Fizz\n",
            "Buzz\n",
            "71\n",
            "Fizz\n",
            "73\n",
            "74\n",
            "FizzBuzz\n",
            "76\n",
            "77\n",
            "Fizz\n",
            "79\n",
            "Buzz\n",
            "Fizz\n",
            "82\n",
            "83\n",
            "Fizz\n",
            "Buzz\n",
            "86\n",
            "Fizz\n",
            "88\n",
            "89\n",
            "FizzBuzz\n",
            "91\n",
            "92\n",
            "Fizz\n",
            "94\n",
            "Buzz\n",
            "Fizz\n",
            "97\n",
            "98\n",
            "Fizz\n",
            "Buzz\n"
          ]
        }
      ]
    },
    {
      "cell_type": "markdown",
      "source": [
        "# Project : Password Generator"
      ],
      "metadata": {
        "id": "lcXJWt5pxSTJ"
      }
    },
    {
      "cell_type": "code",
      "source": [
        "#Password Generator Project\n",
        "import random\n",
        "letters = ['a', 'b', 'c', 'd', 'e', 'f', 'g', 'h', 'i', 'j', 'k', 'l', 'm', 'n', 'o', 'p', 'q', 'r', 's', 't', 'u', 'v', 'w', 'x', 'y', 'z', 'A', 'B', 'C', 'D', 'E', 'F', 'G', 'H', 'I', 'J', 'K', 'L', 'M', 'N', 'O', 'P', 'Q', 'R', 'S', 'T', 'U', 'V', 'W', 'X', 'Y', 'Z']\n",
        "numbers = ['0', '1', '2', '3', '4', '5', '6', '7', '8', '9']\n",
        "symbols = ['!', '#', '$', '%', '&', '(', ')', '*', '+']\n",
        "\n",
        "print(\"Welcome to the PyPassword Generator!\")\n",
        "nr_letters= int(input(\"How many letters would you like in your password?\\n\")) \n",
        "nr_symbols = int(input(f\"How many symbols would you like?\\n\"))\n",
        "nr_numbers = int(input(f\"How many numbers would you like?\\n\"))\n",
        "\n",
        "# Password generator\n",
        "\n",
        "letter_gen=[]\n",
        "sym_gen=[]\n",
        "num_gen=[]\n",
        "\n",
        "for i in range(1,nr_letters+1):\n",
        "  r_num=  random.randint(1,nr_letters)\n",
        "  letter_gen.append(random.choice(letters))\n",
        "  \n",
        "for i in range(1,nr_numbers+1):\n",
        "  r_num=  random.randint(1,nr_numbers)\n",
        "  num_gen.append(random.choice(numbers))\n",
        "\n",
        "for i in range(1,nr_symbols+1):\n",
        "  r_num=  random.randint(1,nr_symbols)\n",
        "  sym_gen.append(random.choice(symbols))\n",
        "  \n",
        "# Easy way\n",
        "finallist = letter_gen+num_gen+sym_gen\n",
        "print(''.join(finallist))\n",
        "\n",
        "# Hard way : mixing everying randomly\n",
        "final2 = finallist\n",
        "random.shuffle(final2)\n",
        "print(''.join(final2))\n"
      ],
      "metadata": {
        "colab": {
          "base_uri": "https://localhost:8080/"
        },
        "id": "FVigpvc3xVWx",
        "outputId": "9a5d6b0b-fb35-4a25-a5cb-e06b76018724"
      },
      "execution_count": 47,
      "outputs": [
        {
          "output_type": "stream",
          "name": "stdout",
          "text": [
            "Welcome to the PyPassword Generator!\n",
            "How many letters would you like in your password?\n",
            "12\n",
            "How many symbols would you like?\n",
            "2\n",
            "How many numbers would you like?\n",
            "2\n",
            "oWwZUoTIZiSz99*&\n",
            "zwUSiZ&WZ99Ioo*T\n"
          ]
        }
      ]
    }
  ]
}