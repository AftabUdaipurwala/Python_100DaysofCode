{
  "nbformat": 4,
  "nbformat_minor": 0,
  "metadata": {
    "colab": {
      "name": "Day15_CoffeeMachineCode.ipynb",
      "provenance": [],
      "collapsed_sections": [],
      "authorship_tag": "ABX9TyMfXNq9UeuZgSfUCESwRv6e",
      "include_colab_link": true
    },
    "kernelspec": {
      "name": "python3",
      "display_name": "Python 3"
    },
    "language_info": {
      "name": "python"
    }
  },
  "cells": [
    {
      "cell_type": "markdown",
      "metadata": {
        "id": "view-in-github",
        "colab_type": "text"
      },
      "source": [
        "<a href=\"https://colab.research.google.com/github/AftabUdaipurwala/Python_100DaysofCode/blob/main/Day15_CoffeeMachineCode.ipynb\" target=\"_parent\"><img src=\"https://colab.research.google.com/assets/colab-badge.svg\" alt=\"Open In Colab\"/></a>"
      ]
    },
    {
      "cell_type": "markdown",
      "source": [
        "Building the Coffee Machine Code"
      ],
      "metadata": {
        "id": "LauNV-lF2Tnr"
      }
    },
    {
      "cell_type": "markdown",
      "source": [
        "```\n",
        "  _____       _   _                 _     _        _\n",
        " |  __ \\     | | | |               (_)   | |      ( )\n",
        " | |__) |   _| |_| |__   ___  _ __  _ ___| |_ __ _|/ ___\n",
        " |  ___/ | | | __| '_ \\ / _ \\| '_ \\| / __| __/ _` | / __|\n",
        " | |   | |_| | |_| | | | (_) | | | | \\__ \\ || (_| | \\__ \\\n",
        " |_|    \\__, |\\__|_| |_|\\___/|_| |_|_|___/\\__\\__,_| |___/\n",
        "         __/ |\n",
        "    ____|___/   __  __            __  __            _     _\n",
        "   / ____|     / _|/ _|          |  \\/  |          | |   (_)\n",
        "  | |     ___ | |_| |_ ___  ___  | \\  / | __ _  ___| |__  _ _ __   ___\n",
        "  | |    / _ \\|  _|  _/ _ \\/ _ \\ | |\\/| |/ _` |/ __| '_ \\| | '_ \\ / _ \\\n",
        "  | |___| (_) | | | ||  __/  __/ | |  | | (_| | (__| | | | | | | |  __/\n",
        "   \\_____\\___/|_| |_| \\___|\\___| |_|  |_|\\__,_|\\___|_| |_|_|_| |_|\\___|\n",
        "\n",
        "\n",
        "```\n",
        "\n"
      ],
      "metadata": {
        "id": "rcavEIG8S0-2"
      }
    },
    {
      "cell_type": "markdown",
      "source": [
        "# Data"
      ],
      "metadata": {
        "id": "hIBSgk0kS6c-"
      }
    },
    {
      "cell_type": "code",
      "execution_count": 5,
      "metadata": {
        "id": "IHjdv8GD10Ai"
      },
      "outputs": [],
      "source": [
        "MENU = {\n",
        "    \"espresso\": {\n",
        "        \"ingredients\": {\n",
        "            \"water\": 50,\n",
        "            \"coffee\": 18,\n",
        "        },\n",
        "        \"cost\": 1.5,\n",
        "    },\n",
        "    \"latte\": {\n",
        "        \"ingredients\": {\n",
        "            \"water\": 200,\n",
        "            \"milk\": 150,\n",
        "            \"coffee\": 24,\n",
        "        },\n",
        "        \"cost\": 2.5,\n",
        "    },\n",
        "    \"cappuccino\": {\n",
        "        \"ingredients\": {\n",
        "            \"water\": 250,\n",
        "            \"milk\": 100,\n",
        "            \"coffee\": 24,\n",
        "        },\n",
        "        \"cost\": 3.0,\n",
        "    }\n",
        "}\n",
        "\n",
        "resources = {\n",
        "    \"water\": 300,\n",
        "    \"milk\": 200,\n",
        "    \"coffee\": 100,\n",
        "}\n",
        "\n",
        "coins_value = {\n",
        "    \"quarters\": 0.25,\n",
        "    \"dimes\": 0.1,\n",
        "    \"nickels\": 0.05,\n",
        "    \"pennies\": 0.01\n",
        "}\n"
      ]
    },
    {
      "cell_type": "markdown",
      "source": [
        "# Functions"
      ],
      "metadata": {
        "id": "4i9kSAFqTA8P"
      }
    },
    {
      "cell_type": "code",
      "source": [
        "MENU = {\n",
        "    \"espresso\": {\n",
        "        \"ingredients\": {\n",
        "            \"water\": 50,\n",
        "            \"coffee\": 18,\n",
        "        },\n",
        "        \"cost\": 1.5,\n",
        "    },\n",
        "    \"latte\": {\n",
        "        \"ingredients\": {\n",
        "            \"water\": 200,\n",
        "            \"milk\": 150,\n",
        "            \"coffee\": 24,\n",
        "        },\n",
        "        \"cost\": 2.5,\n",
        "    },\n",
        "    \"cappuccino\": {\n",
        "        \"ingredients\": {\n",
        "            \"water\": 250,\n",
        "            \"milk\": 100,\n",
        "            \"coffee\": 24,\n",
        "        },\n",
        "        \"cost\": 3.0,\n",
        "    }\n",
        "}\n",
        "\n",
        "resources = {\n",
        "    \"water\": 300,\n",
        "    \"milk\": 200,\n",
        "    \"coffee\": 100,\n",
        "}\n",
        "\n",
        "coins_value = {\n",
        "    \"quarters\": 0.25,\n",
        "    \"dimes\": 0.1,\n",
        "    \"nickels\": 0.05,\n",
        "    \"pennies\": 0.01\n",
        "}\n",
        "\n",
        "\n",
        "# TODO 6 : Check transaction successful?\n",
        "\n",
        "\n",
        "def money_value(quarter, dimes, nickels, penny):\n",
        "    amount = quarter * coins_value['quarters'] + dimes * coins_value['dimes'] + nickels * coins_value[\n",
        "        'nickels'] + penny * coins_value['pennies']\n",
        "    return amount\n",
        "\n",
        "\n",
        "def transaction_checker(user_input, amount):\n",
        "    for i in MENU:\n",
        "        if user_input == i and amount >= MENU[i]['cost']:\n",
        "            return True\n",
        "\n",
        "\n",
        "def refund_amount(user_input, amount):\n",
        "    for i in MENU:\n",
        "        if user_input == i:\n",
        "            refund_amount = round(amount - MENU[i]['cost'], 2)\n",
        "            return refund_amount\n",
        "\n",
        "\n",
        "# TODO 4 : Check resources sufficient?\n",
        "def resource_checker(user_input):\n",
        "    \"\"\"\n",
        "    :rtype: returns boolean value if sufficient resources are available\n",
        "    \"\"\"\n",
        "    count = 0\n",
        "    for i in MENU:\n",
        "        if user_input == i:\n",
        "            for key, value in MENU[i][\"ingredients\"].items():\n",
        "                if resources[key] >= MENU[i][\"ingredients\"][key]:\n",
        "                    count += 1\n",
        "            if count == len(MENU[i][\"ingredients\"]):\n",
        "                return True\n",
        "\n",
        "\n",
        "def make_coffee(user_input, amount_balance):\n",
        "    for i in MENU:\n",
        "        if user_input == i:\n",
        "            for key in MENU[i][\"ingredients\"]:\n",
        "                resources[key] -= MENU[i][\"ingredients\"][key]\n",
        "\n",
        "            amount_balance = MENU[i][\"cost\"] + amount_balance\n",
        "            return resources, amount_balance\n",
        "\n",
        "\n",
        "def make_report(resources, amount_collected):\n",
        "    print(\n",
        "        f'Here is your Report \\n Water = {resources[\"water\"]}ml,\\n Milk = {resources[\"milk\"]}ml \\n Coffee = {resources[\"coffee\"]}g \\n Amount = ${amount_collected}')\n",
        "\n",
        "\n",
        "def coffee_selector(user_input, resources, amount_balance):\n",
        "    # TODO 2 : Turn off the Coffee Machine by entering “ off ” to the prompt.\n",
        "    while user_input != 'off':\n",
        "        if user_input != 'report':\n",
        "            for i in MENU:\n",
        "                if user_input == i:\n",
        "                    # TODO 5 : Process coins.\n",
        "                    if resource_checker(user_input):\n",
        "                        quarter = int(input(\"How many quarters? : \"))\n",
        "                        dimes = int(input(\"How many dimes? : \"))\n",
        "                        nickels = int(input(\"How many nickels? : \"))\n",
        "                        penny = int(input(\"How many pennies? : \"))\n",
        "                        amount = money_value(quarter, dimes, nickels, penny)\n",
        "                        if transaction_checker(user_input, amount):\n",
        "                            ref_amount = refund_amount(user_input, amount)\n",
        "                            print(f\"Here is ${ref_amount} in change.\")\n",
        "                            resources, amount_balance = make_coffee(user_input, amount_balance)\n",
        "                            print(f\"Here is your {user_input} ☕️. Enjoy!\")\n",
        "                        else:\n",
        "                            print(\"Sorry , that's not enough money! Money refunded\")\n",
        "                    else:\n",
        "                        for key, value in MENU[i][\"ingredients\"].items():\n",
        "                            if resources[key] < MENU[i][\"ingredients\"][key]:\n",
        "                                insuff = key\n",
        "                        print(f\"Insufficient Resources,not enough {insuff}\")\n",
        "        else:\n",
        "            make_report(resources, amount_balance)\n",
        "        user_input = input(\" What would you like? (espresso/latte/cappuccino): \").lower().strip()\n",
        "\n",
        "\n",
        "# define our clear_screen function\n",
        "\n",
        "from os import name, system\n",
        "\n",
        "\n",
        "def clear():\n",
        "    # for windows the name is 'nt'\n",
        "    if name == 'nt':\n",
        "        _ = system('cls')\n",
        "    else:\n",
        "        _ = system('clear_screen')\n"
      ],
      "metadata": {
        "id": "DrBp8KgCTB_N"
      },
      "execution_count": 6,
      "outputs": []
    },
    {
      "cell_type": "code",
      "source": [
        "data = MENU\n",
        "resources = resources\n",
        "money_bal = 0\n",
        "\n",
        "# TODO 1 : Prompt user by asking “ What would you like? (espresso/latte/cappuccino): ”\n",
        "user_input = input(\" What would you like? (espresso/latte/cappuccino): \").lower().strip()\n",
        "\n",
        "\n",
        "# TODO 7 : Make Coffee.\n",
        "coffee_selector(user_input,resources,money_bal)\n",
        "\n"
      ],
      "metadata": {
        "colab": {
          "base_uri": "https://localhost:8080/"
        },
        "id": "INidvMWVTIUG",
        "outputId": "2304598b-9e4f-4d0e-b5a6-d593e7b8ac38"
      },
      "execution_count": 7,
      "outputs": [
        {
          "name": "stdout",
          "output_type": "stream",
          "text": [
            " What would you like? (espresso/latte/cappuccino): latte\n",
            "How many quarters? : 10\n",
            "How many dimes? : 10\n",
            "How many nickels? : 10\n",
            "How many pennies? : 10\n",
            "Here is $1.6 in change.\n",
            "Here is your latte ☕️. Enjoy!\n",
            " What would you like? (espresso/latte/cappuccino): espresso\n",
            "How many quarters? : 10\n",
            "How many dimes? : 10\n",
            "How many nickels? : 10\n",
            "How many pennies? : 10\n",
            "Here is $2.6 in change.\n",
            "Here is your espresso ☕️. Enjoy!\n",
            " What would you like? (espresso/latte/cappuccino): report\n",
            "Here is your Report \n",
            " Water = 50ml,\n",
            " Milk = 50ml \n",
            " Coffee = 58g \n",
            " Amount = $4.0\n",
            " What would you like? (espresso/latte/cappuccino): cappuccino\n",
            "Insufficient Resources,not enough milk\n",
            " What would you like? (espresso/latte/cappuccino): latte\n",
            "Insufficient Resources,not enough milk\n",
            " What would you like? (espresso/latte/cappuccino): espresso\n",
            "How many quarters? : 10\n",
            "How many dimes? : 10\n",
            "How many nickels? : 10\n",
            "How many pennies? : 10\n",
            "Here is $2.6 in change.\n",
            "Here is your espresso ☕️. Enjoy!\n",
            " What would you like? (espresso/latte/cappuccino): report\n",
            "Here is your Report \n",
            " Water = 0ml,\n",
            " Milk = 50ml \n",
            " Coffee = 40g \n",
            " Amount = $5.5\n",
            " What would you like? (espresso/latte/cappuccino): off\n"
          ]
        }
      ]
    }
  ]
}