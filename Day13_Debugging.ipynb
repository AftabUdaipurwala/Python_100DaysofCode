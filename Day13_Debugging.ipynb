{
  "nbformat": 4,
  "nbformat_minor": 0,
  "metadata": {
    "colab": {
      "name": "Day13_Debugging.ipynb",
      "provenance": [],
      "collapsed_sections": [],
      "authorship_tag": "ABX9TyOTjPtCtS1sP6rNBeBZ9+Hb",
      "include_colab_link": true
    },
    "kernelspec": {
      "name": "python3",
      "display_name": "Python 3"
    },
    "language_info": {
      "name": "python"
    }
  },
  "cells": [
    {
      "cell_type": "markdown",
      "metadata": {
        "id": "view-in-github",
        "colab_type": "text"
      },
      "source": [
        "<a href=\"https://colab.research.google.com/github/AftabUdaipurwala/Python_100DaysofCode/blob/main/Day13_Debugging.ipynb\" target=\"_parent\"><img src=\"https://colab.research.google.com/assets/colab-badge.svg\" alt=\"Open In Colab\"/></a>"
      ]
    },
    {
      "cell_type": "markdown",
      "source": [
        "# Debugging Fundamentals"
      ],
      "metadata": {
        "id": "eumiuGYIGgHm"
      }
    },
    {
      "cell_type": "markdown",
      "source": [
        "###########DEBUGGING#####################\n",
        "\n",
        "```\n",
        "\n",
        "# Describe Problem\n",
        "def my_function():\n",
        "  for i in range(1, 20):\n",
        "    if i == 20:\n",
        "      print(\"You got it\")\n",
        "my_function()\n",
        "\n",
        "\n",
        "\n",
        "\n",
        "\n",
        "# Reproduce the Bug\n",
        "from random import randint\n",
        "dice_imgs = [\"❶\", \"❷\", \"❸\", \"❹\", \"❺\", \"❻\"]\n",
        "dice_num = randint(1, 6)\n",
        "print(dice_imgs[dice_num])\n",
        "\n",
        "# Play Computer\n",
        "year = int(input(\"What's your year of birth?\"))\n",
        "if year > 1980 and year < 1994:\n",
        "  print(\"You are a millenial.\")\n",
        "elif year > 1994:\n",
        "  print(\"You are a Gen Z.\")\n",
        "\n",
        "# Fix the Errors\n",
        "age = input(\"How old are you?\")\n",
        "if age > 18:\n",
        "print(\"You can drive at age {age}.\")\n",
        "\n",
        "#Print is Your Friend\n",
        "pages = 0\n",
        "word_per_page = 0\n",
        "pages = int(input(\"Number of pages: \"))\n",
        "word_per_page == int(input(\"Number of words per page: \"))\n",
        "total_words = pages * word_per_page\n",
        "print(total_words)\n",
        "\n",
        "#Use a Debugger\n",
        "def mutate(a_list):\n",
        "  b_list = []\n",
        "  for item in a_list:\n",
        "    new_item = item * 2\n",
        "  b_list.append(new_item)\n",
        "  print(b_list)\n",
        "\n",
        "mutate([1,2,3,5,8,13])\n",
        "\n",
        "```\n"
      ],
      "metadata": {
        "id": "xCh5xHbgAFEV"
      }
    },
    {
      "cell_type": "markdown",
      "source": [
        "<!-- ############DEBUGGING#####################\n",
        "\n",
        "# # Describe Problem\n",
        "# def my_function():\n",
        "#   for i in range(1, 20):\n",
        "#     if i == 20:\n",
        "#       print(\"You got it\")\n",
        "# my_function()\n",
        "\n",
        "# # Reproduce the Bug\n",
        "# from random import randint\n",
        "# dice_imgs = [\"❶\", \"❷\", \"❸\", \"❹\", \"❺\", \"❻\"]\n",
        "# dice_num = randint(1, 6)\n",
        "# print(dice_imgs[dice_num])\n",
        "\n",
        "# # Play Computer\n",
        "# year = int(input(\"What's your year of birth?\"))\n",
        "# if year > 1980 and year < 1994:\n",
        "#   print(\"You are a millenial.\")\n",
        "# elif year > 1994:\n",
        "#   print(\"You are a Gen Z.\")\n",
        "\n",
        "# # Fix the Errors\n",
        "# age = input(\"How old are you?\")\n",
        "# if age > 18:\n",
        "# print(\"You can drive at age {age}.\")\n",
        "\n",
        "# #Print is Your Friend\n",
        "# pages = 0\n",
        "# word_per_page = 0\n",
        "# pages = int(input(\"Number of pages: \"))\n",
        "# word_per_page == int(input(\"Number of words per page: \"))\n",
        "# total_words = pages * word_per_page\n",
        "# print(total_words)\n",
        "\n",
        "# #Use a Debugger\n",
        "# def mutate(a_list):\n",
        "#   b_list = []\n",
        "#   for item in a_list:\n",
        "#     new_item = item * 2\n",
        "#   b_list.append(new_item)\n",
        "#   print(b_list)\n",
        "\n",
        "# mutate([1,2,3,5,8,13]) -->"
      ],
      "metadata": {
        "id": "6gH5J_3xAEtr"
      }
    },
    {
      "cell_type": "markdown",
      "source": [
        "# Describe Problem"
      ],
      "metadata": {
        "id": "Upg2CkKo3Dl_"
      }
    },
    {
      "cell_type": "code",
      "execution_count": 1,
      "metadata": {
        "id": "imAVMkdcGdzi",
        "colab": {
          "base_uri": "https://localhost:8080/"
        },
        "outputId": "fe70fb08-6f45-4e93-ee8a-78712632232c"
      },
      "outputs": [
        {
          "output_type": "stream",
          "name": "stdout",
          "text": [
            "You got it\n"
          ]
        }
      ],
      "source": [
        "\n",
        "def my_function():\n",
        "  for i in range(1, 21):  # changed the end of range from 20 to 21 as 20 is not included if end is mentioned as\n",
        "                          # 20 hence we are not getting any outputs\n",
        "    if i == 20:\n",
        "      print(\"You got it\")\n",
        "my_function()"
      ]
    },
    {
      "cell_type": "markdown",
      "source": [
        "#  Reproduce the Bug"
      ],
      "metadata": {
        "id": "3JkpkFIa3GMU"
      }
    },
    {
      "cell_type": "code",
      "source": [
        "from random import randint\n",
        "dice_imgs = [\"❶\", \"❷\", \"❸\", \"❹\", \"❺\", \"❻\"]\n",
        "dice_num = randint(0, 5) # changing the range from 1 to 6 to 0 to 5 as list always starts with 0 and ends at 1 less than ending number hence at 5\n",
        "print(dice_imgs[dice_num])"
      ],
      "metadata": {
        "colab": {
          "base_uri": "https://localhost:8080/"
        },
        "id": "GEL_wrPv2zQ3",
        "outputId": "ed16c84c-378e-4c9b-c306-be7f085c53df"
      },
      "execution_count": 29,
      "outputs": [
        {
          "output_type": "stream",
          "name": "stdout",
          "text": [
            "❺\n"
          ]
        }
      ]
    },
    {
      "cell_type": "markdown",
      "source": [
        "# Play Computer"
      ],
      "metadata": {
        "id": "6MdtHWNb40iz"
      }
    },
    {
      "cell_type": "code",
      "source": [
        "year = int(input(\"What's your year of birth?\"))\n",
        "if year > 1980 and year < 1994:\n",
        "  print(\"You are a millenial.\")\n",
        "elif year >= 1994:# since '=' sign was missing hence 1994 wasnt working \n",
        "  print(\"You are a Gen Z.\")"
      ],
      "metadata": {
        "colab": {
          "base_uri": "https://localhost:8080/"
        },
        "id": "gP8uK3Zn41t5",
        "outputId": "39fe740a-151b-466f-a16f-3aa248d3a348"
      },
      "execution_count": 31,
      "outputs": [
        {
          "output_type": "stream",
          "name": "stdout",
          "text": [
            "What's your year of birth?1994\n",
            "You are a Gen Z.\n"
          ]
        }
      ]
    },
    {
      "cell_type": "markdown",
      "source": [
        "# Fix the Errors\n"
      ],
      "metadata": {
        "id": "BFrGpsCQ6f1z"
      }
    },
    {
      "cell_type": "code",
      "source": [
        "age = int(input(\"How old are you?\")) # make the age here as integer as by default it is string\n",
        "if age > 18:\n",
        "  print(f\"You can drive at age {age}.\")# indent it in case of if loop also f string is missing"
      ],
      "metadata": {
        "colab": {
          "base_uri": "https://localhost:8080/"
        },
        "id": "ae_YMUK46hJi",
        "outputId": "67d5148c-c248-4f96-9274-906a6e008cb9"
      },
      "execution_count": 33,
      "outputs": [
        {
          "output_type": "stream",
          "name": "stdout",
          "text": [
            "How old are you?36\n",
            "You can drive at age 36.\n"
          ]
        }
      ]
    },
    {
      "cell_type": "markdown",
      "source": [
        "#Print is Your Friend"
      ],
      "metadata": {
        "id": "0hKSSobw9H-G"
      }
    },
    {
      "cell_type": "code",
      "source": [
        "pages = 0\n",
        "word_per_page = 0\n",
        "pages = int(input(\"Number of pages: \"))\n",
        "print(pages)\n",
        "word_per_page = int(input(\"Number of words per page: \")) # remove the double equal '==' to sign from here \n",
        "print(word_per_page)\n",
        "total_words = pages * word_per_page\n",
        "\n",
        "print(total_words)"
      ],
      "metadata": {
        "colab": {
          "base_uri": "https://localhost:8080/"
        },
        "id": "q-9bH_bY9Izt",
        "outputId": "caf793a3-0216-4e4d-e948-6aabe55058e7"
      },
      "execution_count": 37,
      "outputs": [
        {
          "output_type": "stream",
          "name": "stdout",
          "text": [
            "Number of pages: 20\n",
            "20\n",
            "Number of words per page: 200\n",
            "200\n",
            "4000\n"
          ]
        }
      ]
    },
    {
      "cell_type": "markdown",
      "source": [
        "#Use a Debugger\n"
      ],
      "metadata": {
        "id": "TYQ92zCt-XIt"
      }
    },
    {
      "cell_type": "code",
      "source": [
        "def mutate(a_list):\n",
        "  b_list = []\n",
        "  for item in a_list:\n",
        "    new_item = item * 2\n",
        "    b_list.append(new_item) # use indentation after seeing the debugger on the www.pythontutor.com \n",
        "  print(b_list)\n",
        "\n",
        "mutate([1,2,3,5,8,13])"
      ],
      "metadata": {
        "colab": {
          "base_uri": "https://localhost:8080/"
        },
        "id": "0XKvjY_p-Xy0",
        "outputId": "ab9cf1ed-aa00-4f5e-c661-1705801c3072"
      },
      "execution_count": 39,
      "outputs": [
        {
          "output_type": "stream",
          "name": "stdout",
          "text": [
            "[2, 4, 6, 10, 16, 26]\n"
          ]
        }
      ]
    },
    {
      "cell_type": "markdown",
      "source": [
        "# Exercise 1 - Debugging Odd or Even "
      ],
      "metadata": {
        "id": "2h-cRApVEXWx"
      }
    },
    {
      "cell_type": "code",
      "source": [
        "number = int(input(\"Which number do you want to check?\"))\n",
        "\n",
        "if number % 2 == 0: # here it was simple, just a double equal to '==' sign is missing \n",
        "  print(\"This is an even number.\")\n",
        "else:\n",
        "  print(\"This is an odd number.\")\n",
        "  "
      ],
      "metadata": {
        "colab": {
          "base_uri": "https://localhost:8080/"
        },
        "id": "L3jfsvtOEZHp",
        "outputId": "f92d8a86-6026-4c0b-f7f5-29deab4f1759"
      },
      "execution_count": 40,
      "outputs": [
        {
          "output_type": "stream",
          "name": "stdout",
          "text": [
            "Which number do you want to check?20\n",
            "This is an even number.\n"
          ]
        }
      ]
    },
    {
      "cell_type": "markdown",
      "source": [
        "# Exercise 2 - Debugging Leap Year"
      ],
      "metadata": {
        "id": "yV1Cy6kyEyO4"
      }
    },
    {
      "cell_type": "code",
      "source": [
        "year = int(input(\"Which year do you want to check?\"))\n",
        "\n",
        "if year % 4 == 0:\n",
        "  if year % 100 == 0:\n",
        "    if year % 400 == 0:\n",
        "      print(\"Leap year.\")\n",
        "    else:\n",
        "      print(\"Not leap year.\")\n",
        "  else:\n",
        "    print(\"Leap year.\")\n",
        "else:\n",
        "  print(\"Not leap year.\")"
      ],
      "metadata": {
        "colab": {
          "base_uri": "https://localhost:8080/"
        },
        "id": "Qzxr-j5gEz9Y",
        "outputId": "d8054f31-aeab-48f5-ceaf-c055dc2b9273"
      },
      "execution_count": 45,
      "outputs": [
        {
          "output_type": "stream",
          "name": "stdout",
          "text": [
            "Which year do you want to check?2000\n",
            "Leap year.\n"
          ]
        }
      ]
    },
    {
      "cell_type": "markdown",
      "source": [
        "#Exercise 3 - Debugging FizzBuzz"
      ],
      "metadata": {
        "id": "szArJ9olFTWy"
      }
    },
    {
      "cell_type": "code",
      "source": [
        "for number in range(1, 101):\n",
        "  if number % 3 == 0 and number % 5 == 0: # changed or condition to and condition\n",
        "    print(\"FizzBuzz\")\n",
        "  elif number % 3 == 0:\n",
        "    print(\"Fizz\")\n",
        "  elif number % 5 == 0:\n",
        "    print(\"Buzz\")\n",
        "  else:\n",
        "    print(number) # removed brackets "
      ],
      "metadata": {
        "colab": {
          "base_uri": "https://localhost:8080/"
        },
        "id": "Wp17AjkHFUc_",
        "outputId": "a674b940-e68c-4229-ee42-c5be5fe3dbc0"
      },
      "execution_count": 49,
      "outputs": [
        {
          "output_type": "stream",
          "name": "stdout",
          "text": [
            "1\n",
            "2\n",
            "Fizz\n",
            "4\n",
            "Buzz\n",
            "Fizz\n",
            "7\n",
            "8\n",
            "Fizz\n",
            "Buzz\n",
            "11\n",
            "Fizz\n",
            "13\n",
            "14\n",
            "FizzBuzz\n",
            "16\n",
            "17\n",
            "Fizz\n",
            "19\n",
            "Buzz\n",
            "Fizz\n",
            "22\n",
            "23\n",
            "Fizz\n",
            "Buzz\n",
            "26\n",
            "Fizz\n",
            "28\n",
            "29\n",
            "FizzBuzz\n",
            "31\n",
            "32\n",
            "Fizz\n",
            "34\n",
            "Buzz\n",
            "Fizz\n",
            "37\n",
            "38\n",
            "Fizz\n",
            "Buzz\n",
            "41\n",
            "Fizz\n",
            "43\n",
            "44\n",
            "FizzBuzz\n",
            "46\n",
            "47\n",
            "Fizz\n",
            "49\n",
            "Buzz\n",
            "Fizz\n",
            "52\n",
            "53\n",
            "Fizz\n",
            "Buzz\n",
            "56\n",
            "Fizz\n",
            "58\n",
            "59\n",
            "FizzBuzz\n",
            "61\n",
            "62\n",
            "Fizz\n",
            "64\n",
            "Buzz\n",
            "Fizz\n",
            "67\n",
            "68\n",
            "Fizz\n",
            "Buzz\n",
            "71\n",
            "Fizz\n",
            "73\n",
            "74\n",
            "FizzBuzz\n",
            "76\n",
            "77\n",
            "Fizz\n",
            "79\n",
            "Buzz\n",
            "Fizz\n",
            "82\n",
            "83\n",
            "Fizz\n",
            "Buzz\n",
            "86\n",
            "Fizz\n",
            "88\n",
            "89\n",
            "FizzBuzz\n",
            "91\n",
            "92\n",
            "Fizz\n",
            "94\n",
            "Buzz\n",
            "Fizz\n",
            "97\n",
            "98\n",
            "Fizz\n",
            "Buzz\n"
          ]
        }
      ]
    }
  ]
}