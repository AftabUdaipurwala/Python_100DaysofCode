{
  "nbformat": 4,
  "nbformat_minor": 0,
  "metadata": {
    "colab": {
      "name": "Day10_FunctionswithOutput.ipynb",
      "provenance": [],
      "collapsed_sections": [],
      "authorship_tag": "ABX9TyN7WFKh5AIVlka5nHgbaMPU",
      "include_colab_link": true
    },
    "kernelspec": {
      "name": "python3",
      "display_name": "Python 3"
    },
    "language_info": {
      "name": "python"
    }
  },
  "cells": [
    {
      "cell_type": "markdown",
      "metadata": {
        "id": "view-in-github",
        "colab_type": "text"
      },
      "source": [
        "<a href=\"https://colab.research.google.com/github/AftabUdaipurwala/Python_100DaysofCode/blob/main/Day10_FunctionswithOutput.ipynb\" target=\"_parent\"><img src=\"https://colab.research.google.com/assets/colab-badge.svg\" alt=\"Open In Colab\"/></a>"
      ]
    },
    {
      "cell_type": "markdown",
      "source": [
        "# Function with outputs"
      ],
      "metadata": {
        "id": "rzPTzV4GFZaZ"
      }
    },
    {
      "cell_type": "code",
      "execution_count": 2,
      "metadata": {
        "id": "WYv9KcqQI4H_"
      },
      "outputs": [],
      "source": [
        "def format_name(fname,lname):\n",
        "    fname = fname.title()\n",
        "    lname = lname.title()\n",
        "    return f\"{fname} {lname}\"\n"
      ]
    },
    {
      "cell_type": "code",
      "source": [
        "output = format_name(\"AFTAB\",\"UdaipURWALA\")\n",
        "print(output)"
      ],
      "metadata": {
        "colab": {
          "base_uri": "https://localhost:8080/"
        },
        "id": "Yf0FMas9F1-M",
        "outputId": "43dccb3b-6630-4a6f-ff2d-911cc58979f7"
      },
      "execution_count": 3,
      "outputs": [
        {
          "output_type": "stream",
          "name": "stdout",
          "text": [
            "Aftab Udaipurwala\n"
          ]
        }
      ]
    },
    {
      "cell_type": "markdown",
      "source": [
        "#Exercise 1 - Days in Month"
      ],
      "metadata": {
        "id": "cF1AemIxK6XL"
      }
    },
    {
      "cell_type": "markdown",
      "source": [
        "***Instructions***\n",
        "\n",
        "\n",
        "In the starting code, you'll find the solution from the Leap Year challenge. First, convert this function is_leap() so that instead of printing \"Leap year.\" or \"Not leap year.\" it should return True if it is a leap year and return False if it is not a leap year.\n",
        "\n",
        "You are then going to create a function called days_in_month() which will take a year and a month as inputs, e.g.\n",
        "\n",
        "\n",
        "\n",
        "\n",
        "```\n",
        "days_in_month(year=2022, month=2)\n",
        "```\n",
        "\n",
        "\n",
        "\n",
        "And it will use this information to work out the number of days in the month, then return that as the output, e.g.:\n",
        "\n",
        "`28`\n",
        "\n",
        "The List month_days contains the number of days in a month from January to December for a non-leap year. A leap year has 29 days in February.\n",
        "\n",
        "***Hint***\n",
        "\n",
        "Look at the function call at the bottom of the code to see the positional arguments. The order is very important.\n",
        "\n",
        "Feel free to choose your own parameter names.\n",
        "\n",
        "Remember that month_days is a List and Lists in Python start at position 0. So the number of days in January is month_days[0]\n",
        "\n",
        "Be careful with indentation."
      ],
      "metadata": {
        "id": "wcT3TpS3K7dt"
      }
    },
    {
      "cell_type": "code",
      "source": [
        "def is_leap(year):\n",
        "  if year % 4 == 0:\n",
        "    if year % 100 == 0:\n",
        "      if year % 400 == 0:\n",
        "        return True\n",
        "      else:\n",
        "        return False\n",
        "    else:\n",
        "      return True\n",
        "  else:\n",
        "    return False\n",
        "\n",
        "def days_in_month(year,month):\n",
        "    month_days = [31, 28, 31, 30, 31, 30, 31, 31, 30, 31, 30, 31]\n",
        "    if is_leap(year) and month==2:\n",
        "        return 29\n",
        "    else:\n",
        "        return month_days[month-1]\n",
        "\n",
        "  \n",
        "  \n",
        "#🚨 Do NOT change any of the code below \n",
        "year = int(input(\"Enter a year: \"))\n",
        "month = int(input(\"Enter a month: \"))\n",
        "days = days_in_month(year, month)\n",
        "print(days)\n",
        "\n",
        "\n",
        "\n",
        "\n",
        "\n",
        "\n",
        "\n"
      ],
      "metadata": {
        "colab": {
          "base_uri": "https://localhost:8080/"
        },
        "id": "l0gATuSFLESy",
        "outputId": "2efd5ce4-6e95-4817-a82c-fd96b7ddf7c1"
      },
      "execution_count": 7,
      "outputs": [
        {
          "output_type": "stream",
          "name": "stdout",
          "text": [
            "Enter a year: 2021\n",
            "Enter a month: 2\n",
            "28\n"
          ]
        }
      ]
    },
    {
      "cell_type": "code",
      "source": [
        "def outer_function(a, b):\n",
        "    def inner_function(c, d):\n",
        "        return c + d\n",
        "    return inner_function(a, b)\n",
        " \n",
        "result = outer_function(5, 10)\n",
        "print(result)"
      ],
      "metadata": {
        "colab": {
          "base_uri": "https://localhost:8080/"
        },
        "id": "WeEi_pUvQX1e",
        "outputId": "87834f50-5db1-4876-f0bb-a3773ac2c8e4"
      },
      "execution_count": 8,
      "outputs": [
        {
          "output_type": "stream",
          "name": "stdout",
          "text": [
            "15\n"
          ]
        }
      ]
    },
    {
      "cell_type": "markdown",
      "source": [
        "# Project Calculator"
      ],
      "metadata": {
        "id": "UXCZNuotQux_"
      }
    },
    {
      "cell_type": "markdown",
      "source": [
        "## Functions"
      ],
      "metadata": {
        "id": "wj8fyFTCa_XN"
      }
    },
    {
      "cell_type": "markdown",
      "source": [
        "![Calculator.jpg](data:image/jpeg;base64,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)"
      ],
      "metadata": {
        "id": "5ZmCJE1lb1YL"
      }
    },
    {
      "cell_type": "code",
      "source": [
        "def add(a,b):\n",
        "    return a+b\n",
        "def sub(a,b):\n",
        "    return a-b\n",
        "def mul(a,b):\n",
        "    return a*b\n",
        "def div(a,b):\n",
        "    return a/b\n",
        "\n",
        "calculator_dict ={\n",
        "    '+':add,\n",
        "    '-':sub,\n",
        "    '/':div,\n",
        "    '*':mul\n",
        "}\n",
        "\n",
        "def pick_operation(operator,first_num,sec_num):\n",
        "    operation = calculator_dict[operator]\n",
        "    return operation(first_num,sec_num)\n",
        "\n",
        "def calculate_2nd_num(first_num):\n",
        "    print('Pick an Operation : ')\n",
        "    for i in calculator_dict.keys():\n",
        "        print(i)\n",
        "    operation = input()\n",
        "    sec_num = float(input(\"What's the next number? :\"))\n",
        "    result = pick_operation(operation, first_num, sec_num)\n",
        "    if result != 'Invalid Operation':\n",
        "        print(f\"{first_num} {operation} {sec_num}= {result}\")\n",
        "        cont = input(f\"Type 'y' to continue with {result} or type 'n' to start a new calculation : \")\n",
        "        return result,cont"
      ],
      "metadata": {
        "id": "48YkH7dnQwRY"
      },
      "execution_count": 9,
      "outputs": []
    },
    {
      "cell_type": "markdown",
      "source": [
        "## Code"
      ],
      "metadata": {
        "id": "sXq5KfYXbCTE"
      }
    },
    {
      "cell_type": "code",
      "source": [
        "cont='n'\n",
        "while cont=='n':\n",
        "    first_num = float(input(\"What's the first number? :\"))\n",
        "    result,cont= calculate_2nd_num(first_num)\n",
        "    while cont == 'y':\n",
        "        first_num = result\n",
        "        result,cont= calculate_2nd_num(first_num)"
      ],
      "metadata": {
        "colab": {
          "base_uri": "https://localhost:8080/",
          "height": 606
        },
        "id": "WohgHiN4bDtE",
        "outputId": "4e1bf854-ca2b-489b-b336-59710f0d2ebe"
      },
      "execution_count": 10,
      "outputs": [
        {
          "name": "stdout",
          "output_type": "stream",
          "text": [
            "What's the first number? :20\n",
            "Pick an Operation : *\n",
            "What's the next number? :20\n",
            "Type 'y' to continue with 400.0 or type 'n' to start a new calculation : n\n"
          ]
        },
        {
          "output_type": "error",
          "ename": "KeyboardInterrupt",
          "evalue": "ignored",
          "traceback": [
            "\u001b[0;31m---------------------------------------------------------------------------\u001b[0m",
            "\u001b[0;31mKeyboardInterrupt\u001b[0m                         Traceback (most recent call last)",
            "\u001b[0;32m/usr/local/lib/python3.7/dist-packages/ipykernel/kernelbase.py\u001b[0m in \u001b[0;36m_input_request\u001b[0;34m(self, prompt, ident, parent, password)\u001b[0m\n\u001b[1;32m    728\u001b[0m             \u001b[0;32mtry\u001b[0m\u001b[0;34m:\u001b[0m\u001b[0;34m\u001b[0m\u001b[0;34m\u001b[0m\u001b[0m\n\u001b[0;32m--> 729\u001b[0;31m                 \u001b[0mident\u001b[0m\u001b[0;34m,\u001b[0m \u001b[0mreply\u001b[0m \u001b[0;34m=\u001b[0m \u001b[0mself\u001b[0m\u001b[0;34m.\u001b[0m\u001b[0msession\u001b[0m\u001b[0;34m.\u001b[0m\u001b[0mrecv\u001b[0m\u001b[0;34m(\u001b[0m\u001b[0mself\u001b[0m\u001b[0;34m.\u001b[0m\u001b[0mstdin_socket\u001b[0m\u001b[0;34m,\u001b[0m \u001b[0;36m0\u001b[0m\u001b[0;34m)\u001b[0m\u001b[0;34m\u001b[0m\u001b[0;34m\u001b[0m\u001b[0m\n\u001b[0m\u001b[1;32m    730\u001b[0m             \u001b[0;32mexcept\u001b[0m \u001b[0mException\u001b[0m\u001b[0;34m:\u001b[0m\u001b[0;34m\u001b[0m\u001b[0;34m\u001b[0m\u001b[0m\n",
            "\u001b[0;32m/usr/local/lib/python3.7/dist-packages/jupyter_client/session.py\u001b[0m in \u001b[0;36mrecv\u001b[0;34m(self, socket, mode, content, copy)\u001b[0m\n\u001b[1;32m    802\u001b[0m         \u001b[0;32mtry\u001b[0m\u001b[0;34m:\u001b[0m\u001b[0;34m\u001b[0m\u001b[0;34m\u001b[0m\u001b[0m\n\u001b[0;32m--> 803\u001b[0;31m             \u001b[0mmsg_list\u001b[0m \u001b[0;34m=\u001b[0m \u001b[0msocket\u001b[0m\u001b[0;34m.\u001b[0m\u001b[0mrecv_multipart\u001b[0m\u001b[0;34m(\u001b[0m\u001b[0mmode\u001b[0m\u001b[0;34m,\u001b[0m \u001b[0mcopy\u001b[0m\u001b[0;34m=\u001b[0m\u001b[0mcopy\u001b[0m\u001b[0;34m)\u001b[0m\u001b[0;34m\u001b[0m\u001b[0;34m\u001b[0m\u001b[0m\n\u001b[0m\u001b[1;32m    804\u001b[0m         \u001b[0;32mexcept\u001b[0m \u001b[0mzmq\u001b[0m\u001b[0;34m.\u001b[0m\u001b[0mZMQError\u001b[0m \u001b[0;32mas\u001b[0m \u001b[0me\u001b[0m\u001b[0;34m:\u001b[0m\u001b[0;34m\u001b[0m\u001b[0;34m\u001b[0m\u001b[0m\n",
            "\u001b[0;32m/usr/local/lib/python3.7/dist-packages/zmq/sugar/socket.py\u001b[0m in \u001b[0;36mrecv_multipart\u001b[0;34m(self, flags, copy, track)\u001b[0m\n\u001b[1;32m    726\u001b[0m         \"\"\"\n\u001b[0;32m--> 727\u001b[0;31m         \u001b[0mparts\u001b[0m \u001b[0;34m=\u001b[0m \u001b[0;34m[\u001b[0m\u001b[0mself\u001b[0m\u001b[0;34m.\u001b[0m\u001b[0mrecv\u001b[0m\u001b[0;34m(\u001b[0m\u001b[0mflags\u001b[0m\u001b[0;34m,\u001b[0m \u001b[0mcopy\u001b[0m\u001b[0;34m=\u001b[0m\u001b[0mcopy\u001b[0m\u001b[0;34m,\u001b[0m \u001b[0mtrack\u001b[0m\u001b[0;34m=\u001b[0m\u001b[0mtrack\u001b[0m\u001b[0;34m)\u001b[0m\u001b[0;34m]\u001b[0m\u001b[0;34m\u001b[0m\u001b[0;34m\u001b[0m\u001b[0m\n\u001b[0m\u001b[1;32m    728\u001b[0m         \u001b[0;31m# have first part already, only loop while more to receive\u001b[0m\u001b[0;34m\u001b[0m\u001b[0;34m\u001b[0m\u001b[0;34m\u001b[0m\u001b[0m\n",
            "\u001b[0;32mzmq/backend/cython/socket.pyx\u001b[0m in \u001b[0;36mzmq.backend.cython.socket.Socket.recv\u001b[0;34m()\u001b[0m\n",
            "\u001b[0;32mzmq/backend/cython/socket.pyx\u001b[0m in \u001b[0;36mzmq.backend.cython.socket.Socket.recv\u001b[0;34m()\u001b[0m\n",
            "\u001b[0;32mzmq/backend/cython/socket.pyx\u001b[0m in \u001b[0;36mzmq.backend.cython.socket._recv_copy\u001b[0;34m()\u001b[0m\n",
            "\u001b[0;32m/usr/local/lib/python3.7/dist-packages/zmq/backend/cython/checkrc.pxd\u001b[0m in \u001b[0;36mzmq.backend.cython.checkrc._check_rc\u001b[0;34m()\u001b[0m\n",
            "\u001b[0;31mKeyboardInterrupt\u001b[0m: ",
            "\nDuring handling of the above exception, another exception occurred:\n",
            "\u001b[0;31mKeyboardInterrupt\u001b[0m                         Traceback (most recent call last)",
            "\u001b[0;32m<ipython-input-10-475614c7e065>\u001b[0m in \u001b[0;36m<module>\u001b[0;34m()\u001b[0m\n\u001b[1;32m      1\u001b[0m \u001b[0mcont\u001b[0m\u001b[0;34m=\u001b[0m\u001b[0;34m'n'\u001b[0m\u001b[0;34m\u001b[0m\u001b[0;34m\u001b[0m\u001b[0m\n\u001b[1;32m      2\u001b[0m \u001b[0;32mwhile\u001b[0m \u001b[0mcont\u001b[0m\u001b[0;34m==\u001b[0m\u001b[0;34m'n'\u001b[0m\u001b[0;34m:\u001b[0m\u001b[0;34m\u001b[0m\u001b[0;34m\u001b[0m\u001b[0m\n\u001b[0;32m----> 3\u001b[0;31m     \u001b[0mfirst_num\u001b[0m \u001b[0;34m=\u001b[0m \u001b[0mfloat\u001b[0m\u001b[0;34m(\u001b[0m\u001b[0minput\u001b[0m\u001b[0;34m(\u001b[0m\u001b[0;34m\"What's the first number? :\"\u001b[0m\u001b[0;34m)\u001b[0m\u001b[0;34m)\u001b[0m\u001b[0;34m\u001b[0m\u001b[0;34m\u001b[0m\u001b[0m\n\u001b[0m\u001b[1;32m      4\u001b[0m     \u001b[0moperation\u001b[0m \u001b[0;34m=\u001b[0m \u001b[0minput\u001b[0m\u001b[0;34m(\u001b[0m\u001b[0;34m'Pick an Operation : '\u001b[0m\u001b[0;34m)\u001b[0m\u001b[0;34m\u001b[0m\u001b[0;34m\u001b[0m\u001b[0m\n\u001b[1;32m      5\u001b[0m     \u001b[0msec_num\u001b[0m \u001b[0;34m=\u001b[0m \u001b[0mfloat\u001b[0m\u001b[0;34m(\u001b[0m\u001b[0minput\u001b[0m\u001b[0;34m(\u001b[0m\u001b[0;34m\"What's the next number? :\"\u001b[0m\u001b[0;34m)\u001b[0m\u001b[0;34m)\u001b[0m\u001b[0;34m\u001b[0m\u001b[0;34m\u001b[0m\u001b[0m\n",
            "\u001b[0;32m/usr/local/lib/python3.7/dist-packages/ipykernel/kernelbase.py\u001b[0m in \u001b[0;36mraw_input\u001b[0;34m(self, prompt)\u001b[0m\n\u001b[1;32m    702\u001b[0m             \u001b[0mself\u001b[0m\u001b[0;34m.\u001b[0m\u001b[0m_parent_ident\u001b[0m\u001b[0;34m,\u001b[0m\u001b[0;34m\u001b[0m\u001b[0;34m\u001b[0m\u001b[0m\n\u001b[1;32m    703\u001b[0m             \u001b[0mself\u001b[0m\u001b[0;34m.\u001b[0m\u001b[0m_parent_header\u001b[0m\u001b[0;34m,\u001b[0m\u001b[0;34m\u001b[0m\u001b[0;34m\u001b[0m\u001b[0m\n\u001b[0;32m--> 704\u001b[0;31m             \u001b[0mpassword\u001b[0m\u001b[0;34m=\u001b[0m\u001b[0;32mFalse\u001b[0m\u001b[0;34m,\u001b[0m\u001b[0;34m\u001b[0m\u001b[0;34m\u001b[0m\u001b[0m\n\u001b[0m\u001b[1;32m    705\u001b[0m         )\n\u001b[1;32m    706\u001b[0m \u001b[0;34m\u001b[0m\u001b[0m\n",
            "\u001b[0;32m/usr/local/lib/python3.7/dist-packages/ipykernel/kernelbase.py\u001b[0m in \u001b[0;36m_input_request\u001b[0;34m(self, prompt, ident, parent, password)\u001b[0m\n\u001b[1;32m    732\u001b[0m             \u001b[0;32mexcept\u001b[0m \u001b[0mKeyboardInterrupt\u001b[0m\u001b[0;34m:\u001b[0m\u001b[0;34m\u001b[0m\u001b[0;34m\u001b[0m\u001b[0m\n\u001b[1;32m    733\u001b[0m                 \u001b[0;31m# re-raise KeyboardInterrupt, to truncate traceback\u001b[0m\u001b[0;34m\u001b[0m\u001b[0;34m\u001b[0m\u001b[0;34m\u001b[0m\u001b[0m\n\u001b[0;32m--> 734\u001b[0;31m                 \u001b[0;32mraise\u001b[0m \u001b[0mKeyboardInterrupt\u001b[0m\u001b[0;34m\u001b[0m\u001b[0;34m\u001b[0m\u001b[0m\n\u001b[0m\u001b[1;32m    735\u001b[0m             \u001b[0;32melse\u001b[0m\u001b[0;34m:\u001b[0m\u001b[0;34m\u001b[0m\u001b[0;34m\u001b[0m\u001b[0m\n\u001b[1;32m    736\u001b[0m                 \u001b[0;32mbreak\u001b[0m\u001b[0;34m\u001b[0m\u001b[0;34m\u001b[0m\u001b[0m\n",
            "\u001b[0;31mKeyboardInterrupt\u001b[0m: "
          ]
        }
      ]
    }
  ]
}