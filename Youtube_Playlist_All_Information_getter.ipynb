{
 "cells": [
  {
   "cell_type": "markdown",
   "source": "# Youtube Playlist Info",
   "metadata": {
    "formattedRanges": [],
    "cell_id": "4af371ea12f040fb87255995f0f03e9e",
    "tags": [],
    "is_collapsed": false,
    "deepnote_app_coordinates": {
     "x": 0,
     "y": 0,
     "w": 12,
     "h": 5
    },
    "deepnote_cell_type": "text-cell-h1"
   }
  },
  {
   "cell_type": "markdown",
   "source": "Get all the information you need for  a playlist and save it as an excel or email it as you need",
   "metadata": {
    "formattedRanges": [],
    "cell_id": "680279ab365d4a69a884081a9f5b934d",
    "tags": [],
    "is_collapsed": false,
    "deepnote_cell_type": "text-cell-p"
   }
  },
  {
   "cell_type": "markdown",
   "source": "## Enter URL Here",
   "metadata": {
    "formattedRanges": [],
    "cell_id": "b03f86918a894ea49fade8dcea07a97d",
    "tags": [],
    "is_collapsed": false,
    "deepnote_cell_type": "text-cell-h2"
   }
  },
  {
   "cell_type": "code",
   "metadata": {
    "cell_id": "e7b6cd7a1a464d2daf93aef2947251e2",
    "deepnote_variable_name": "url",
    "deepnote_variable_value": "https://www.youtube.com/playlist?list=PL568547ACA9211CCA",
    "deepnote_to_be_reexecuted": false,
    "source_hash": "bd3c1204",
    "execution_start": 1656649469324,
    "execution_millis": 42,
    "deepnote_app_coordinates": {
     "x": 0,
     "y": 5,
     "w": 8,
     "h": 4
    },
    "deepnote_cell_type": "input-text"
   },
   "source": "url = 'https://www.youtube.com/playlist?list=PL568547ACA9211CCA'",
   "execution_count": 1,
   "outputs": []
  },
  {
   "cell_type": "code",
   "metadata": {
    "tags": [],
    "cell_id": "c9376012-0ad0-4f29-bfe4-4c6b5409baa2",
    "deepnote_to_be_reexecuted": false,
    "source_hash": "99acc969",
    "execution_start": 1656649469366,
    "execution_millis": 0,
    "deepnote_cell_type": "code",
    "deepnote_cell_height": 117
   },
   "source": "import pytube\nfrom pytube import *\np = Playlist(url)",
   "execution_count": 2,
   "outputs": []
  },
  {
   "cell_type": "markdown",
   "source": "## Get All Descriptive Data",
   "metadata": {
    "formattedRanges": [],
    "cell_id": "125c1b9fbac24bc08e4eab2ab99fd1c2",
    "tags": [],
    "is_collapsed": false,
    "deepnote_cell_type": "text-cell-h2"
   }
  },
  {
   "cell_type": "code",
   "metadata": {
    "cell_id": "9c7e47f9638245aaaf3da5cb613b8b13",
    "tags": [],
    "deepnote_to_be_reexecuted": false,
    "source_hash": "ce69d7e",
    "execution_start": 1656649469367,
    "execution_millis": 282,
    "owner_user_id": "1aba9b8c-4aab-4d07-a681-34f66fdc4649",
    "deepnote_cell_type": "code",
    "deepnote_cell_height": 135
   },
   "source": "owners = p.owner # get the owner of the video playlist\ndescription = 'p.description # get the description of the video playlist'\ntitles_playlist = p.title # get the title of the video playlist\ntotal_videos = p.length # Get the total count of the playlist",
   "execution_count": 3,
   "outputs": []
  },
  {
   "cell_type": "code",
   "metadata": {
    "cell_id": "0b1c2a0879be4a1a824cbb100561bba8",
    "tags": [],
    "deepnote_to_be_reexecuted": false,
    "source_hash": "4afe62d3",
    "execution_start": 1656649469654,
    "execution_millis": 2,
    "deepnote_app_coordinates": {
     "x": 0,
     "y": 9,
     "w": 12,
     "h": 17
    },
    "is_code_hidden": false,
    "deepnote_app_is_code_hidden": true,
    "deepnote_cell_type": "code",
    "deepnote_cell_height": 275
   },
   "source": "\nprint('This playlist %s \\nis created by %s \\nhaving total of %d videos created for \\n%s'%(titles_playlist,owners,total_videos,description))",
   "execution_count": 4,
   "outputs": [
    {
     "name": "stdout",
     "text": "This playlist Statistics \nis created by statslectures \nhaving total of 86 videos created for \np.description # get the description of the video playlist\n",
     "output_type": "stream"
    }
   ]
  },
  {
   "cell_type": "markdown",
   "source": "## Get Stats of playlist",
   "metadata": {
    "formattedRanges": [],
    "cell_id": "079e000bc994487d9d4a97883fc5b02c",
    "tags": [],
    "is_collapsed": false,
    "deepnote_cell_type": "text-cell-h2"
   }
  },
  {
   "cell_type": "code",
   "metadata": {
    "cell_id": "45fffca6aecb4cb9983fca106afdb901",
    "tags": [],
    "deepnote_to_be_reexecuted": false,
    "source_hash": "a48907aa",
    "execution_start": 1656649469701,
    "execution_millis": 33151,
    "deepnote_cell_type": "code",
    "deepnote_cell_height": 225
   },
   "source": "import pytube\nvideo_urls = p.video_urls\ntitles = []\nvideo_views=[]\nvideo_duration=[]\nfor i in video_urls:\n    titles.append(pytube.YouTube(i).title)\n    video_duration.append(pytube.YouTube(i).length)\n    video_views.append(pytube.YouTube(i).views)",
   "execution_count": 5,
   "outputs": []
  },
  {
   "cell_type": "code",
   "metadata": {
    "cell_id": "672f57a47b24469c853283a201a33d41",
    "tags": [],
    "deepnote_to_be_reexecuted": false,
    "source_hash": "112f1de4",
    "execution_start": 1656649502852,
    "execution_millis": 6,
    "deepnote_cell_type": "code",
    "deepnote_cell_height": 449
   },
   "source": "import pandas as pd\ndf = pd.DataFrame({'titles':titles,'Duration in sec': video_duration, 'Views per video':video_views})\ndf['Duration in mins'] = round(df['Duration in sec']/60,1)\ndf.head()",
   "execution_count": 6,
   "outputs": [
    {
     "output_type": "execute_result",
     "execution_count": 6,
     "data": {
      "application/vnd.deepnote.dataframe.v3+json": {
       "column_count": 4,
       "row_count": 5,
       "columns": [
        {
         "name": "titles",
         "dtype": "object",
         "stats": {
          "unique_count": 5,
          "nan_count": 0,
          "categories": [
           {
            "name": "The Basics: Descriptive and Inferential Statistics",
            "count": 1
           },
           {
            "name": "Sampling Methods",
            "count": 1
           },
           {
            "name": "3 others",
            "count": 3
           }
          ]
         }
        },
        {
         "name": "Duration in sec",
         "dtype": "int64",
         "stats": {
          "unique_count": 5,
          "nan_count": 0,
          "min": "88",
          "max": "236",
          "histogram": [
           {
            "bin_start": 88,
            "bin_end": 102.8,
            "count": 1
           },
           {
            "bin_start": 102.8,
            "bin_end": 117.6,
            "count": 0
           },
           {
            "bin_start": 117.6,
            "bin_end": 132.4,
            "count": 0
           },
           {
            "bin_start": 132.4,
            "bin_end": 147.2,
            "count": 0
           },
           {
            "bin_start": 147.2,
            "bin_end": 162,
            "count": 0
           },
           {
            "bin_start": 162,
            "bin_end": 176.8,
            "count": 2
           },
           {
            "bin_start": 176.8,
            "bin_end": 191.60000000000002,
            "count": 0
           },
           {
            "bin_start": 191.60000000000002,
            "bin_end": 206.4,
            "count": 0
           },
           {
            "bin_start": 206.4,
            "bin_end": 221.20000000000002,
            "count": 1
           },
           {
            "bin_start": 221.20000000000002,
            "bin_end": 236,
            "count": 1
           }
          ]
         }
        },
        {
         "name": "Views per video",
         "dtype": "int64",
         "stats": {
          "unique_count": 5,
          "nan_count": 0,
          "min": "63840",
          "max": "232846",
          "histogram": [
           {
            "bin_start": 63840,
            "bin_end": 80740.6,
            "count": 1
           },
           {
            "bin_start": 80740.6,
            "bin_end": 97641.2,
            "count": 1
           },
           {
            "bin_start": 97641.2,
            "bin_end": 114541.79999999999,
            "count": 0
           },
           {
            "bin_start": 114541.79999999999,
            "bin_end": 131442.4,
            "count": 0
           },
           {
            "bin_start": 131442.4,
            "bin_end": 148343,
            "count": 2
           },
           {
            "bin_start": 148343,
            "bin_end": 165243.59999999998,
            "count": 0
           },
           {
            "bin_start": 165243.59999999998,
            "bin_end": 182144.19999999998,
            "count": 0
           },
           {
            "bin_start": 182144.19999999998,
            "bin_end": 199044.8,
            "count": 0
           },
           {
            "bin_start": 199044.8,
            "bin_end": 215945.4,
            "count": 0
           },
           {
            "bin_start": 215945.4,
            "bin_end": 232846,
            "count": 1
           }
          ]
         }
        },
        {
         "name": "Duration in mins",
         "dtype": "float64",
         "stats": {
          "unique_count": 5,
          "nan_count": 0,
          "min": "1.5",
          "max": "3.9",
          "histogram": [
           {
            "bin_start": 1.5,
            "bin_end": 1.74,
            "count": 1
           },
           {
            "bin_start": 1.74,
            "bin_end": 1.98,
            "count": 0
           },
           {
            "bin_start": 1.98,
            "bin_end": 2.2199999999999998,
            "count": 0
           },
           {
            "bin_start": 2.2199999999999998,
            "bin_end": 2.46,
            "count": 0
           },
           {
            "bin_start": 2.46,
            "bin_end": 2.7,
            "count": 0
           },
           {
            "bin_start": 2.7,
            "bin_end": 2.94,
            "count": 2
           },
           {
            "bin_start": 2.94,
            "bin_end": 3.1799999999999997,
            "count": 0
           },
           {
            "bin_start": 3.1799999999999997,
            "bin_end": 3.42,
            "count": 0
           },
           {
            "bin_start": 3.42,
            "bin_end": 3.66,
            "count": 1
           },
           {
            "bin_start": 3.66,
            "bin_end": 3.9,
            "count": 1
           }
          ]
         }
        },
        {
         "name": "_deepnote_index_column",
         "dtype": "int64"
        }
       ],
       "rows": [
        {
         "titles": "The Basics: Descriptive and Inferential Statistics",
         "Duration in sec": 171,
         "Views per video": 232846,
         "Duration in mins": 2.8,
         "_deepnote_index_column": 0
        },
        {
         "titles": "Sampling Methods",
         "Duration in sec": 236,
         "Views per video": 143834,
         "Duration in mins": 3.9,
         "_deepnote_index_column": 1
        },
        {
         "titles": "Types of Variables",
         "Duration in sec": 213,
         "Views per video": 136819,
         "Duration in mins": 3.6,
         "_deepnote_index_column": 2
        },
        {
         "titles": "Independent and Dependent Variables",
         "Duration in sec": 88,
         "Views per video": 91961,
         "Duration in mins": 1.5,
         "_deepnote_index_column": 3
        },
        {
         "titles": "Variable Measurement Scales",
         "Duration in sec": 163,
         "Views per video": 63840,
         "Duration in mins": 2.7,
         "_deepnote_index_column": 4
        }
       ]
      },
      "text/plain": "                                              titles  Duration in sec  \\\n0  The Basics: Descriptive and Inferential Statis...              171   \n1                                   Sampling Methods              236   \n2                                 Types of Variables              213   \n3                Independent and Dependent Variables               88   \n4                        Variable Measurement Scales              163   \n\n   Views per video  Duration in mins  \n0           232846               2.8  \n1           143834               3.9  \n2           136819               3.6  \n3            91961               1.5  \n4            63840               2.7  ",
      "text/html": "<div>\n<style scoped>\n    .dataframe tbody tr th:only-of-type {\n        vertical-align: middle;\n    }\n\n    .dataframe tbody tr th {\n        vertical-align: top;\n    }\n\n    .dataframe thead th {\n        text-align: right;\n    }\n</style>\n<table border=\"1\" class=\"dataframe\">\n  <thead>\n    <tr style=\"text-align: right;\">\n      <th></th>\n      <th>titles</th>\n      <th>Duration in sec</th>\n      <th>Views per video</th>\n      <th>Duration in mins</th>\n    </tr>\n  </thead>\n  <tbody>\n    <tr>\n      <th>0</th>\n      <td>The Basics: Descriptive and Inferential Statis...</td>\n      <td>171</td>\n      <td>232846</td>\n      <td>2.8</td>\n    </tr>\n    <tr>\n      <th>1</th>\n      <td>Sampling Methods</td>\n      <td>236</td>\n      <td>143834</td>\n      <td>3.9</td>\n    </tr>\n    <tr>\n      <th>2</th>\n      <td>Types of Variables</td>\n      <td>213</td>\n      <td>136819</td>\n      <td>3.6</td>\n    </tr>\n    <tr>\n      <th>3</th>\n      <td>Independent and Dependent Variables</td>\n      <td>88</td>\n      <td>91961</td>\n      <td>1.5</td>\n    </tr>\n    <tr>\n      <th>4</th>\n      <td>Variable Measurement Scales</td>\n      <td>163</td>\n      <td>63840</td>\n      <td>2.7</td>\n    </tr>\n  </tbody>\n</table>\n</div>"
     },
     "metadata": {}
    }
   ]
  },
  {
   "cell_type": "code",
   "source": "_deepnote_run_altair(df, \"\"\"{\"$schema\":\"https://vega.github.io/schema/vega-lite/v4.json\",\"mark\":{\"type\":\"bar\",\"tooltip\":true},\"height\":220,\"autosize\":{\"type\":\"fit\"},\"data\":{\"name\":\"placeholder\"},\"encoding\":{\"x\":{\"field\":\"titles\",\"type\":\"nominal\",\"sort\":null,\"scale\":{\"type\":\"linear\",\"zero\":false}},\"y\":{\"field\":\"Duration in mins\",\"type\":\"quantitative\",\"sort\":null,\"scale\":{\"type\":\"linear\",\"zero\":true}},\"color\":{\"field\":\"\",\"type\":\"nominal\",\"sort\":null,\"scale\":{\"type\":\"linear\",\"zero\":false}}}}\"\"\")",
   "metadata": {
    "cell_id": "c6f9e95dcfa0498e8731ac37f73185a2",
    "deepnote_variable_name": "df",
    "deepnote_visualization_spec": {
     "$schema": "https://vega.github.io/schema/vega-lite/v4.json",
     "mark": {
      "type": "bar",
      "tooltip": true
     },
     "height": 220,
     "autosize": {
      "type": "fit"
     },
     "data": {
      "name": "placeholder"
     },
     "encoding": {
      "x": {
       "field": "titles",
       "type": "nominal",
       "sort": null,
       "scale": {
        "type": "linear",
        "zero": false
       }
      },
      "y": {
       "field": "Duration in mins",
       "type": "quantitative",
       "sort": null,
       "scale": {
        "type": "linear",
        "zero": true
       }
      },
      "color": {
       "field": "",
       "type": "nominal",
       "sort": null,
       "scale": {
        "type": "linear",
        "zero": false
       }
      }
     }
    },
    "deepnote_to_be_reexecuted": false,
    "source_hash": "c7c28587",
    "execution_start": 1656649502893,
    "execution_millis": 221,
    "deepnote_app_coordinates": {
     "x": 0,
     "y": 27,
     "w": 12,
     "h": 16
    },
    "deepnote_cell_type": "visualization"
   },
   "execution_count": 7,
   "outputs": [
    {
     "output_type": "execute_result",
     "execution_count": 7,
     "data": {
      "text/html": "\n<div id=\"altair-viz-54a25f20c98e417faacb89a073afd7ff\"></div>\n<script type=\"text/javascript\">\n  (function(spec, embedOpt){\n    let outputDiv = document.currentScript.previousElementSibling;\n    if (outputDiv.id !== \"altair-viz-54a25f20c98e417faacb89a073afd7ff\") {\n      outputDiv = document.getElementById(\"altair-viz-54a25f20c98e417faacb89a073afd7ff\");\n    }\n    const paths = {\n      \"vega\": \"https://cdn.jsdelivr.net/npm//vega@5?noext\",\n      \"vega-lib\": \"https://cdn.jsdelivr.net/npm//vega-lib?noext\",\n      \"vega-lite\": \"https://cdn.jsdelivr.net/npm//vega-lite@4.8.1?noext\",\n      \"vega-embed\": \"https://cdn.jsdelivr.net/npm//vega-embed@6?noext\",\n    };\n\n    function loadScript(lib) {\n      return new Promise(function(resolve, reject) {\n        var s = document.createElement('script');\n        s.src = paths[lib];\n        s.async = true;\n        s.onload = () => resolve(paths[lib]);\n        s.onerror = () => reject(`Error loading script: ${paths[lib]}`);\n        document.getElementsByTagName(\"head\")[0].appendChild(s);\n      });\n    }\n\n    function showError(err) {\n      outputDiv.innerHTML = `<div class=\"error\" style=\"color:red;\">${err}</div>`;\n      throw err;\n    }\n\n    function displayChart(vegaEmbed) {\n      vegaEmbed(outputDiv, spec, embedOpt)\n        .catch(err => showError(`Javascript Error: ${err.message}<br>This usually means there's a typo in your chart specification. See the javascript console for the full traceback.`));\n    }\n\n    if(typeof define === \"function\" && define.amd) {\n      requirejs.config({paths});\n      require([\"vega-embed\"], displayChart, err => showError(`Error loading script: ${err.message}`));\n    } else if (typeof vegaEmbed === \"function\") {\n      displayChart(vegaEmbed);\n    } else {\n      loadScript(\"vega\")\n        .then(() => loadScript(\"vega-lite\"))\n        .then(() => loadScript(\"vega-embed\"))\n        .catch(showError)\n        .then(() => displayChart(vegaEmbed));\n    }\n  })({\"config\": {\"view\": {\"continuousWidth\": 400, \"continuousHeight\": 300}, \"area\": {\"fill\": \"#51C0E9\"}, \"axis\": {\"labelFont\": \"Inter, sans-serif\", \"labelFontSize\": 12, \"labelFontWeight\": \"normal\", \"labelLimit\": 60, \"labelOverlap\": \"greedy\", \"titleFont\": \"Inter, sans-serif\", \"titleFontSize\": 12, \"titleFontWeight\": \"bold\"}, \"background\": \"#ffffff\", \"legend\": {\"labelFont\": \"Inter, sans-serif\", \"labelFontSize\": 12, \"titleFont\": \"Inter, sans-serif\", \"titleFontSize\": 12, \"titleFontWeight\": \"bold\"}, \"line\": {\"stroke\": \"#51C0E9\", \"strokeWidth\": 2}, \"rect\": {\"fill\": \"#51C0E9\"}, \"title\": {\"anchor\": \"start\", \"color\": \"#000000\", \"font\": \"Inter, sans-serif\", \"fontSize\": 22, \"fontWeight\": \"normal\"}}, \"data\": {\"name\": \"data-3481cd62f69d010c07efcc7b826098a1\"}, \"mark\": {\"type\": \"bar\", \"tooltip\": true}, \"autosize\": {\"type\": \"fit\"}, \"encoding\": {\"color\": {\"type\": \"nominal\", \"field\": \"\", \"scale\": {\"type\": \"linear\", \"zero\": false}, \"sort\": null}, \"x\": {\"type\": \"nominal\", \"field\": \"titles\", \"scale\": {\"type\": \"linear\", \"zero\": false}, \"sort\": null}, \"y\": {\"type\": \"quantitative\", \"field\": \"Duration in mins\", \"scale\": {\"type\": \"linear\", \"zero\": true}, \"sort\": null}}, \"height\": 300, \"width\": \"container\", \"$schema\": \"https://vega.github.io/schema/vega-lite/v4.json\", \"datasets\": {\"data-3481cd62f69d010c07efcc7b826098a1\": [{\"titles\": \"The Basics: Descriptive and Inferential Statistics\", \"Duration in sec\": 171, \"Views per video\": 232846, \"Duration in mins\": 2.8}, {\"titles\": \"Sampling Methods\", \"Duration in sec\": 236, \"Views per video\": 143834, \"Duration in mins\": 3.9}, {\"titles\": \"Types of Variables\", \"Duration in sec\": 213, \"Views per video\": 136819, \"Duration in mins\": 3.6}, {\"titles\": \"Independent and Dependent Variables\", \"Duration in sec\": 88, \"Views per video\": 91961, \"Duration in mins\": 1.5}, {\"titles\": \"Variable Measurement Scales\", \"Duration in sec\": 163, \"Views per video\": 63840, \"Duration in mins\": 2.7}, {\"titles\": \"Frequency Distributions and Cumulative Frequency Distributions\", \"Duration in sec\": 94, \"Views per video\": 78771, \"Duration in mins\": 1.6}, {\"titles\": \"Bar Graphs and Pie Charts\", \"Duration in sec\": 132, \"Views per video\": 51842, \"Duration in mins\": 2.2}, {\"titles\": \"Histograms and Stem & Leaf Plots\", \"Duration in sec\": 334, \"Views per video\": 32972, \"Duration in mins\": 5.6}, {\"titles\": \"Arithmetic Mean for Samples and Populations\", \"Duration in sec\": 165, \"Views per video\": 38966, \"Duration in mins\": 2.8}, {\"titles\": \"Central Tendency: Mean, Median, and Mode\", \"Duration in sec\": 227, \"Views per video\": 61151, \"Duration in mins\": 3.8}, {\"titles\": \"Variance and Standard Deviation of a Population\", \"Duration in sec\": 301, \"Views per video\": 101213, \"Duration in mins\": 5.0}, {\"titles\": \"Variance and Standard Deviation of a Sample\", \"Duration in sec\": 345, \"Views per video\": 88635, \"Duration in mins\": 5.8}, {\"titles\": \"Percentiles and Quartiles\", \"Duration in sec\": 217, \"Views per video\": 661548, \"Duration in mins\": 3.6}, {\"titles\": \"The Five Number Summary, Interquartile Range(IQR), and Boxplots\", \"Duration in sec\": 211, \"Views per video\": 60046, \"Duration in mins\": 3.5}, {\"titles\": \"The Effects of Outliers\", \"Duration in sec\": 188, \"Views per video\": 88272, \"Duration in mins\": 3.1}, {\"titles\": \"Skewness\", \"Duration in sec\": 96, \"Views per video\": 40111, \"Duration in mins\": 1.6}, {\"titles\": \"The Normal Curve and Empirical Rule\", \"Duration in sec\": 198, \"Views per video\": 58813, \"Duration in mins\": 3.3}, {\"titles\": \"Z-Scores (part one)\", \"Duration in sec\": 183, \"Views per video\": 57377, \"Duration in mins\": 3.0}, {\"titles\": \"Z-Scores (part two)\", \"Duration in sec\": 241, \"Views per video\": 45793, \"Duration in mins\": 4.0}, {\"titles\": \"Extra Z-Score Problems\", \"Duration in sec\": 293, \"Views per video\": 41680, \"Duration in mins\": 4.9}, {\"titles\": \"The Basics of Probability\", \"Duration in sec\": 102, \"Views per video\": 40042, \"Duration in mins\": 1.7}, {\"titles\": \"Addition Rule (Probability \\\"or\\\")\", \"Duration in sec\": 206, \"Views per video\": 149318, \"Duration in mins\": 3.4}, {\"titles\": \"Multiplication Rule (Probability \\\"and\\\")\", \"Duration in sec\": 205, \"Views per video\": 200543, \"Duration in mins\": 3.4}, {\"titles\": \"Permutations\", \"Duration in sec\": 184, \"Views per video\": 21804, \"Duration in mins\": 3.1}, {\"titles\": \"Combinations\", \"Duration in sec\": 170, \"Views per video\": 30402, \"Duration in mins\": 2.8}, {\"titles\": \"Discrete and Continuous Random Variables\", \"Duration in sec\": 137, \"Views per video\": 58530, \"Duration in mins\": 2.3}, {\"titles\": \"Discrete Probability Distributions\", \"Duration in sec\": 116, \"Views per video\": 109605, \"Duration in mins\": 1.9}, {\"titles\": \"Probability Histograms\", \"Duration in sec\": 83, \"Views per video\": 50013, \"Duration in mins\": 1.4}, {\"titles\": \"Mean and Expected Value of Discrete Random Variables\", \"Duration in sec\": 110, \"Views per video\": 59061, \"Duration in mins\": 1.8}, {\"titles\": \"Variance and Standard Deviation of Discrete Random Variables\", \"Duration in sec\": 170, \"Views per video\": 79793, \"Duration in mins\": 2.8}, {\"titles\": \"The Law of Large Numbers\", \"Duration in sec\": 90, \"Views per video\": 27773, \"Duration in mins\": 1.5}, {\"titles\": \"Binomial Distribution\", \"Duration in sec\": 265, \"Views per video\": 33109, \"Duration in mins\": 4.4}, {\"titles\": \"Mean and Standard Deviation of Binomial Random Variables\", \"Duration in sec\": 98, \"Views per video\": 29532, \"Duration in mins\": 1.6}, {\"titles\": \"Poisson Distribution/Process\", \"Duration in sec\": 197, \"Views per video\": 17852, \"Duration in mins\": 3.3}, {\"titles\": \"Mean and Standard Deviation of Poisson Random Variables\", \"Duration in sec\": 120, \"Views per video\": 36177, \"Duration in mins\": 2.0}, {\"titles\": \"Coordinate (Cartesian) Planes\", \"Duration in sec\": 78, \"Views per video\": 6882, \"Duration in mins\": 1.3}, {\"titles\": \"Quadrants\", \"Duration in sec\": 64, \"Views per video\": 5685, \"Duration in mins\": 1.1}, {\"titles\": \"Scatter Plots\", \"Duration in sec\": 81, \"Views per video\": 14821, \"Duration in mins\": 1.4}, {\"titles\": \"Pearson's r Correlation\", \"Duration in sec\": 242, \"Views per video\": 303617, \"Duration in mins\": 4.0}, {\"titles\": \"Hypothesis Testing with Pearson's r\", \"Duration in sec\": 177, \"Views per video\": 96653, \"Duration in mins\": 3.0}, {\"titles\": \"Spearman Correlation\", \"Duration in sec\": 193, \"Views per video\": 149326, \"Duration in mins\": 3.2}, {\"titles\": \"Linear Regression\", \"Duration in sec\": 271, \"Views per video\": 41359, \"Duration in mins\": 4.5}, {\"titles\": \"Correlation vs. Causation\", \"Duration in sec\": 139, \"Views per video\": 54909, \"Duration in mins\": 2.3}, {\"titles\": \"Parameters, Statistics, and Sampling Error\", \"Duration in sec\": 139, \"Views per video\": 42456, \"Duration in mins\": 2.3}, {\"titles\": \"Distribution of the Sample Mean\", \"Duration in sec\": 289, \"Views per video\": 36473, \"Duration in mins\": 4.8}, {\"titles\": \"The Central Limit Theorem\", \"Duration in sec\": 77, \"Views per video\": 31592, \"Duration in mins\": 1.3}, {\"titles\": \"Sample Proportions\", \"Duration in sec\": 189, \"Views per video\": 138642, \"Duration in mins\": 3.2}, {\"titles\": \"Confidence Intervals about the Mean, Population Standard Deviation Known\", \"Duration in sec\": 269, \"Views per video\": 52179, \"Duration in mins\": 4.5}, {\"titles\": \"Calculating Required Sample Size to Estimate Population Mean\", \"Duration in sec\": 138, \"Views per video\": 106435, \"Duration in mins\": 2.3}, {\"titles\": \"Student's t-Distribution\", \"Duration in sec\": 175, \"Views per video\": 58575, \"Duration in mins\": 2.9}, {\"titles\": \"Confidence Intervals about the Mean, Population Standard Deviation Unknown\", \"Duration in sec\": 315, \"Views per video\": 187172, \"Duration in mins\": 5.2}, {\"titles\": \"Confidence Intervals for Population Proportions\", \"Duration in sec\": 258, \"Views per video\": 329059, \"Duration in mins\": 4.3}, {\"titles\": \"Null and Alternative Hypotheses\", \"Duration in sec\": 162, \"Views per video\": 212337, \"Duration in mins\": 2.7}, {\"titles\": \"Type I and Type II Errors\", \"Duration in sec\": 265, \"Views per video\": 363610, \"Duration in mins\": 4.4}, {\"titles\": \"One-Tailed and Two-Tailed Tests\", \"Duration in sec\": 125, \"Views per video\": 115060, \"Duration in mins\": 2.1}, {\"titles\": \"Effect Size\", \"Duration in sec\": 145, \"Views per video\": 59569, \"Duration in mins\": 2.4}, {\"titles\": \"Power\", \"Duration in sec\": 383, \"Views per video\": 24378, \"Duration in mins\": 6.4}, {\"titles\": \"Statistical vs. Practical Significance\", \"Duration in sec\": 122, \"Views per video\": 35477, \"Duration in mins\": 2.0}, {\"titles\": \"Independent and Dependent Samples\", \"Duration in sec\": 137, \"Views per video\": 54491, \"Duration in mins\": 2.3}, {\"titles\": \"One Sample z-Test\", \"Duration in sec\": 377, \"Views per video\": 294798, \"Duration in mins\": 6.3}, {\"titles\": \"One Sample z-Test for Proportions\", \"Duration in sec\": 368, \"Views per video\": 47898, \"Duration in mins\": 6.1}, {\"titles\": \"One Sample t-Test\", \"Duration in sec\": 289, \"Views per video\": 656170, \"Duration in mins\": 4.8}, {\"titles\": \"Independent Samples t-Test\", \"Duration in sec\": 413, \"Views per video\": 562156, \"Duration in mins\": 6.9}, {\"titles\": \"Confidence Intervals for Independent Samples t-Test\", \"Duration in sec\": 173, \"Views per video\": 51066, \"Duration in mins\": 2.9}, {\"titles\": \"Effect Size for Independent Samples t-Test\", \"Duration in sec\": 145, \"Views per video\": 69993, \"Duration in mins\": 2.4}, {\"titles\": \"Dependent Samples t-Test\", \"Duration in sec\": 298, \"Views per video\": 276150, \"Duration in mins\": 5.0}, {\"titles\": \"Confidence Intervals for Dependent Samples t-Test\", \"Duration in sec\": 152, \"Views per video\": 19221, \"Duration in mins\": 2.5}, {\"titles\": \"Effect Size for Dependent Samples t-Test\", \"Duration in sec\": 146, \"Views per video\": 31791, \"Duration in mins\": 2.4}, {\"titles\": \"z-Test for Proportions, Two Samples\", \"Duration in sec\": 244, \"Views per video\": 48016, \"Duration in mins\": 4.1}, {\"titles\": \"Confidence Intervals for the Difference of Two Proportions\", \"Duration in sec\": 117, \"Views per video\": 12153, \"Duration in mins\": 2.0}, {\"titles\": \"Introduction to ANOVA\", \"Duration in sec\": 435, \"Views per video\": 538937, \"Duration in mins\": 7.2}, {\"titles\": \"One-Way ANOVA\", \"Duration in sec\": 411, \"Views per video\": 394610, \"Duration in mins\": 6.8}, {\"titles\": \"Effect Size for One-Way ANOVA\", \"Duration in sec\": 123, \"Views per video\": 74946, \"Duration in mins\": 2.0}, {\"titles\": \"Post-Hoc Tests for One-Way ANOVA\", \"Duration in sec\": 369, \"Views per video\": 130971, \"Duration in mins\": 6.2}, {\"titles\": \"Repeated-Measures ANOVA\", \"Duration in sec\": 543, \"Views per video\": 175452, \"Duration in mins\": 9.0}, {\"titles\": \"Factorial ANOVA, Two Independent Factors\", \"Duration in sec\": 550, \"Views per video\": 129777, \"Duration in mins\": 9.2}, {\"titles\": \"Factorial ANOVA, Two Dependent Factors\", \"Duration in sec\": 818, \"Views per video\": 15342, \"Duration in mins\": 13.6}, {\"titles\": \"Factorial ANOVA, Two Mixed Factors\", \"Duration in sec\": 667, \"Views per video\": 33349, \"Duration in mins\": 11.1}, {\"titles\": \"Chi-Square Test for Goodness of Fit\", \"Duration in sec\": 240, \"Views per video\": 200298, \"Duration in mins\": 4.0}, {\"titles\": \"Chi-Square Test for Independence\", \"Duration in sec\": 233, \"Views per video\": 227139, \"Duration in mins\": 3.9}, {\"titles\": \"Mann-Whitney U-Test\", \"Duration in sec\": 275, \"Views per video\": 350162, \"Duration in mins\": 4.6}, {\"titles\": \"Wilcoxon Signed-Ranks Test\", \"Duration in sec\": 228, \"Views per video\": 103545, \"Duration in mins\": 3.8}, {\"titles\": \"The Kruskal-Wallis Test\", \"Duration in sec\": 319, \"Views per video\": 225605, \"Duration in mins\": 5.3}, {\"titles\": \"The Friedman Test\", \"Duration in sec\": 207, \"Views per video\": 107531, \"Duration in mins\": 3.4}, {\"titles\": \"Calculating Required Sample Size to Estimate Population Proportions\", \"Duration in sec\": 165, \"Views per video\": 54609, \"Duration in mins\": 2.8}, {\"titles\": \"User Submitted Question: Alpha Levels\", \"Duration in sec\": 146, \"Views per video\": 5030, \"Duration in mins\": 2.4}]}}, {\"actions\": false, \"mode\": \"vega-lite\"});\n</script>",
      "text/plain": "alt.Chart(...)"
     },
     "metadata": {}
    }
   ]
  },
  {
   "cell_type": "code",
   "metadata": {
    "cell_id": "caeffcbe450248ea94053aec8c8ad809",
    "tags": [],
    "deepnote_to_be_reexecuted": false,
    "source_hash": "5fcd08c4",
    "execution_start": 1656649503120,
    "execution_millis": 28,
    "deepnote_cell_type": "code",
    "deepnote_cell_height": 518
   },
   "source": "df.describe().round(1)",
   "execution_count": 8,
   "outputs": [
    {
     "output_type": "execute_result",
     "execution_count": 8,
     "data": {
      "application/vnd.deepnote.dataframe.v3+json": {
       "column_count": 3,
       "row_count": 8,
       "columns": [
        {
         "name": "Duration in sec",
         "dtype": "float64",
         "stats": {
          "unique_count": 8,
          "nan_count": 0,
          "min": "64.0",
          "max": "818.0",
          "histogram": [
           {
            "bin_start": 64,
            "bin_end": 139.4,
            "count": 4
           },
           {
            "bin_start": 139.4,
            "bin_end": 214.8,
            "count": 1
           },
           {
            "bin_start": 214.8,
            "bin_end": 290.20000000000005,
            "count": 2
           },
           {
            "bin_start": 290.20000000000005,
            "bin_end": 365.6,
            "count": 0
           },
           {
            "bin_start": 365.6,
            "bin_end": 441,
            "count": 0
           },
           {
            "bin_start": 441,
            "bin_end": 516.4000000000001,
            "count": 0
           },
           {
            "bin_start": 516.4000000000001,
            "bin_end": 591.8000000000001,
            "count": 0
           },
           {
            "bin_start": 591.8000000000001,
            "bin_end": 667.2,
            "count": 0
           },
           {
            "bin_start": 667.2,
            "bin_end": 742.6,
            "count": 0
           },
           {
            "bin_start": 742.6,
            "bin_end": 818,
            "count": 1
           }
          ]
         }
        },
        {
         "name": "Views per video",
         "dtype": "float64",
         "stats": {
          "unique_count": 8,
          "nan_count": 0,
          "min": "86.0",
          "max": "661548.0",
          "histogram": [
           {
            "bin_start": 86,
            "bin_end": 66232.2,
            "count": 4
           },
           {
            "bin_start": 66232.2,
            "bin_end": 132378.4,
            "count": 1
           },
           {
            "bin_start": 132378.4,
            "bin_end": 198524.59999999998,
            "count": 2
           },
           {
            "bin_start": 198524.59999999998,
            "bin_end": 264670.8,
            "count": 0
           },
           {
            "bin_start": 264670.8,
            "bin_end": 330817,
            "count": 0
           },
           {
            "bin_start": 330817,
            "bin_end": 396963.19999999995,
            "count": 0
           },
           {
            "bin_start": 396963.19999999995,
            "bin_end": 463109.39999999997,
            "count": 0
           },
           {
            "bin_start": 463109.39999999997,
            "bin_end": 529255.6,
            "count": 0
           },
           {
            "bin_start": 529255.6,
            "bin_end": 595401.7999999999,
            "count": 0
           },
           {
            "bin_start": 595401.7999999999,
            "bin_end": 661548,
            "count": 1
           }
          ]
         }
        },
        {
         "name": "Duration in mins",
         "dtype": "float64",
         "stats": {
          "unique_count": 8,
          "nan_count": 0,
          "min": "1.1",
          "max": "86.0",
          "histogram": [
           {
            "bin_start": 1.1,
            "bin_end": 9.59,
            "count": 6
           },
           {
            "bin_start": 9.59,
            "bin_end": 18.080000000000002,
            "count": 1
           },
           {
            "bin_start": 18.080000000000002,
            "bin_end": 26.57,
            "count": 0
           },
           {
            "bin_start": 26.57,
            "bin_end": 35.06,
            "count": 0
           },
           {
            "bin_start": 35.06,
            "bin_end": 43.550000000000004,
            "count": 0
           },
           {
            "bin_start": 43.550000000000004,
            "bin_end": 52.04,
            "count": 0
           },
           {
            "bin_start": 52.04,
            "bin_end": 60.53,
            "count": 0
           },
           {
            "bin_start": 60.53,
            "bin_end": 69.02,
            "count": 0
           },
           {
            "bin_start": 69.02,
            "bin_end": 77.50999999999999,
            "count": 0
           },
           {
            "bin_start": 77.50999999999999,
            "bin_end": 86,
            "count": 1
           }
          ]
         }
        },
        {
         "name": "_deepnote_index_column",
         "dtype": "object"
        }
       ],
       "rows": [
        {
         "Duration in sec": 86,
         "Views per video": 86,
         "Duration in mins": 86,
         "_deepnote_index_column": "count"
        },
        {
         "Duration in sec": 223.6,
         "Views per video": 121831.6,
         "Duration in mins": 3.7,
         "_deepnote_index_column": "mean"
        },
        {
         "Duration in sec": 130.4,
         "Views per video": 139984.4,
         "Duration in mins": 2.2,
         "_deepnote_index_column": "std"
        },
        {
         "Duration in sec": 64,
         "Views per video": 5030,
         "Duration in mins": 1.1,
         "_deepnote_index_column": "min"
        },
        {
         "Duration in sec": 138.2,
         "Views per video": 39235,
         "Duration in mins": 2.3,
         "_deepnote_index_column": "25%"
        },
        {
         "Duration in sec": 191,
         "Views per video": 59807.5,
         "Duration in mins": 3.2,
         "_deepnote_index_column": "50%"
        },
        {
         "Duration in sec": 270.5,
         "Views per video": 142536,
         "Duration in mins": 4.5,
         "_deepnote_index_column": "75%"
        },
        {
         "Duration in sec": 818,
         "Views per video": 661548,
         "Duration in mins": 13.6,
         "_deepnote_index_column": "max"
        }
       ]
      },
      "text/plain": "       Duration in sec  Views per video  Duration in mins\ncount             86.0             86.0              86.0\nmean             223.6         121831.6               3.7\nstd              130.4         139984.4               2.2\nmin               64.0           5030.0               1.1\n25%              138.2          39235.0               2.3\n50%              191.0          59807.5               3.2\n75%              270.5         142536.0               4.5\nmax              818.0         661548.0              13.6",
      "text/html": "<div>\n<style scoped>\n    .dataframe tbody tr th:only-of-type {\n        vertical-align: middle;\n    }\n\n    .dataframe tbody tr th {\n        vertical-align: top;\n    }\n\n    .dataframe thead th {\n        text-align: right;\n    }\n</style>\n<table border=\"1\" class=\"dataframe\">\n  <thead>\n    <tr style=\"text-align: right;\">\n      <th></th>\n      <th>Duration in sec</th>\n      <th>Views per video</th>\n      <th>Duration in mins</th>\n    </tr>\n  </thead>\n  <tbody>\n    <tr>\n      <th>count</th>\n      <td>86.0</td>\n      <td>86.0</td>\n      <td>86.0</td>\n    </tr>\n    <tr>\n      <th>mean</th>\n      <td>223.6</td>\n      <td>121831.6</td>\n      <td>3.7</td>\n    </tr>\n    <tr>\n      <th>std</th>\n      <td>130.4</td>\n      <td>139984.4</td>\n      <td>2.2</td>\n    </tr>\n    <tr>\n      <th>min</th>\n      <td>64.0</td>\n      <td>5030.0</td>\n      <td>1.1</td>\n    </tr>\n    <tr>\n      <th>25%</th>\n      <td>138.2</td>\n      <td>39235.0</td>\n      <td>2.3</td>\n    </tr>\n    <tr>\n      <th>50%</th>\n      <td>191.0</td>\n      <td>59807.5</td>\n      <td>3.2</td>\n    </tr>\n    <tr>\n      <th>75%</th>\n      <td>270.5</td>\n      <td>142536.0</td>\n      <td>4.5</td>\n    </tr>\n    <tr>\n      <th>max</th>\n      <td>818.0</td>\n      <td>661548.0</td>\n      <td>13.6</td>\n    </tr>\n  </tbody>\n</table>\n</div>"
     },
     "metadata": {}
    }
   ]
  },
  {
   "cell_type": "markdown",
   "source": "## Get the Excel output",
   "metadata": {
    "formattedRanges": [],
    "cell_id": "3e0c650d02b44d73929ba294e7758889",
    "tags": [],
    "is_collapsed": false,
    "deepnote_cell_type": "text-cell-h2"
   }
  },
  {
   "cell_type": "code",
   "metadata": {
    "cell_id": "373ac43a69f0454291b89af89295da07",
    "tags": [],
    "deepnote_to_be_reexecuted": false,
    "source_hash": "8a41c9c4",
    "execution_start": 1656649503150,
    "execution_millis": 27,
    "deepnote_app_coordinates": {
     "x": 0,
     "y": 44,
     "w": 12,
     "h": 8
    },
    "deepnote_app_is_code_hidden": true,
    "deepnote_cell_type": "code",
    "deepnote_cell_height": 202
   },
   "source": "writer_obj = pd.ExcelWriter('Youtube Playlist Details.xlsx', engine='xlsxwriter')\n\ndf.to_excel(writer_obj, sheet_name='Sheet1')\n\nwriter_obj.save()\nprint('Please check out the youtube playlist details file.')",
   "execution_count": 9,
   "outputs": [
    {
     "name": "stdout",
     "text": "Please check out the youtube playlist details file.\n",
     "output_type": "stream"
    }
   ]
  },
  {
   "cell_type": "markdown",
   "source": "<a style='text-decoration:none;line-height:16px;display:flex;color:#5B5B62;padding:10px;justify-content:end;' href='https://deepnote.com?utm_source=created-in-deepnote-cell&projectId=186b8667-af1f-4bfb-bbb6-79720b6a08a7' target=\"_blank\">\n<img alt='Created in deepnote.com' style='display:inline;max-height:16px;margin:0px;margin-right:7.5px;' src='data:image/svg+xml;base64,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' > </img>\nCreated in <span style='font-weight:600;margin-left:4px;'>Deepnote</span></a>",
   "metadata": {
    "tags": [],
    "created_in_deepnote_cell": true,
    "deepnote_cell_type": "markdown"
   }
  }
 ],
 "nbformat": 4,
 "nbformat_minor": 2,
 "metadata": {
  "orig_nbformat": 2,
  "deepnote": {},
  "deepnote_notebook_id": "57dcf1a0-ca25-4910-b2e6-ff45e67b229b",
  "deepnote_execution_queue": [],
  "deepnote_app_layout": "dashboard"
 }
}