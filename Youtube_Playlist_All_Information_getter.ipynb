{
 "cells": [
  {
   "cell_type": "markdown",
   "source": "# Youtube Playlist Info",
   "metadata": {
    "formattedRanges": [],
    "cell_id": "4af371ea12f040fb87255995f0f03e9e",
    "tags": [],
    "is_collapsed": false,
    "deepnote_app_coordinates": {
     "x": 0,
     "y": 0,
     "w": 12,
     "h": 5
    },
    "deepnote_cell_type": "text-cell-h1"
   }
  },
  {
   "cell_type": "markdown",
   "source": "Get all the information you need for  a playlist and save it as an excel or email it as you need",
   "metadata": {
    "formattedRanges": [],
    "cell_id": "680279ab365d4a69a884081a9f5b934d",
    "tags": [],
    "is_collapsed": false,
    "deepnote_cell_type": "text-cell-p"
   }
  },
  {
   "cell_type": "code",
   "metadata": {
    "cell_id": "9768b4c4f5ee4164a135b5aa1e87ff20",
    "tags": [],
    "deepnote_to_be_reexecuted": false,
    "source_hash": "6b10080d",
    "execution_start": 1656647614273,
    "execution_millis": 3477,
    "is_code_hidden": true,
    "is_output_hidden": true,
    "deepnote_cell_type": "code",
    "deepnote_cell_height": 105.59375
   },
   "source": "!pip install xlsxwriter==3.0.3",
   "execution_count": 93,
   "outputs": [
    {
     "name": "stdout",
     "text": "Collecting xlsxwriter==3.0.3\n  Downloading XlsxWriter-3.0.3-py3-none-any.whl (149 kB)\n\u001b[2K     \u001b[90m━━━━━━━━━━━━━━━━━━━━━━━━━━━━━━━━━━━━━━\u001b[0m \u001b[32m150.0/150.0 KB\u001b[0m \u001b[31m24.6 MB/s\u001b[0m eta \u001b[36m0:00:00\u001b[0m\n\u001b[?25hInstalling collected packages: xlsxwriter\nSuccessfully installed xlsxwriter-3.0.3\n\u001b[33mWARNING: You are using pip version 22.0.4; however, version 22.1.2 is available.\nYou should consider upgrading via the '/root/venv/bin/python -m pip install --upgrade pip' command.\u001b[0m\u001b[33m\n\u001b[0m",
     "output_type": "stream"
    }
   ]
  },
  {
   "cell_type": "code",
   "metadata": {
    "cell_id": "820ead82a5024653b76096b608250df2",
    "tags": [],
    "deepnote_to_be_reexecuted": false,
    "source_hash": "54ac1a53",
    "execution_start": 1656648020981,
    "execution_millis": 2867,
    "is_output_hidden": true,
    "is_code_hidden": true,
    "deepnote_cell_type": "code",
    "deepnote_cell_height": 105.59375
   },
   "source": "pip install pytube\n",
   "execution_count": 99,
   "outputs": [
    {
     "name": "stdout",
     "text": "Requirement already satisfied: pytube in /usr/local/lib/python3.9/site-packages (12.1.0)\n\u001b[33mWARNING: Running pip as the 'root' user can result in broken permissions and conflicting behaviour with the system package manager. It is recommended to use a virtual environment instead: https://pip.pypa.io/warnings/venv\u001b[0m\u001b[33m\n\u001b[0m\u001b[33mWARNING: You are using pip version 22.0.4; however, version 22.1.2 is available.\nYou should consider upgrading via the '/usr/local/bin/python -m pip install --upgrade pip' command.\u001b[0m\u001b[33m\n\u001b[0mNote: you may need to restart the kernel to use updated packages.\n",
     "output_type": "stream"
    }
   ]
  },
  {
   "cell_type": "code",
   "metadata": {
    "cell_id": "fed7d94f276d47289e28298a97f29f7b",
    "tags": [],
    "deepnote_to_be_reexecuted": false,
    "source_hash": "b61ff523",
    "execution_start": 1656648024341,
    "execution_millis": 2751,
    "is_output_hidden": true,
    "owner_user_id": "1aba9b8c-4aab-4d07-a681-34f66fdc4649",
    "is_code_hidden": true,
    "deepnote_cell_type": "code",
    "deepnote_cell_height": 105.59375
   },
   "source": "!pip install xlsxwriter",
   "execution_count": 100,
   "outputs": [
    {
     "name": "stdout",
     "text": "Requirement already satisfied: xlsxwriter in /root/venv/lib/python3.9/site-packages (3.0.3)\n\u001b[33mWARNING: You are using pip version 22.0.4; however, version 22.1.2 is available.\nYou should consider upgrading via the '/root/venv/bin/python -m pip install --upgrade pip' command.\u001b[0m\u001b[33m\n\u001b[0m",
     "output_type": "stream"
    }
   ]
  },
  {
   "cell_type": "markdown",
   "source": "## Enter URL Here",
   "metadata": {
    "formattedRanges": [],
    "cell_id": "b03f86918a894ea49fade8dcea07a97d",
    "tags": [],
    "is_collapsed": false,
    "deepnote_cell_type": "text-cell-h2"
   }
  },
  {
   "cell_type": "code",
   "metadata": {
    "cell_id": "e7b6cd7a1a464d2daf93aef2947251e2",
    "deepnote_variable_name": "url",
    "deepnote_variable_value": "https://www.youtube.com/playlist?list=PL6Omre3duO-OGTAMuFuDOS8wMuuxmyaiX",
    "deepnote_to_be_reexecuted": false,
    "source_hash": "d8cb35e",
    "execution_start": 1656643884878,
    "execution_millis": 1,
    "deepnote_app_coordinates": {
     "x": 0,
     "y": 5,
     "w": 8,
     "h": 4
    },
    "deepnote_cell_type": "input-text"
   },
   "source": "url = 'https://www.youtube.com/playlist?list=PL6Omre3duO-OGTAMuFuDOS8wMuuxmyaiX'",
   "execution_count": 7,
   "outputs": []
  },
  {
   "cell_type": "code",
   "metadata": {
    "tags": [],
    "cell_id": "c9376012-0ad0-4f29-bfe4-4c6b5409baa2",
    "deepnote_to_be_reexecuted": false,
    "source_hash": "9add20fa",
    "execution_start": 1656644755852,
    "execution_millis": 538,
    "deepnote_cell_type": "code",
    "deepnote_cell_height": 130
   },
   "source": "from pytube import Playlist\np = Playlist(url)",
   "execution_count": 27,
   "outputs": [
    {
     "name": "stdout",
     "text": "Total Videos in the playlist is 139\n",
     "output_type": "stream"
    }
   ]
  },
  {
   "cell_type": "markdown",
   "source": "## Get All Descriptive Data",
   "metadata": {
    "formattedRanges": [],
    "cell_id": "125c1b9fbac24bc08e4eab2ab99fd1c2",
    "tags": [],
    "is_collapsed": false,
    "deepnote_cell_type": "text-cell-h2"
   }
  },
  {
   "cell_type": "code",
   "metadata": {
    "cell_id": "9c7e47f9638245aaaf3da5cb613b8b13",
    "tags": [],
    "deepnote_to_be_reexecuted": false,
    "source_hash": "be7f55f9",
    "execution_start": 1656647892842,
    "execution_millis": 0,
    "deepnote_cell_type": "code",
    "deepnote_cell_height": 135
   },
   "source": "owners = p.owner # get the owner of the video playlist\ndescription = p.description # get the description of the video playlist\ntitles_playlist = p.title # get the title of the video playlist\ntotal_videos = p.length # Get the total count of the playlist",
   "execution_count": 97,
   "outputs": []
  },
  {
   "cell_type": "code",
   "metadata": {
    "cell_id": "0b1c2a0879be4a1a824cbb100561bba8",
    "tags": [],
    "deepnote_to_be_reexecuted": false,
    "source_hash": "4afe62d3",
    "execution_start": 1656647894684,
    "execution_millis": 228,
    "deepnote_app_coordinates": {
     "x": 0,
     "y": 9,
     "w": 12,
     "h": 17
    },
    "is_code_hidden": false,
    "deepnote_app_is_code_hidden": true,
    "deepnote_cell_type": "code",
    "deepnote_cell_height": 374.796875
   },
   "source": "\nprint('This playlist %s \\nis created by %s \\nhaving total of %d videos created for \\n%s'%(titles_playlist,owners,total_videos,description))",
   "execution_count": 98,
   "outputs": [
    {
     "name": "stdout",
     "text": "This playlist Power BI Tutorial \nis created by Pavan Lalwani \nhaving total of 139 videos created for \nLearn Business Intelligence with Power BI . \nData Visualization, Data Modelling, Data Cleaning and Data Sharing and Collaboration are the features of Power BI . \nThis Playlist is having all what you are looking to learn in Power BI . The most detailed, Simple yet cool features are explained in this series. This series is for anyone having no knowledge of Power BI. \n\nThe speed of the video is purposely kept moderate so that any one can learn it . 180 videos will be uploaded in this video series having Power Query, Power Pivot, DAX, M Functions, 290 Visuals, Power BI Service etc. \nDashboard creation, tips and tricks. \n\nAll the best. \nPavan Lalwani \nINDIA.\n",
     "output_type": "stream"
    }
   ]
  },
  {
   "cell_type": "markdown",
   "source": "## Get Stats of playlist",
   "metadata": {
    "formattedRanges": [],
    "cell_id": "079e000bc994487d9d4a97883fc5b02c",
    "tags": [],
    "is_collapsed": false,
    "deepnote_cell_type": "text-cell-h2"
   }
  },
  {
   "cell_type": "code",
   "metadata": {
    "cell_id": "45fffca6aecb4cb9983fca106afdb901",
    "tags": [],
    "deepnote_to_be_reexecuted": false,
    "source_hash": "61688481",
    "execution_start": 1656645936076,
    "execution_millis": 27367,
    "deepnote_cell_type": "code",
    "deepnote_cell_height": 207
   },
   "source": "video_urls = p.video_urls\ntitles = []\nvideo_views=[]\nvideo_duration=[]\nfor i in video_urls:\n    titles.append(pytube.YouTube(i).title)\n    video_duration.append(pytube.YouTube(i).length)\n    video_views.append(pytube.YouTube(i).views)",
   "execution_count": 60,
   "outputs": []
  },
  {
   "cell_type": "code",
   "metadata": {
    "cell_id": "672f57a47b24469c853283a201a33d41",
    "tags": [],
    "deepnote_to_be_reexecuted": false,
    "source_hash": "112f1de4",
    "execution_start": 1656646971961,
    "execution_millis": 2,
    "deepnote_cell_type": "code",
    "deepnote_cell_height": 449
   },
   "source": "import pandas as pd\ndf = pd.DataFrame({'titles':titles,'Duration in sec': video_duration, 'Views per video':video_views})\ndf['Duration in mins'] = round(df['Duration in sec']/60,1)\ndf.head()",
   "execution_count": 81,
   "outputs": [
    {
     "output_type": "execute_result",
     "execution_count": 81,
     "data": {
      "application/vnd.deepnote.dataframe.v3+json": {
       "column_count": 4,
       "row_count": 5,
       "columns": [
        {
         "name": "titles",
         "dtype": "object",
         "stats": {
          "unique_count": 5,
          "nan_count": 0,
          "categories": [
           {
            "name": "Power BI Tutorial for Beginners 2022  (Introduction to Power BI )",
            "count": 1
           },
           {
            "name": "Power BI Tutorial for Beginners - A 30 Mins Webinar by Pavan Lalwani | How Easy is Power BI Tool",
            "count": 1
           },
           {
            "name": "3 others",
            "count": 3
           }
          ]
         }
        },
        {
         "name": "Duration in sec",
         "dtype": "int64",
         "stats": {
          "unique_count": 5,
          "nan_count": 0,
          "min": "68",
          "max": "2215",
          "histogram": [
           {
            "bin_start": 68,
            "bin_end": 282.7,
            "count": 2
           },
           {
            "bin_start": 282.7,
            "bin_end": 497.4,
            "count": 2
           },
           {
            "bin_start": 497.4,
            "bin_end": 712.0999999999999,
            "count": 0
           },
           {
            "bin_start": 712.0999999999999,
            "bin_end": 926.8,
            "count": 0
           },
           {
            "bin_start": 926.8,
            "bin_end": 1141.5,
            "count": 0
           },
           {
            "bin_start": 1141.5,
            "bin_end": 1356.1999999999998,
            "count": 0
           },
           {
            "bin_start": 1356.1999999999998,
            "bin_end": 1570.8999999999999,
            "count": 0
           },
           {
            "bin_start": 1570.8999999999999,
            "bin_end": 1785.6,
            "count": 0
           },
           {
            "bin_start": 1785.6,
            "bin_end": 2000.3,
            "count": 0
           },
           {
            "bin_start": 2000.3,
            "bin_end": 2215,
            "count": 1
           }
          ]
         }
        },
        {
         "name": "Views per video",
         "dtype": "int64",
         "stats": {
          "unique_count": 5,
          "nan_count": 0,
          "min": "5003",
          "max": "373313",
          "histogram": [
           {
            "bin_start": 5003,
            "bin_end": 41834,
            "count": 1
           },
           {
            "bin_start": 41834,
            "bin_end": 78665,
            "count": 0
           },
           {
            "bin_start": 78665,
            "bin_end": 115496,
            "count": 1
           },
           {
            "bin_start": 115496,
            "bin_end": 152327,
            "count": 2
           },
           {
            "bin_start": 152327,
            "bin_end": 189158,
            "count": 0
           },
           {
            "bin_start": 189158,
            "bin_end": 225989,
            "count": 0
           },
           {
            "bin_start": 225989,
            "bin_end": 262820,
            "count": 0
           },
           {
            "bin_start": 262820,
            "bin_end": 299651,
            "count": 0
           },
           {
            "bin_start": 299651,
            "bin_end": 336482,
            "count": 0
           },
           {
            "bin_start": 336482,
            "bin_end": 373313,
            "count": 1
           }
          ]
         }
        },
        {
         "name": "Duration in mins",
         "dtype": "float64",
         "stats": {
          "unique_count": 5,
          "nan_count": 0,
          "min": "1.1",
          "max": "36.9",
          "histogram": [
           {
            "bin_start": 1.1,
            "bin_end": 4.68,
            "count": 2
           },
           {
            "bin_start": 4.68,
            "bin_end": 8.26,
            "count": 2
           },
           {
            "bin_start": 8.26,
            "bin_end": 11.839999999999998,
            "count": 0
           },
           {
            "bin_start": 11.839999999999998,
            "bin_end": 15.419999999999998,
            "count": 0
           },
           {
            "bin_start": 15.419999999999998,
            "bin_end": 19,
            "count": 0
           },
           {
            "bin_start": 19,
            "bin_end": 22.58,
            "count": 0
           },
           {
            "bin_start": 22.58,
            "bin_end": 26.16,
            "count": 0
           },
           {
            "bin_start": 26.16,
            "bin_end": 29.74,
            "count": 0
           },
           {
            "bin_start": 29.74,
            "bin_end": 33.32,
            "count": 0
           },
           {
            "bin_start": 33.32,
            "bin_end": 36.9,
            "count": 1
           }
          ]
         }
        },
        {
         "name": "_deepnote_index_column",
         "dtype": "int64"
        }
       ],
       "rows": [
        {
         "titles": "Power BI Tutorial for Beginners 2022  (Introduction to Power BI )",
         "Duration in sec": 407,
         "Views per video": 373313,
         "Duration in mins": 6.8,
         "_deepnote_index_column": 0
        },
        {
         "titles": "Power BI Tutorial for Beginners - A 30 Mins Webinar by Pavan Lalwani | How Easy is Power BI Tool",
         "Duration in sec": 2215,
         "Views per video": 5003,
         "Duration in mins": 36.9,
         "_deepnote_index_column": 1
        },
        {
         "titles": "1.2 How to Download, Install and upgrade features in Power BI | Power BI Tutorials for Beginners",
         "Duration in sec": 257,
         "Views per video": 120179,
         "Duration in mins": 4.3,
         "_deepnote_index_column": 2
        },
        {
         "titles": "2.0 Introduction to Basic Charts in Power BI | Power BI Tutorials for Beginners | By Pavan Lalwani",
         "Duration in sec": 68,
         "Views per video": 109732,
         "Duration in mins": 1.1,
         "_deepnote_index_column": 3
        },
        {
         "titles": "2.1 How to create Column Chart in Power BI | Power BI Tutorials for Beginners | By Pavan Lalwani",
         "Duration in sec": 308,
         "Views per video": 130433,
         "Duration in mins": 5.1,
         "_deepnote_index_column": 4
        }
       ]
      },
      "text/plain": "                                              titles  Duration in sec  \\\n0  Power BI Tutorial for Beginners 2022  (Introdu...              407   \n1  Power BI Tutorial for Beginners - A 30 Mins We...             2215   \n2  1.2 How to Download, Install and upgrade featu...              257   \n3  2.0 Introduction to Basic Charts in Power BI |...               68   \n4  2.1 How to create Column Chart in Power BI | P...              308   \n\n   Views per video  Duration in mins  \n0           373313               6.8  \n1             5003              36.9  \n2           120179               4.3  \n3           109732               1.1  \n4           130433               5.1  ",
      "text/html": "<div>\n<style scoped>\n    .dataframe tbody tr th:only-of-type {\n        vertical-align: middle;\n    }\n\n    .dataframe tbody tr th {\n        vertical-align: top;\n    }\n\n    .dataframe thead th {\n        text-align: right;\n    }\n</style>\n<table border=\"1\" class=\"dataframe\">\n  <thead>\n    <tr style=\"text-align: right;\">\n      <th></th>\n      <th>titles</th>\n      <th>Duration in sec</th>\n      <th>Views per video</th>\n      <th>Duration in mins</th>\n    </tr>\n  </thead>\n  <tbody>\n    <tr>\n      <th>0</th>\n      <td>Power BI Tutorial for Beginners 2022  (Introdu...</td>\n      <td>407</td>\n      <td>373313</td>\n      <td>6.8</td>\n    </tr>\n    <tr>\n      <th>1</th>\n      <td>Power BI Tutorial for Beginners - A 30 Mins We...</td>\n      <td>2215</td>\n      <td>5003</td>\n      <td>36.9</td>\n    </tr>\n    <tr>\n      <th>2</th>\n      <td>1.2 How to Download, Install and upgrade featu...</td>\n      <td>257</td>\n      <td>120179</td>\n      <td>4.3</td>\n    </tr>\n    <tr>\n      <th>3</th>\n      <td>2.0 Introduction to Basic Charts in Power BI |...</td>\n      <td>68</td>\n      <td>109732</td>\n      <td>1.1</td>\n    </tr>\n    <tr>\n      <th>4</th>\n      <td>2.1 How to create Column Chart in Power BI | P...</td>\n      <td>308</td>\n      <td>130433</td>\n      <td>5.1</td>\n    </tr>\n  </tbody>\n</table>\n</div>"
     },
     "metadata": {}
    }
   ]
  },
  {
   "cell_type": "code",
   "source": "_deepnote_run_altair(df, \"\"\"{\"$schema\":\"https://vega.github.io/schema/vega-lite/v4.json\",\"mark\":{\"type\":\"bar\",\"tooltip\":true},\"height\":220,\"autosize\":{\"type\":\"fit\"},\"data\":{\"name\":\"placeholder\"},\"encoding\":{\"x\":{\"field\":\"titles\",\"type\":\"nominal\",\"sort\":null,\"scale\":{\"type\":\"linear\",\"zero\":false}},\"y\":{\"field\":\"Duration in mins\",\"type\":\"quantitative\",\"sort\":null,\"scale\":{\"type\":\"linear\",\"zero\":true}},\"color\":{\"field\":\"\",\"type\":\"nominal\",\"sort\":null,\"scale\":{\"type\":\"linear\",\"zero\":false}}}}\"\"\")",
   "metadata": {
    "cell_id": "c6f9e95dcfa0498e8731ac37f73185a2",
    "deepnote_variable_name": "df",
    "deepnote_visualization_spec": {
     "$schema": "https://vega.github.io/schema/vega-lite/v4.json",
     "mark": {
      "type": "bar",
      "tooltip": true
     },
     "height": 220,
     "autosize": {
      "type": "fit"
     },
     "data": {
      "name": "placeholder"
     },
     "encoding": {
      "x": {
       "field": "titles",
       "type": "nominal",
       "sort": null,
       "scale": {
        "type": "linear",
        "zero": false
       }
      },
      "y": {
       "field": "Duration in mins",
       "type": "quantitative",
       "sort": null,
       "scale": {
        "type": "linear",
        "zero": true
       }
      },
      "color": {
       "field": "",
       "type": "nominal",
       "sort": null,
       "scale": {
        "type": "linear",
        "zero": false
       }
      }
     }
    },
    "deepnote_to_be_reexecuted": false,
    "source_hash": "c7c28587",
    "execution_start": 1656646853916,
    "execution_millis": 58,
    "deepnote_app_coordinates": {
     "x": 0,
     "y": 27,
     "w": 12,
     "h": 16
    },
    "deepnote_cell_type": "visualization"
   },
   "execution_count": 78,
   "outputs": [
    {
     "output_type": "execute_result",
     "execution_count": 78,
     "data": {
      "text/html": "\n<div id=\"altair-viz-5584f4927b5948108274f6d6d54565ac\"></div>\n<script type=\"text/javascript\">\n  (function(spec, embedOpt){\n    let outputDiv = document.currentScript.previousElementSibling;\n    if (outputDiv.id !== \"altair-viz-5584f4927b5948108274f6d6d54565ac\") {\n      outputDiv = document.getElementById(\"altair-viz-5584f4927b5948108274f6d6d54565ac\");\n    }\n    const paths = {\n      \"vega\": \"https://cdn.jsdelivr.net/npm//vega@5?noext\",\n      \"vega-lib\": \"https://cdn.jsdelivr.net/npm//vega-lib?noext\",\n      \"vega-lite\": \"https://cdn.jsdelivr.net/npm//vega-lite@4.8.1?noext\",\n      \"vega-embed\": \"https://cdn.jsdelivr.net/npm//vega-embed@6?noext\",\n    };\n\n    function loadScript(lib) {\n      return new Promise(function(resolve, reject) {\n        var s = document.createElement('script');\n        s.src = paths[lib];\n        s.async = true;\n        s.onload = () => resolve(paths[lib]);\n        s.onerror = () => reject(`Error loading script: ${paths[lib]}`);\n        document.getElementsByTagName(\"head\")[0].appendChild(s);\n      });\n    }\n\n    function showError(err) {\n      outputDiv.innerHTML = `<div class=\"error\" style=\"color:red;\">${err}</div>`;\n      throw err;\n    }\n\n    function displayChart(vegaEmbed) {\n      vegaEmbed(outputDiv, spec, embedOpt)\n        .catch(err => showError(`Javascript Error: ${err.message}<br>This usually means there's a typo in your chart specification. See the javascript console for the full traceback.`));\n    }\n\n    if(typeof define === \"function\" && define.amd) {\n      requirejs.config({paths});\n      require([\"vega-embed\"], displayChart, err => showError(`Error loading script: ${err.message}`));\n    } else if (typeof vegaEmbed === \"function\") {\n      displayChart(vegaEmbed);\n    } else {\n      loadScript(\"vega\")\n        .then(() => loadScript(\"vega-lite\"))\n        .then(() => loadScript(\"vega-embed\"))\n        .catch(showError)\n        .then(() => displayChart(vegaEmbed));\n    }\n  })({\"config\": {\"view\": {\"continuousWidth\": 400, \"continuousHeight\": 300}, \"area\": {\"fill\": \"#51C0E9\"}, \"axis\": {\"labelFont\": \"Inter, sans-serif\", \"labelFontSize\": 12, \"labelFontWeight\": \"normal\", \"labelLimit\": 60, \"labelOverlap\": \"greedy\", \"titleFont\": \"Inter, sans-serif\", \"titleFontSize\": 12, \"titleFontWeight\": \"bold\"}, \"background\": \"#ffffff\", \"legend\": {\"labelFont\": \"Inter, sans-serif\", \"labelFontSize\": 12, \"titleFont\": \"Inter, sans-serif\", \"titleFontSize\": 12, \"titleFontWeight\": \"bold\"}, \"line\": {\"stroke\": \"#51C0E9\", \"strokeWidth\": 2}, \"rect\": {\"fill\": \"#51C0E9\"}, \"title\": {\"anchor\": \"start\", \"color\": \"#000000\", \"font\": \"Inter, sans-serif\", \"fontSize\": 22, \"fontWeight\": \"normal\"}}, \"data\": {\"name\": \"data-3449a5a7745f33b187f59192e7f0eaf1\"}, \"mark\": {\"type\": \"bar\", \"tooltip\": true}, \"autosize\": {\"type\": \"fit\"}, \"encoding\": {\"color\": {\"type\": \"nominal\", \"field\": \"\", \"scale\": {\"type\": \"linear\", \"zero\": false}, \"sort\": null}, \"x\": {\"type\": \"nominal\", \"field\": \"titles\", \"scale\": {\"type\": \"linear\", \"zero\": false}, \"sort\": null}, \"y\": {\"type\": \"quantitative\", \"field\": \"Duration in mins\", \"scale\": {\"type\": \"linear\", \"zero\": true}, \"sort\": null}}, \"height\": 300, \"width\": \"container\", \"$schema\": \"https://vega.github.io/schema/vega-lite/v4.json\", \"datasets\": {\"data-3449a5a7745f33b187f59192e7f0eaf1\": [{\"titles\": \"Power BI Tutorial for Beginners 2022  (Introduction to Power BI )\", \"Duration in sec\": 407, \"Views per video\": 373313, \"Duration in mins\": 6.8}, {\"titles\": \"Power BI Tutorial for Beginners - A 30 Mins Webinar by Pavan Lalwani | How Easy is Power BI Tool\", \"Duration in sec\": 2215, \"Views per video\": 5003, \"Duration in mins\": 36.9}, {\"titles\": \"1.2 How to Download, Install and upgrade features in Power BI | Power BI Tutorials for Beginners\", \"Duration in sec\": 257, \"Views per video\": 120179, \"Duration in mins\": 4.3}, {\"titles\": \"2.0 Introduction to Basic Charts in Power BI | Power BI Tutorials for Beginners | By Pavan Lalwani\", \"Duration in sec\": 68, \"Views per video\": 109732, \"Duration in mins\": 1.1}, {\"titles\": \"2.1 How to create Column Chart in Power BI | Power BI Tutorials for Beginners | By Pavan Lalwani\", \"Duration in sec\": 308, \"Views per video\": 130433, \"Duration in mins\": 5.1}, {\"titles\": \"2.2 How to create Stacked Column Chart in Power BI | Power BI Tutorials for Beginners\", \"Duration in sec\": 126, \"Views per video\": 92115, \"Duration in mins\": 2.1}, {\"titles\": \"2.3  How to create a Pie Chart in Power BI | Power BI Tutorials for Beginners | By Pavan Lalwani\", \"Duration in sec\": 160, \"Views per video\": 70447, \"Duration in mins\": 2.7}, {\"titles\": \"2.4 How to create a Donut Chart in Power BI | Power BI Tutorials for Beginners | By Pavan Lalwani\", \"Duration in sec\": 82, \"Views per video\": 60039, \"Duration in mins\": 1.4}, {\"titles\": \"2.5 How to create a Funnel Chart in Power BI | Power BI Tutorials for Beginners | By Pavan Lalwani\", \"Duration in sec\": 69, \"Views per video\": 56650, \"Duration in mins\": 1.2}, {\"titles\": \"2.6  How to create Ribbon chart in Power BI | Power BI Tutorials for Beginners | By Pavan Lalwani\", \"Duration in sec\": 227, \"Views per video\": 59836, \"Duration in mins\": 3.8}, {\"titles\": \"2.7 What is Include & Exclude in Power BI | Power BI Tutorials for Beginners | By Pavan Lalwani\", \"Duration in sec\": 229, \"Views per video\": 61481, \"Duration in mins\": 3.8}, {\"titles\": \"2.8 View Data and Export in CSV from Power BI Visuals | Power BI Tutorials for Beginners\", \"Duration in sec\": 246, \"Views per video\": 58311, \"Duration in mins\": 4.1}, {\"titles\": \"3.1 How to Create a Basic Map in Power BI | Power BI Tutorials for Beginners | By Pavan Lalwani\", \"Duration in sec\": 200, \"Views per video\": 56523, \"Duration in mins\": 3.3}, {\"titles\": \"3.2 How to Creating a Filled Map in Power BI | Power BI Tutorials for Beginners | By Pavan Lalwani\", \"Duration in sec\": 143, \"Views per video\": 48535, \"Duration in mins\": 2.4}, {\"titles\": \"3.3 How to Creating a Map with Pie Chart in Power BI | Power BI Tutorials for Beginners\", \"Duration in sec\": 219, \"Views per video\": 44115, \"Duration in mins\": 3.6}, {\"titles\": \"3.4 How to Formatting of Map in Power BI | Power BI Tutorials for Beginners | By Pavan Lalwani\", \"Duration in sec\": 270, \"Views per video\": 40684, \"Duration in mins\": 4.5}, {\"titles\": \"3.5 Change Background of Maps in Power BI | Power BI Tutorials for Beginners | By Pavan Lalwani\", \"Duration in sec\": 119, \"Views per video\": 34400, \"Duration in mins\": 2.0}, {\"titles\": \"3.6 How to create Map of India in Power BI | Power BI Tutorials for Beginners | By Pavan Lalwani\", \"Duration in sec\": 156, \"Views per video\": 38445, \"Duration in mins\": 2.6}, {\"titles\": \"3.7 Create Map of Australia in Power BI | Power BI Tutorials for Beginners | By Pavan Lalwani\", \"Duration in sec\": 135, \"Views per video\": 32850, \"Duration in mins\": 2.2}, {\"titles\": \"4.0 Tables and Matrix in Power BI | Power BI Tutorials for Beginners | By Pavan Lalwani\", \"Duration in sec\": 82, \"Views per video\": 41384, \"Duration in mins\": 1.4}, {\"titles\": \"4.1 How to Creating a Table in Power BI  | Power BI Tutorials for Beginners | By Pavan Lalwani\", \"Duration in sec\": 129, \"Views per video\": 43448, \"Duration in mins\": 2.2}, {\"titles\": \"4.2 How to Format a Table in Power BI | Power BI Tutorials for Beginners | By Pavan Lalwani\", \"Duration in sec\": 240, \"Views per video\": 42217, \"Duration in mins\": 4.0}, {\"titles\": \"4.3 How to Apply Conditional Formatting in Power BI | Power BI Tutorials for Beginners\", \"Duration in sec\": 339, \"Views per video\": 43531, \"Duration in mins\": 5.6}, {\"titles\": \"4.4. How to Change Aggregations in Power BI | Power BI Tutorials for Beginners | By Pavan Lalwani\", \"Duration in sec\": 171, \"Views per video\": 37251, \"Duration in mins\": 2.8}, {\"titles\": \"4.5 How to Create a Matrix in Power BI | Power BI Tutorials for Beginners | By Pavan Lalwani\", \"Duration in sec\": 164, \"Views per video\": 38029, \"Duration in mins\": 2.7}, {\"titles\": \"4.6 How to Apply Conditional Formatting in Matrix in Power BI | Power BI Tutorials for Beginners\", \"Duration in sec\": 210, \"Views per video\": 35706, \"Duration in mins\": 3.5}, {\"titles\": \"4.7 How to create Hierarchies in Power BI Matrix | Power BI Tutorials for Beginners By Pavan Lalwani\", \"Duration in sec\": 281, \"Views per video\": 38543, \"Duration in mins\": 4.7}, {\"titles\": \"4.8 How to add Totals & Sub Totals in Matrix in Power BI | Power BI Tutorials for Beginners\", \"Duration in sec\": 165, \"Views per video\": 38620, \"Duration in mins\": 2.8}, {\"titles\": \"4.9 How to Change Number Formatting in Power BI | Power BI Tutorials for Beginner | By Pavan Lalwani\", \"Duration in sec\": 205, \"Views per video\": 71304, \"Duration in mins\": 3.4}, {\"titles\": \"5.0 Introduction to Other Charts in Power BI | Power BI Tutorials for Beginners | By Pavan Lalwani\", \"Duration in sec\": 68, \"Views per video\": 25956, \"Duration in mins\": 1.1}, {\"titles\": \"5.1 How to create Line Chart in Power BI | Power BI Tutorials for Beginners | By Pavan Lalwani\", \"Duration in sec\": 235, \"Views per video\": 43747, \"Duration in mins\": 3.9}, {\"titles\": \"5.2 How to Drill Down in Line Chart in Power BI | Power BI Tutorials for Beginner | By Pavan Lalwani\", \"Duration in sec\": 269, \"Views per video\": 30982, \"Duration in mins\": 4.5}, {\"titles\": \"5.3 How to create an Area Chart in Power BI | Power BI Tutorials for Beginners | By Pavan Lalwani\", \"Duration in sec\": 151, \"Views per video\": 25527, \"Duration in mins\": 2.5}, {\"titles\": \"5.4 How to create Line vs Column Chart in Power BI | Power BI Tutorials for Beginners\", \"Duration in sec\": 267, \"Views per video\": 24148, \"Duration in mins\": 4.4}, {\"titles\": \"5.5 How to create Scatter Plot in Power BI | Power BI Tutorials for Beginners | By Pavan Lalwani\", \"Duration in sec\": 396, \"Views per video\": 37516, \"Duration in mins\": 6.6}, {\"titles\": \"5.6 How to create Waterfall Chart in Power BI | Power BI Tutorials for Beginners | By Pavan Lalwani\", \"Duration in sec\": 191, \"Views per video\": 28731, \"Duration in mins\": 3.2}, {\"titles\": \"5.7 How to create TreeMap in Power BI | Power BI Tutorial for Beginners | By Pavan Lalwani\", \"Duration in sec\": 186, \"Views per video\": 22864, \"Duration in mins\": 3.1}, {\"titles\": \"5.8 How to create a Gauge Chart in Power BI | Power BI Tutorial for Beginners | By Pavan Lalwani\", \"Duration in sec\": 337, \"Views per video\": 27351, \"Duration in mins\": 5.6}, {\"titles\": \"6.0 What is Cards & Filters in Power BI | Power BI Tutorial for Beginners | By Pavan Lalwani\", \"Duration in sec\": 69, \"Views per video\": 23747, \"Duration in mins\": 1.2}, {\"titles\": \"6.1 How to create a Number Card in Power BI | Power BI Tutorial for Beginners | By Pavan Lalwani\", \"Duration in sec\": 273, \"Views per video\": 28790, \"Duration in mins\": 4.6}, {\"titles\": \"6.2 How to create a Text Card in Power BI | Power BI Tutorial for Beginners | By Pavan Lalwani\", \"Duration in sec\": 423, \"Views per video\": 33511, \"Duration in mins\": 7.0}, {\"titles\": \"6.2.1 How to Format a Card in Power BI | Power BI Tutorial for Beginners | By Pavan Lalwani\", \"Duration in sec\": 156, \"Views per video\": 23186, \"Duration in mins\": 2.6}, {\"titles\": \"6.3 How to create Date Card in Power BI | Power BI Tutorial for Beginners | By Pavan Lalwani\", \"Duration in sec\": 305, \"Views per video\": 24628, \"Duration in mins\": 5.1}, {\"titles\": \"6.3.1 How to create Relative Date filter in Power BI | Power BI Tutorial for Beginners\", \"Duration in sec\": 224, \"Views per video\": 22399, \"Duration in mins\": 3.7}, {\"titles\": \"6.4 How to create Multi - Row Card in Power BI | Power BI Tutorial for Beginners | By Pavan Lalwani\", \"Duration in sec\": 245, \"Views per video\": 28683, \"Duration in mins\": 4.1}, {\"titles\": \"6.5 How to create a Filter on Visual in Power BI |Power BI Tutorial for Beginners | By Pavan Lalwani\", \"Duration in sec\": 248, \"Views per video\": 38910, \"Duration in mins\": 4.1}, {\"titles\": \"6.6 Filter On This Page in Power BI | Power BI Tutorial for Beginners | By Pavan Lalwani\", \"Duration in sec\": 206, \"Views per video\": 19578, \"Duration in mins\": 3.4}, {\"titles\": \"6.7 How to Use Filter on All Pages in Power BI | Power BI Tutorial for Beginners | By Pavan Lalwani\", \"Duration in sec\": 228, \"Views per video\": 27876, \"Duration in mins\": 3.8}, {\"titles\": \"6.8 How to Use Drillthrough in Power BI | Power BI Tutorial for Beginners | By Pavan Lalwani\", \"Duration in sec\": 342, \"Views per video\": 52677, \"Duration in mins\": 5.7}, {\"titles\": \"7.0 Slicers in Power BI | Power BI Tutorial for Beginners | By Pavan Lalwani\", \"Duration in sec\": 57, \"Views per video\": 20943, \"Duration in mins\": 1.0}, {\"titles\": \"7.1 How to create Text Slicers in Power BI | Power BI Tutorial for Beginners | By Pavan Lalwani\", \"Duration in sec\": 311, \"Views per video\": 28278, \"Duration in mins\": 5.2}, {\"titles\": \"7.2 How to format Text Slicers in Power BI | Power BI Tutorial for Beginners | By Pavan Lalwani\", \"Duration in sec\": 221, \"Views per video\": 21040, \"Duration in mins\": 3.7}, {\"titles\": \"7.3 How to create Date Slicers in Power BI | Power BI Tutorial for Beginners | By Pavan Lalwani\", \"Duration in sec\": 275, \"Views per video\": 23346, \"Duration in mins\": 4.6}, {\"titles\": \"7.4 How to format a Date Slicer Power BI | Power BI Tutorial for Beginners | By Pavan Lalwani\", \"Duration in sec\": 189, \"Views per video\": 17367, \"Duration in mins\": 3.2}, {\"titles\": \"7.5 How to create Number Slicers in Power BI | Power BI Tutorial for Beginners | By Pavan Lalwani\", \"Duration in sec\": 161, \"Views per video\": 16541, \"Duration in mins\": 2.7}, {\"titles\": \"8.0 Introduction to Advanced Charts in Power BI Desktop | Power BI Tutorial for Beginners\", \"Duration in sec\": 164, \"Views per video\": 18413, \"Duration in mins\": 2.7}, {\"titles\": \"8.1 How to create Animated Bar Chart Race in Power BI | Power BI Tutorial for Beginners\", \"Duration in sec\": 323, \"Views per video\": 27465, \"Duration in mins\": 5.4}, {\"titles\": \"8.2 How to create Drill-Down Donut Chart in Power BI | Power BI Tutorial for Beginners\", \"Duration in sec\": 210, \"Views per video\": 17846, \"Duration in mins\": 3.5}, {\"titles\": \"8.3 How to Drill Down Column Chart in Power BI | Power BI Tutorial for Beginners | By Pavan Lalwani\", \"Duration in sec\": 212, \"Views per video\": 20629, \"Duration in mins\": 3.5}, {\"titles\": \"8.4 How to create a Word Cloud in Power BI | Power BI Tutorial for Beginners | By Pavan Lalwani\", \"Duration in sec\": 151, \"Views per video\": 13896, \"Duration in mins\": 2.5}, {\"titles\": \"8.5 How to create Sankey Chart in Power BI |Power BI Tutorial for Beginners | By Pavan Lalwani\", \"Duration in sec\": 220, \"Views per video\": 17314, \"Duration in mins\": 3.7}, {\"titles\": \"8.6 How to create Infographics in Power BI | Power BI Tutorial for Beginners | By Pavan Lalwani\", \"Duration in sec\": 254, \"Views per video\": 15648, \"Duration in mins\": 4.2}, {\"titles\": \"8.7 How to create Play Axis Slicer in Power BI | Power BI Tutorial for Beginners | By Pavan Lalwani\", \"Duration in sec\": 170, \"Views per video\": 15577, \"Duration in mins\": 2.8}, {\"titles\": \"8.8 How to create Scroller in Power BI  | Power BI Tutorial for Beginners | By Pavan Lalwani\", \"Duration in sec\": 276, \"Views per video\": 17311, \"Duration in mins\": 4.6}, {\"titles\": \"8.9 How to create Sunburst Chart in Power BI | Power BI Tutorial for Beginners | By Pavan Lalwani\", \"Duration in sec\": 154, \"Views per video\": 13274, \"Duration in mins\": 2.6}, {\"titles\": \"8.10 How to create Histogram in Power BI | Power BI Tutorial for Beginners | By Pavan Lalwani\", \"Duration in sec\": 183, \"Views per video\": 19833, \"Duration in mins\": 3.0}, {\"titles\": \"9.1 How to Insert Image in Power BI | Power BI Tutorial for Beginners | By Pavan Lalwani\", \"Duration in sec\": 206, \"Views per video\": 24714, \"Duration in mins\": 3.4}, {\"titles\": \"9.2 Insert Text in Power BI |  Power BI Tutorial for Beginners | By Pavan Lalwani\", \"Duration in sec\": 127, \"Views per video\": 14221, \"Duration in mins\": 2.1}, {\"titles\": \"9.3 How to Insert Shapes in Power BI | Power BI Tutorial for Beginners | By Pavan Lalwani\", \"Duration in sec\": 159, \"Views per video\": 15581, \"Duration in mins\": 2.6}, {\"titles\": \"9.4 How to Insert Buttons in Power BI | Power BI Tutorial for Beginners | By Pavan Lalwani\", \"Duration in sec\": 158, \"Views per video\": 21678, \"Duration in mins\": 2.6}, {\"titles\": \"9.5 Web URL Action in Power BI | Power BI Tutorial for Beginners | By Pavan Lalwani\", \"Duration in sec\": 198, \"Views per video\": 19218, \"Duration in mins\": 3.3}, {\"titles\": \"9.6 Page Navigation Action in Power BI | Power BI Tutorial for Beginners | By Pavan Lalwani\", \"Duration in sec\": 175, \"Views per video\": 22534, \"Duration in mins\": 2.9}, {\"titles\": \"9.7 Bookmark Action in Power BI | Power BI Tutorial for Beginners | By Pavan Lalwani\", \"Duration in sec\": 273, \"Views per video\": 36005, \"Duration in mins\": 4.6}, {\"titles\": \"9.8 How to create Drillthrough Action in Power BI | Power BI Tutorial for Beginner |By Pavan Lalwani\", \"Duration in sec\": 303, \"Views per video\": 20116, \"Duration in mins\": 5.0}, {\"titles\": \"10.1 How to Create a Superstore Report in Power BI |Power BI Tutorial for Beginner |By Pavan Lalwani\", \"Duration in sec\": 901, \"Views per video\": 43537, \"Duration in mins\": 15.0}, {\"titles\": \"Power BI Tutorial for Beginners 2020 | Power Query tutorial | Tableau vs Power BI | ETL\", \"Duration in sec\": 295, \"Views per video\": 20381, \"Duration in mins\": 4.9}, {\"titles\": \"10.2 How to create an account on Power BI Service? | Power BI Tutorial for Beginners\", \"Duration in sec\": 222, \"Views per video\": 35486, \"Duration in mins\": 3.7}, {\"titles\": \"10.3 How to Publish Report to Power BI Service | Power BI Tutorial for Beginners | By Pavan Lalwani\", \"Duration in sec\": 172, \"Views per video\": 31782, \"Duration in mins\": 2.9}, {\"titles\": \"10.4 Export Power BI Report in to PPT, PDF & PBIX format | Power BI Tutorial for Beginners\", \"Duration in sec\": 204, \"Views per video\": 23572, \"Duration in mins\": 3.4}, {\"titles\": \"10.5 What is Comment, Share & Subscribe in Power BI Reports | Power BI Tutorial for Beginners\", \"Duration in sec\": 419, \"Views per video\": 19873, \"Duration in mins\": 7.0}, {\"titles\": \"10.6 Create a Dashboard in Power BI | Power BI Tutorial for Beginners | By Pavan Lalwani\", \"Duration in sec\": 372, \"Views per video\": 41250, \"Duration in mins\": 6.2}, {\"titles\": \"10.7 Problem in Power BI Dashboard & Its Solution | Power BI Tutorial for Beginner |By Pavan Lalwani\", \"Duration in sec\": 274, \"Views per video\": 18335, \"Duration in mins\": 4.6}, {\"titles\": \"10.8 How to refresh reports Automatically in Power BI Service | Power BI Tutorial for Beginners\", \"Duration in sec\": 618, \"Views per video\": 84823, \"Duration in mins\": 10.3}, {\"titles\": \"11.0 Text Functions in Power BI (Power Query) | Power BI Tutorial for Beginners | By Pavan Lalwani\", \"Duration in sec\": 91, \"Views per video\": 35466, \"Duration in mins\": 1.5}, {\"titles\": \"11.1 How Merge Columns in Power BI (Power Query) | Power BI Tutorial for Beginner | By Pavan Lalwani\", \"Duration in sec\": 564, \"Views per video\": 31050, \"Duration in mins\": 9.4}, {\"titles\": \"11.2 How to Split & Trim Text in Power BI (Power Query) | Power BI Tutorial for Beginner\", \"Duration in sec\": 284, \"Views per video\": 21001, \"Duration in mins\": 4.7}, {\"titles\": \"11.3 Upper, lower & Proper Case in Power BI (Power Query) | Power BI Tutorial for Beginners\", \"Duration in sec\": 218, \"Views per video\": 16659, \"Duration in mins\": 3.6}, {\"titles\": \"11.4 How to Add Prefix and Suffix in Power BI (Power Query) | Power BI Tutorial for Beginners\", \"Duration in sec\": 174, \"Views per video\": 16057, \"Duration in mins\": 2.9}, {\"titles\": \"11.5 Left, Right and Mid Functions in Power BI (Power Query) | Power BI tutorial for beginners\", \"Duration in sec\": 311, \"Views per video\": 23032, \"Duration in mins\": 5.2}, {\"titles\": \"11.6 How to Extract Text with Delimiters in Power BI (Power Query) | By Pavan Lalwani\", \"Duration in sec\": 183, \"Views per video\": 19210, \"Duration in mins\": 3.0}, {\"titles\": \"12.0 Date Functions in Power BI (Power Query) | By Pavan Lalwani\", \"Duration in sec\": 123, \"Views per video\": 16985, \"Duration in mins\": 2.0}, {\"titles\": \"12.1 Year, Quarter, Month & Day Functions in Power BI (Power Query) | Power BI Tutorial for Beginner\", \"Duration in sec\": 283, \"Views per video\": 25845, \"Duration in mins\": 4.7}, {\"titles\": \"12.2 How to find difference between dates in Power BI (Power Query) | Power BI Tutorial for Beginner\", \"Duration in sec\": 150, \"Views per video\": 19764, \"Duration in mins\": 2.5}, {\"titles\": \"12.3 How to get Month and Day Name in Power BI (Power Query) | Power BI Tutorial for Beginners\", \"Duration in sec\": 99, \"Views per video\": 17159, \"Duration in mins\": 1.6}, {\"titles\": \"12.4 How to find Day/Week of Month/Year in Power BI (Power Query) | Power BI Tutorial for Beginners\", \"Duration in sec\": 107, \"Views per video\": 13661, \"Duration in mins\": 1.8}, {\"titles\": \"12.5 How to Extract Date and Time in Power BI (Power Query) | By Pavan Lalwani\", \"Duration in sec\": 97, \"Views per video\": 16939, \"Duration in mins\": 1.6}, {\"titles\": \"12.6 How to Calculated Age in Power BI (Power Query) | Power BI Tutorial for Beginners\", \"Duration in sec\": 168, \"Views per video\": 14746, \"Duration in mins\": 2.8}, {\"titles\": \"13.0 Number Functions in Power BI (Power Query) | Power BI Tutorial for Beginners | By Pavan Lalwani\", \"Duration in sec\": 61, \"Views per video\": 13882, \"Duration in mins\": 1.0}, {\"titles\": \"13.1 Basic Number Functions in Power BI (Power Query) | By Pavan Lalwani\", \"Duration in sec\": 341, \"Views per video\": 16668, \"Duration in mins\": 5.7}, {\"titles\": \"13.2 How to Find Percentage, Percent Of, Modulo in Power BI (Power Query) | By Pavan Lalwani\", \"Duration in sec\": 295, \"Views per video\": 16618, \"Duration in mins\": 4.9}, {\"titles\": \"13.3 Round Functions in Power BI (Power Query) | Power BI Tutorial for Beginners | By Pavan Lalwani\", \"Duration in sec\": 158, \"Views per video\": 13387, \"Duration in mins\": 2.6}, {\"titles\": \"13.4 How to Find IsEven, IsODD & Sign in Power BI (Power Query) | By Pavan Lalwani\", \"Duration in sec\": 160, \"Views per video\": 12351, \"Duration in mins\": 2.7}, {\"titles\": \"14.1 Append Multiple CSV Files in a Folder in Power BI (Power Query) | By Pavan Lalwani\", \"Duration in sec\": 291, \"Views per video\": 16326, \"Duration in mins\": 4.8}, {\"titles\": \"14.1 Append Multiple CSV files in a Folder in Power BI (Power Query) | By Pavan Lalwani\", \"Duration in sec\": 412, \"Views per video\": 22177, \"Duration in mins\": 6.9}, {\"titles\": \"14.2 Append Excel Sheets & Tables in Power BI (Power Query) | Power BI Tutorial for Beginners\", \"Duration in sec\": 247, \"Views per video\": 15728, \"Duration in mins\": 4.1}, {\"titles\": \"14.3 Append Excel Sheets or Tables with different numbers of columns in Power BI (Power Query)\", \"Duration in sec\": 350, \"Views per video\": 19233, \"Duration in mins\": 5.8}, {\"titles\": \"14.4 Append multiple Excel files from a folder in Power BI (Power Query) | By Pavan Lalwani\", \"Duration in sec\": 553, \"Views per video\": 21523, \"Duration in mins\": 9.2}, {\"titles\": \"14.5 Append different data sources in Power BI (Power Query) | Power BI Tutorial for Beginners\", \"Duration in sec\": 222, \"Views per video\": 12764, \"Duration in mins\": 3.7}, {\"titles\": \"15.0 Merge Files and Tables in Power BI (Power Query) | Power BI Tutorial for Beginners\", \"Duration in sec\": 78, \"Views per video\": 11822, \"Duration in mins\": 1.3}, {\"titles\": \"15.1 Merge Sheets or Tables in Power BI (Power Query) | Power BI Tutorial for Beginners\", \"Duration in sec\": 316, \"Views per video\": 14608, \"Duration in mins\": 5.3}, {\"titles\": \"15.2 Merge Data from Multiple Excel Files or Workbooks in Power BI (Power Query) | By Pavan Lalwani\", \"Duration in sec\": 229, \"Views per video\": 15675, \"Duration in mins\": 3.8}, {\"titles\": \"15.3 Merge Data From Different Data Sources in Power BI (Power Query)|Power BI Tutorial for Beginner\", \"Duration in sec\": 191, \"Views per video\": 18028, \"Duration in mins\": 3.2}, {\"titles\": \"15.4 Merge Data Having Multiple Criteria or Multiple Columns in Power BI (Power Query)\", \"Duration in sec\": 215, \"Views per video\": 17481, \"Duration in mins\": 3.6}, {\"titles\": \"16.0 Conditional Column & Column from Example in Power BI (Power Query) | By Pavan Lalwani\", \"Duration in sec\": 64, \"Views per video\": 11069, \"Duration in mins\": 1.1}, {\"titles\": \"16.1 Column from examples - Split Text in Power BI (Power Query) | Power BI Tutorial for Beginners\", \"Duration in sec\": 353, \"Views per video\": 13234, \"Duration in mins\": 5.9}, {\"titles\": \"16.2 Column From Examples - Merge Column in Power BI (Power Query) | Power BI Tutorial for Beginners\", \"Duration in sec\": 234, \"Views per video\": 11720, \"Duration in mins\": 3.9}, {\"titles\": \"16.3 Column from Examples - Date in Power BI (Power Query) | Power BI Tutorial for Beginners\", \"Duration in sec\": 228, \"Views per video\": 9961, \"Duration in mins\": 3.8}, {\"titles\": \"16.4 Column from Examples - Alphanumeric in Power BI (Power Query) | Power BI Tutorial for Beginners\", \"Duration in sec\": 175, \"Views per video\": 9513, \"Duration in mins\": 2.9}, {\"titles\": \"16.5 Conditional Column - One Column in Power BI (Power Query) | Power BI Tutorial for Beginners\", \"Duration in sec\": 234, \"Views per video\": 12097, \"Duration in mins\": 3.9}, {\"titles\": \"16.6 Conditional Column - Two Columns in Power BI (Power Query) | Power BI Tutorial for Beginners\", \"Duration in sec\": 195, \"Views per video\": 10209, \"Duration in mins\": 3.2}, {\"titles\": \"16.7 Conditional Column in Power BI Compare Two Columns(Power Query)|Power BI Tutorial for Beginners\", \"Duration in sec\": 182, \"Views per video\": 10979, \"Duration in mins\": 3.0}, {\"titles\": \"16.8 Conditional Column On Dates Example in Power BI (Power Query) | Power BI Tutorial for Beginners\", \"Duration in sec\": 130, \"Views per video\": 9945, \"Duration in mins\": 2.2}, {\"titles\": \"17.0 Very Important Topics in Power BI (Power Query) | Power BI Tutorial for Beginners\", \"Duration in sec\": 75, \"Views per video\": 12296, \"Duration in mins\": 1.2}, {\"titles\": \"17.1 Fill Down in Power BI (Power Query) | Power BI Tutorial for Beginners | By Pavan Lalwani\", \"Duration in sec\": 135, \"Views per video\": 11624, \"Duration in mins\": 2.2}, {\"titles\": \"17.2 Grouping in Power BI (Power Query) | Power BI Tutorial for Beginners | By Pavan Lalwani\", \"Duration in sec\": 275, \"Views per video\": 19164, \"Duration in mins\": 4.6}, {\"titles\": \"17.3 Transpose in Power BI (Power Query) | Power BI Tutorial for Beginners | By Pavan Lalwani\", \"Duration in sec\": 190, \"Views per video\": 13783, \"Duration in mins\": 3.2}, {\"titles\": \"17.4 Unpivot In Power BI (Power Query) | Power BI Tutorial for Beginners | By Pavan Lalwani\", \"Duration in sec\": 173, \"Views per video\": 16078, \"Duration in mins\": 2.9}, {\"titles\": \"17.5 Data Types in Power BI (Power Query) | Power BI Tutorial for Beginners | By Pavan Lalwani\", \"Duration in sec\": 357, \"Views per video\": 13968, \"Duration in mins\": 6.0}, {\"titles\": \"17.6 Replace Errors and Values in Power BI (Power Query) | Power BI Tutorial for Beginners\", \"Duration in sec\": 405, \"Views per video\": 14260, \"Duration in mins\": 6.8}, {\"titles\": \"17.7 Keep and Remove Rows in Power BI (Power Query) | Power BI Tutorial for Beginners\", \"Duration in sec\": 296, \"Views per video\": 24912, \"Duration in mins\": 4.9}, {\"titles\": \"17.8 Add, Remove, and Goto Columns in Power BI (Power Query) | Power BI Tutorial for Beginners\", \"Duration in sec\": 228, \"Views per video\": 8831, \"Duration in mins\": 3.8}, {\"titles\": \"18.0 M Language in Power BI (Power Query) | Power BI Tutorial for Beginners | By Pavan Lalwani\", \"Duration in sec\": 127, \"Views per video\": 13279, \"Duration in mins\": 2.1}, {\"titles\": \"18.1 Introduction to M Language in Power BI (Power Query) | Power BI Tutorial for Beginners\", \"Duration in sec\": 389, \"Views per video\": 27529, \"Duration in mins\": 6.5}, {\"titles\": \"18.2 ISIN Date Functions in M Language in Power BI (Power Query) | Power BI Tutorial for Beginners\", \"Duration in sec\": 582, \"Views per video\": 17704, \"Duration in mins\": 9.7}, {\"titles\": \"18.3 Add and Subtract Date M Functions in Power BI (Power Query) | Power BI Tutorial for Beginners\", \"Duration in sec\": 190, \"Views per video\": 16655, \"Duration in mins\": 3.2}, {\"titles\": \"18.4 Basic Date M Functions in Power BI (Power Query) | Power BI Tutorial for Beginners\", \"Duration in sec\": 176, \"Views per video\": 10366, \"Duration in mins\": 2.9}, {\"titles\": \"18.5 Basic Text M Functions in Power BI (Power Query) | Power BI Tutorial for Beginners\", \"Duration in sec\": 331, \"Views per video\": 12892, \"Duration in mins\": 5.5}, {\"titles\": \"18.6 Write a Simple M Code in Power BI (Power Query) | Power BI Tutorial for Beginners\", \"Duration in sec\": 275, \"Views per video\": 19914, \"Duration in mins\": 4.6}, {\"titles\": \"18.7 Trick to Get 900+ M Function in Power BI (Power Query) | Power BI Tutorial for Beginners\", \"Duration in sec\": 292, \"Views per video\": 19575, \"Duration in mins\": 4.9}]}}, {\"actions\": false, \"mode\": \"vega-lite\"});\n</script>",
      "text/plain": "alt.Chart(...)"
     },
     "metadata": {}
    }
   ]
  },
  {
   "cell_type": "code",
   "metadata": {
    "cell_id": "caeffcbe450248ea94053aec8c8ad809",
    "tags": [],
    "deepnote_to_be_reexecuted": false,
    "source_hash": "5fcd08c4",
    "execution_start": 1656647063569,
    "execution_millis": 620,
    "deepnote_cell_type": "code",
    "deepnote_cell_height": 518
   },
   "source": "df.describe().round(1)",
   "execution_count": 87,
   "outputs": [
    {
     "output_type": "execute_result",
     "execution_count": 87,
     "data": {
      "application/vnd.deepnote.dataframe.v3+json": {
       "column_count": 3,
       "row_count": 8,
       "columns": [
        {
         "name": "Duration in sec",
         "dtype": "float64",
         "stats": {
          "unique_count": 8,
          "nan_count": 0,
          "min": "57.0",
          "max": "2215.0",
          "histogram": [
           {
            "bin_start": 57,
            "bin_end": 272.8,
            "count": 6
           },
           {
            "bin_start": 272.8,
            "bin_end": 488.6,
            "count": 1
           },
           {
            "bin_start": 488.6,
            "bin_end": 704.4000000000001,
            "count": 0
           },
           {
            "bin_start": 704.4000000000001,
            "bin_end": 920.2,
            "count": 0
           },
           {
            "bin_start": 920.2,
            "bin_end": 1136,
            "count": 0
           },
           {
            "bin_start": 1136,
            "bin_end": 1351.8000000000002,
            "count": 0
           },
           {
            "bin_start": 1351.8000000000002,
            "bin_end": 1567.6000000000001,
            "count": 0
           },
           {
            "bin_start": 1567.6000000000001,
            "bin_end": 1783.4,
            "count": 0
           },
           {
            "bin_start": 1783.4,
            "bin_end": 1999.2,
            "count": 0
           },
           {
            "bin_start": 1999.2,
            "bin_end": 2215,
            "count": 1
           }
          ]
         }
        },
        {
         "name": "Views per video",
         "dtype": "float64",
         "stats": {
          "unique_count": 8,
          "nan_count": 0,
          "min": "139.0",
          "max": "373313.0",
          "histogram": [
           {
            "bin_start": 139,
            "bin_end": 37456.4,
            "count": 7
           },
           {
            "bin_start": 37456.4,
            "bin_end": 74773.8,
            "count": 0
           },
           {
            "bin_start": 74773.8,
            "bin_end": 112091.20000000001,
            "count": 0
           },
           {
            "bin_start": 112091.20000000001,
            "bin_end": 149408.6,
            "count": 0
           },
           {
            "bin_start": 149408.6,
            "bin_end": 186726,
            "count": 0
           },
           {
            "bin_start": 186726,
            "bin_end": 224043.40000000002,
            "count": 0
           },
           {
            "bin_start": 224043.40000000002,
            "bin_end": 261360.80000000002,
            "count": 0
           },
           {
            "bin_start": 261360.80000000002,
            "bin_end": 298678.2,
            "count": 0
           },
           {
            "bin_start": 298678.2,
            "bin_end": 335995.60000000003,
            "count": 0
           },
           {
            "bin_start": 335995.60000000003,
            "bin_end": 373313,
            "count": 1
           }
          ]
         }
        },
        {
         "name": "Duration in mins",
         "dtype": "float64",
         "stats": {
          "unique_count": 8,
          "nan_count": 0,
          "min": "1.0",
          "max": "139.0",
          "histogram": [
           {
            "bin_start": 1,
            "bin_end": 14.8,
            "count": 6
           },
           {
            "bin_start": 14.8,
            "bin_end": 28.6,
            "count": 0
           },
           {
            "bin_start": 28.6,
            "bin_end": 42.400000000000006,
            "count": 1
           },
           {
            "bin_start": 42.400000000000006,
            "bin_end": 56.2,
            "count": 0
           },
           {
            "bin_start": 56.2,
            "bin_end": 70,
            "count": 0
           },
           {
            "bin_start": 70,
            "bin_end": 83.80000000000001,
            "count": 0
           },
           {
            "bin_start": 83.80000000000001,
            "bin_end": 97.60000000000001,
            "count": 0
           },
           {
            "bin_start": 97.60000000000001,
            "bin_end": 111.4,
            "count": 0
           },
           {
            "bin_start": 111.4,
            "bin_end": 125.2,
            "count": 0
           },
           {
            "bin_start": 125.2,
            "bin_end": 139,
            "count": 1
           }
          ]
         }
        },
        {
         "name": "_deepnote_index_column",
         "dtype": "object"
        }
       ],
       "rows": [
        {
         "Duration in sec": 139,
         "Views per video": 139,
         "Duration in mins": 139,
         "_deepnote_index_column": "count"
        },
        {
         "Duration in sec": 246.8,
         "Views per video": 30569.5,
         "Duration in mins": 4.1,
         "_deepnote_index_column": "mean"
        },
        {
         "Duration in sec": 206.2,
         "Views per video": 35817.5,
         "Duration in mins": 3.4,
         "_deepnote_index_column": "std"
        },
        {
         "Duration in sec": 57,
         "Views per video": 5003,
         "Duration in mins": 1,
         "_deepnote_index_column": "min"
        },
        {
         "Duration in sec": 160,
         "Views per video": 15892.5,
         "Duration in mins": 2.7,
         "_deepnote_index_column": "25%"
        },
        {
         "Duration in sec": 218,
         "Views per video": 21001,
         "Duration in mins": 3.6,
         "_deepnote_index_column": "50%"
        },
        {
         "Duration in sec": 283.5,
         "Views per video": 35476,
         "Duration in mins": 4.7,
         "_deepnote_index_column": "75%"
        },
        {
         "Duration in sec": 2215,
         "Views per video": 373313,
         "Duration in mins": 36.9,
         "_deepnote_index_column": "max"
        }
       ]
      },
      "text/plain": "       Duration in sec  Views per video  Duration in mins\ncount            139.0            139.0             139.0\nmean             246.8          30569.5               4.1\nstd              206.2          35817.5               3.4\nmin               57.0           5003.0               1.0\n25%              160.0          15892.5               2.7\n50%              218.0          21001.0               3.6\n75%              283.5          35476.0               4.7\nmax             2215.0         373313.0              36.9",
      "text/html": "<div>\n<style scoped>\n    .dataframe tbody tr th:only-of-type {\n        vertical-align: middle;\n    }\n\n    .dataframe tbody tr th {\n        vertical-align: top;\n    }\n\n    .dataframe thead th {\n        text-align: right;\n    }\n</style>\n<table border=\"1\" class=\"dataframe\">\n  <thead>\n    <tr style=\"text-align: right;\">\n      <th></th>\n      <th>Duration in sec</th>\n      <th>Views per video</th>\n      <th>Duration in mins</th>\n    </tr>\n  </thead>\n  <tbody>\n    <tr>\n      <th>count</th>\n      <td>139.0</td>\n      <td>139.0</td>\n      <td>139.0</td>\n    </tr>\n    <tr>\n      <th>mean</th>\n      <td>246.8</td>\n      <td>30569.5</td>\n      <td>4.1</td>\n    </tr>\n    <tr>\n      <th>std</th>\n      <td>206.2</td>\n      <td>35817.5</td>\n      <td>3.4</td>\n    </tr>\n    <tr>\n      <th>min</th>\n      <td>57.0</td>\n      <td>5003.0</td>\n      <td>1.0</td>\n    </tr>\n    <tr>\n      <th>25%</th>\n      <td>160.0</td>\n      <td>15892.5</td>\n      <td>2.7</td>\n    </tr>\n    <tr>\n      <th>50%</th>\n      <td>218.0</td>\n      <td>21001.0</td>\n      <td>3.6</td>\n    </tr>\n    <tr>\n      <th>75%</th>\n      <td>283.5</td>\n      <td>35476.0</td>\n      <td>4.7</td>\n    </tr>\n    <tr>\n      <th>max</th>\n      <td>2215.0</td>\n      <td>373313.0</td>\n      <td>36.9</td>\n    </tr>\n  </tbody>\n</table>\n</div>"
     },
     "metadata": {}
    }
   ]
  },
  {
   "cell_type": "markdown",
   "source": "## Get the Excel output",
   "metadata": {
    "formattedRanges": [],
    "cell_id": "3e0c650d02b44d73929ba294e7758889",
    "tags": [],
    "is_collapsed": false,
    "deepnote_cell_type": "text-cell-h2"
   }
  },
  {
   "cell_type": "code",
   "metadata": {
    "cell_id": "373ac43a69f0454291b89af89295da07",
    "tags": [],
    "deepnote_to_be_reexecuted": false,
    "source_hash": "8a41c9c4",
    "execution_start": 1656647656698,
    "execution_millis": 46,
    "deepnote_app_coordinates": {
     "x": 0,
     "y": 44,
     "w": 12,
     "h": 8
    },
    "deepnote_app_is_code_hidden": true,
    "deepnote_cell_type": "code",
    "deepnote_cell_height": 202
   },
   "source": "writer_obj = pd.ExcelWriter('Youtube Playlist Details.xlsx', engine='xlsxwriter')\n\ndf.to_excel(writer_obj, sheet_name='Sheet1')\n\nwriter_obj.save()\nprint('Please check out the youtube playlist details file.')",
   "execution_count": 96,
   "outputs": [
    {
     "name": "stdout",
     "text": "Please check out the youtube playlist details file.\n",
     "output_type": "stream"
    }
   ]
  },
  {
   "cell_type": "markdown",
   "source": "<a style='text-decoration:none;line-height:16px;display:flex;color:#5B5B62;padding:10px;justify-content:end;' href='https://deepnote.com?utm_source=created-in-deepnote-cell&projectId=186b8667-af1f-4bfb-bbb6-79720b6a08a7' target=\"_blank\">\n<img alt='Created in deepnote.com' style='display:inline;max-height:16px;margin:0px;margin-right:7.5px;' src='data:image/svg+xml;base64,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' > </img>\nCreated in <span style='font-weight:600;margin-left:4px;'>Deepnote</span></a>",
   "metadata": {
    "tags": [],
    "created_in_deepnote_cell": true,
    "deepnote_cell_type": "markdown"
   }
  }
 ],
 "nbformat": 4,
 "nbformat_minor": 2,
 "metadata": {
  "orig_nbformat": 2,
  "deepnote": {},
  "deepnote_notebook_id": "57dcf1a0-ca25-4910-b2e6-ff45e67b229b",
  "deepnote_execution_queue": [],
  "deepnote_app_layout": "dashboard"
 }
}