{
  "cells": [
    {
      "cell_type": "markdown",
      "metadata": {
        "id": "view-in-github",
        "colab_type": "text"
      },
      "source": [
        "<a href=\"https://colab.research.google.com/github/AftabUdaipurwala/Python_100DaysofCode/blob/main/Auto_Emailer.ipynb\" target=\"_parent\"><img src=\"https://colab.research.google.com/assets/colab-badge.svg\" alt=\"Open In Colab\"/></a>"
      ]
    },
    {
      "cell_type": "markdown",
      "source": [
        "# Auto Email Scheduler"
      ],
      "metadata": {
        "formattedRanges": [],
        "cell_id": "38f651d320824ff99562787b1c530d85",
        "tags": [],
        "is_collapsed": false,
        "deepnote_cell_type": "text-cell-h1",
        "id": "NEVQBqp3Tfim"
      }
    },
    {
      "cell_type": "markdown",
      "source": [
        "## Library"
      ],
      "metadata": {
        "cell_id": "4b0a729f34284b7db0ea026700be4a6b",
        "tags": [],
        "is_collapsed": false,
        "formattedRanges": [],
        "deepnote_cell_type": "text-cell-h2",
        "id": "G4reHnISTfiq"
      }
    },
    {
      "cell_type": "code",
      "source": [
        "import smtplib\n",
        "from email.mime.text import MIMEText"
      ],
      "metadata": {
        "cell_id": "de00fcf659934bde855b05f1071c11d4",
        "tags": [],
        "deepnote_to_be_reexecuted": false,
        "source_hash": "fab21cb1",
        "execution_start": 1656755147944,
        "execution_millis": 43,
        "deepnote_cell_type": "code",
        "deepnote_cell_height": 99,
        "id": "Vjjzh_utTfis"
      },
      "outputs": [],
      "execution_count": null
    },
    {
      "cell_type": "markdown",
      "source": [
        "## Variables"
      ],
      "metadata": {
        "cell_id": "21c620a131314e44a4176082063d4bdb",
        "tags": [],
        "is_collapsed": false,
        "formattedRanges": [],
        "deepnote_cell_type": "text-cell-h2",
        "id": "UrXMKGqfTfiu"
      }
    },
    {
      "cell_type": "code",
      "source": [
        "body = 'This is a test email'\n",
        "msg = MIMEText(body)\n"
      ],
      "metadata": {
        "cell_id": "6f9740e09a66418d95dc0342e55e5962",
        "tags": [],
        "deepnote_to_be_reexecuted": false,
        "source_hash": "a9462ac1",
        "execution_start": 1656755147987,
        "execution_millis": 1,
        "deepnote_cell_type": "code",
        "deepnote_cell_height": 117,
        "id": "wYVSuiNjTfiv"
      },
      "outputs": [],
      "execution_count": null
    },
    {
      "cell_type": "markdown",
      "source": [
        "## Message Sender Receivers"
      ],
      "metadata": {
        "cell_id": "bc3f0bc743254b7abe8a96154e98a129",
        "tags": [],
        "is_collapsed": false,
        "formattedRanges": [],
        "deepnote_cell_type": "text-cell-h2",
        "id": "fAMNswfpTfiw"
      }
    },
    {
      "cell_type": "code",
      "source": [
        "msg['From']='xxx@outlook.com'\n",
        "msg['To'] = 'xxx@gmail.com'\n",
        "msg['Subject']= 'Test email'"
      ],
      "metadata": {
        "cell_id": "245678f49ed64149b0e29343932bfd7b",
        "tags": [],
        "deepnote_to_be_reexecuted": false,
        "source_hash": "f5d9952d",
        "execution_start": 1656755148031,
        "execution_millis": 267712,
        "deepnote_cell_type": "code",
        "deepnote_cell_height": 117,
        "id": "ZiiNsyXlTfix"
      },
      "outputs": [],
      "execution_count": null
    },
    {
      "cell_type": "markdown",
      "source": [
        "## Server Connections"
      ],
      "metadata": {
        "cell_id": "f364e88d8506406aaa5b8356fa56c3c2",
        "tags": [],
        "is_collapsed": false,
        "formattedRanges": [],
        "deepnote_cell_type": "text-cell-h2",
        "id": "t8u_GoiZTfiy"
      }
    },
    {
      "cell_type": "code",
      "metadata": {
        "tags": [],
        "cell_id": "27a86033-379f-4d8a-88c6-61bfd8d5616c",
        "deepnote_to_be_reexecuted": false,
        "source_hash": "876a616e",
        "execution_start": 1656755148031,
        "execution_millis": 7280,
        "owner_user_id": "1aba9b8c-4aab-4d07-a681-34f66fdc4649",
        "deepnote_cell_type": "code",
        "deepnote_cell_height": 226.1875,
        "deepnote_output_heights": [
          21.1875
        ],
        "id": "NY_pHq6bTfiz",
        "outputId": "ac741330-a119-4852-c4c7-7dcfd15e9f7e"
      },
      "source": [
        "server= smtplib.SMTP('smtp-mail.outlook.com',587)\n",
        "server.ehlo()\n",
        "server.starttls() # Secured transport layered connection know as tls\n",
        "server.ehlo()\n",
        "server.login('xxxx@outlook.com','xxxx') # login with your id and password, ones i used here are dummy\n",
        "server.send_message(msg)\n",
        "print('mail sent')\n",
        "server.quit()\n"
      ],
      "execution_count": null,
      "outputs": [
        {
          "name": "stdout",
          "text": "mail sent\n",
          "output_type": "stream"
        },
        {
          "output_type": "execute_result",
          "execution_count": 4,
          "data": {
            "text/plain": "(221, b'2.0.0 Service closing transmission channel')"
          },
          "metadata": {}
        }
      ]
    },
    {
      "cell_type": "markdown",
      "source": [
        "<a style='text-decoration:none;line-height:16px;display:flex;color:#5B5B62;padding:10px;justify-content:end;' href='https://deepnote.com?utm_source=created-in-deepnote-cell&projectId=48036616-b73e-4917-9bbd-0d3f272f029a' target=\"_blank\">\n",
        "<img alt='Created in deepnote.com' style='display:inline;max-height:16px;margin:0px;margin-right:7.5px;' src='data:image/svg+xml;base64,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' > </img>\n",
        "Created in <span style='font-weight:600;margin-left:4px;'>Deepnote</span></a>"
      ],
      "metadata": {
        "tags": [],
        "created_in_deepnote_cell": true,
        "deepnote_cell_type": "markdown",
        "id": "fawBGnZoTfi2"
      }
    }
  ],
  "nbformat": 4,
  "nbformat_minor": 0,
  "metadata": {
    "orig_nbformat": 2,
    "deepnote": {},
    "deepnote_notebook_id": "20af9cea-39cc-44d5-813a-d1ad35c3696a",
    "deepnote_execution_queue": [],
    "colab": {
      "name": "Auto Emailer.ipynb",
      "provenance": [],
      "include_colab_link": true
    }
  }
}