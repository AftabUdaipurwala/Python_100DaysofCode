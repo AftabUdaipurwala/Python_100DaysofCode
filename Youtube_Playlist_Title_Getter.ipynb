{
  "nbformat": 4,
  "nbformat_minor": 0,
  "metadata": {
    "colab": {
      "name": "Youtube Playlist Title Getter.ipynb",
      "provenance": [],
      "collapsed_sections": [],
      "authorship_tag": "ABX9TyM6vjqcQWPSWrMOjDSpv3Ek",
      "include_colab_link": true
    },
    "kernelspec": {
      "name": "python3",
      "display_name": "Python 3"
    },
    "language_info": {
      "name": "python"
    }
  },
  "cells": [
    {
      "cell_type": "markdown",
      "metadata": {
        "id": "view-in-github",
        "colab_type": "text"
      },
      "source": [
        "<a href=\"https://colab.research.google.com/github/AftabUdaipurwala/Python_100DaysofCode/blob/main/Youtube_Playlist_Title_Getter.ipynb\" target=\"_parent\"><img src=\"https://colab.research.google.com/assets/colab-badge.svg\" alt=\"Open In Colab\"/></a>"
      ]
    },
    {
      "cell_type": "code",
      "source": [
        "pip install pytube"
      ],
      "metadata": {
        "colab": {
          "base_uri": "https://localhost:8080/"
        },
        "id": "N-AVS05RvPb7",
        "outputId": "b0064c25-5067-4982-ab6c-9d0357fc38b4"
      },
      "execution_count": 1,
      "outputs": [
        {
          "output_type": "stream",
          "name": "stdout",
          "text": [
            "Looking in indexes: https://pypi.org/simple, https://us-python.pkg.dev/colab-wheels/public/simple/\n",
            "Collecting pytube\n",
            "  Downloading pytube-12.1.0-py3-none-any.whl (56 kB)\n",
            "\u001b[K     |████████████████████████████████| 56 kB 2.7 MB/s \n",
            "\u001b[?25hInstalling collected packages: pytube\n",
            "Successfully installed pytube-12.1.0\n"
          ]
        }
      ]
    },
    {
      "cell_type": "code",
      "execution_count": 2,
      "metadata": {
        "colab": {
          "base_uri": "https://localhost:8080/"
        },
        "id": "1ZPkFVwCvJpf",
        "outputId": "752593f9-246e-4f9d-c9c0-abe8eb566732"
      },
      "outputs": [
        {
          "output_type": "stream",
          "name": "stdout",
          "text": [
            "Time taken: 25.315143585205078\n"
          ]
        }
      ],
      "source": [
        "from time import time\n",
        "from pytube import YouTube, Playlist\n",
        "import pandas as pd\n",
        "\n",
        "playlist_link = \"https://www.youtube.com/playlist?list=PL6Omre3duO-OGTAMuFuDOS8wMuuxmyaiX\"\n",
        "\n",
        "video_links = Playlist(playlist_link).video_urls\n",
        "\n",
        "video_titles = []\n",
        "start = time()\n",
        "for link in video_links:\n",
        "    video_titles.append(YouTube(link).title)\n",
        "\n",
        "print(f'Time taken: {time() - start}')"
      ]
    },
    {
      "cell_type": "code",
      "source": [
        "df = pd.DataFrame(video_titles)\n",
        "df.to_excel('myplaylist.xlsx', sheet_name='sheet1', index=False)"
      ],
      "metadata": {
        "id": "gCLNHlI1vNqA"
      },
      "execution_count": 3,
      "outputs": []
    }
  ]
}