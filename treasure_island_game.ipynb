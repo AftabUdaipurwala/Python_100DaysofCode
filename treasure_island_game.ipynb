{
 "cells": [
  {
   "cell_type": "code",
   "metadata": {
    "tags": [],
    "cell_id": "b43eff43-f62e-4dbf-8eae-8cceba62f29b",
    "deepnote_to_be_reexecuted": false,
    "source_hash": "b2144296",
    "execution_start": 1657275680883,
    "execution_millis": 185,
    "deepnote_app_coordinates": {
     "x": 0,
     "y": 1,
     "w": 9,
     "h": 8
    },
    "deepnote_app_is_code_hidden": true,
    "deepnote_cell_type": "code",
    "deepnote_cell_height": 378
   },
   "source": "print('''\n _                                     _     _                 _ \n| |                                   (_)   | |               | |\n| |_ _ __ ___  __ _ ___ _   _ _ __ ___ _ ___| | __ _ _ __   __| |\n| __| '__/ _ \\/ _` / __| | | | '__/ _ \\ / __| |/ _` | '_ \\ / _` |\n| |_| | |  __/ (_| \\__ \\ |_| | | |  __/ \\__ \\ | (_| | | | | (_| |\n \\__|_|  \\___|\\__,_|___/\\__,_|_|  \\___|_|___/_|\\__,_|_| |_|\\__,_|\n''')",
   "execution_count": 1,
   "outputs": [
    {
     "name": "stdout",
     "text": "\n _                                     _     _                 _ \n| |                                   (_)   | |               | |\n| |_ _ __ ___  __ _ ___ _   _ _ __ ___ _ ___| | __ _ _ __   __| |\n| __| '__/ _ \\/ _` / __| | | | '__/ _ \\ / __| |/ _` | '_ \\ / _` |\n| |_| | |  __/ (_| \\__ \\ |_| | | |  __/ \\__ \\ | (_| | | | | (_| |\n \\__|_|  \\___|\\__,_|___/\\__,_|_|  \\___|_|___/_|\\__,_|_| |_|\\__,_|\n\n",
     "output_type": "stream"
    }
   ]
  },
  {
   "cell_type": "code",
   "metadata": {
    "cell_id": "4d8fe00cb17640c8b0444a028889c1c9",
    "tags": [],
    "deepnote_to_be_reexecuted": false,
    "source_hash": "373d3e93",
    "execution_start": 1657275680909,
    "execution_millis": 160,
    "deepnote_app_coordinates": {
     "x": 0,
     "y": 10,
     "w": 7,
     "h": 3
    },
    "deepnote_app_is_code_hidden": true,
    "deepnote_cell_type": "code",
    "deepnote_cell_height": 132
   },
   "source": "print(\"Welcome to the treasure island \\n Your mission is o find the treasure\")",
   "execution_count": 2,
   "outputs": [
    {
     "name": "stdout",
     "text": "Welcome to the treasure island \n Your mission is o find the treasure\n",
     "output_type": "stream"
    }
   ]
  },
  {
   "cell_type": "code",
   "metadata": {
    "cell_id": "8461c550c0af42fbb61e4e751c7255bc",
    "tags": [],
    "deepnote_to_be_reexecuted": false,
    "source_hash": "cded45c",
    "execution_start": 1657275680909,
    "execution_millis": 160,
    "deepnote_app_coordinates": {
     "x": 0,
     "y": 13,
     "w": 7,
     "h": 2
    },
    "deepnote_app_is_code_hidden": true,
    "deepnote_cell_type": "code",
    "deepnote_cell_height": 112
   },
   "source": "print('Are you ready to ride this exciting journey')",
   "execution_count": 3,
   "outputs": [
    {
     "name": "stdout",
     "text": "Are you ready to ride this exciting journey\n",
     "output_type": "stream"
    }
   ]
  },
  {
   "cell_type": "code",
   "metadata": {
    "cell_id": "ba69773dae3a492d939b6764f56ad60d",
    "tags": [],
    "deepnote_to_be_reexecuted": false,
    "source_hash": "79e58797",
    "execution_start": 1657275680912,
    "execution_millis": 390448,
    "deepnote_app_coordinates": {
     "x": 0,
     "y": 15,
     "w": 16,
     "h": 26
    },
    "deepnote_app_is_code_hidden": true,
    "deepnote_cell_type": "code",
    "deepnote_cell_height": 1250
   },
   "source": "print('''\n                                                    .'  `.\n                                                   /      \\\n                     o                            /        |\n                      8ooooooooo               __________  |\n                        ``8'                  /.-------. \\ |\n                         |`                   ||      ` ` |<\n                          `|___________________\\\\      |||| )\n                          / _____________________\\ ._._.'.'(\n VK                      / |                     \\\\ ``--'\n                        //|`                      \\\\\n                       //  `|                      \\\\\n                      //   |`                      . \\\n         .d888888b.  //     `|                   .'.'\\\\  .d888888b.\n      o8Y'   .    `Y//      |`                  / /   \\\\Y'    .  .`Y8o\n    oY'   .  .   . //Y8o     `|               .'.'  dY'\\\\  .  .     .`Yo\n   dY  .     .    //   Yb    |`              / /   dY.  \\\\    .    .  .Yb\n  dY .  .  . .  .//   . Yb    `|           .'.'   dY   . \\\\ . . . .     Yb\n oY.   . .   .  //  .    Yb   |`          / /    oY .    .\\\\  .  . .   . Yo\no8    .   .  . // .    .  8b   `| =.=   .'.'    o8     .   \\\\ . .   .     8o\n8Y  .    . . .//__________Y8___|`_____ / /      8P  .     . \\\\.. .     .  Y8\n8............@/__ ........ 8   .'.  ..`.'       8............\\@)...........8\n8    .   . (`-.__`--.__   d8  /. . |..  \\       8     .  .  . . . .     .  8\n8b    .    .(@   `--.__`--.__|....  .... |      8b.    .   .  .  .   .    d8\nY8 .    . .  `-._      `--.__|..   @     |      Y8   .  . . . . . . .  .  8Y\n Yb   .  .   .  .`-._   dP   |.... |.    |       Yb.     .    .    .     dP\n  Yb.   .  . . . .   `-dP     \\  . |... /         Yb .  .  .  .  .  .  .dP\n   Yo. .     .    .  .oP `--.__`.__|__.'           Yo. .      .      ..oP\n    `8o.  .  .  .  .o8'            |                `8o.  .   .   . .o8'\n      `Y88booood888P'             =.=                 `Y88boooood888P'\n          \"\"\"\"\"\"                                          \"\"\"\"\"\"\"\n''')",
   "execution_count": 4,
   "outputs": [
    {
     "name": "stdout",
     "text": "\n                                                    .'  `.\n                                                   /                           o                            /        |\n                      8ooooooooo               __________  |\n                        ``8'                  /.-------. \\ |\n                         |`                   ||      ` ` |<\n                          `|___________________\\      |||| )\n                          / _____________________\\ ._._.'.'(\n VK                      / |                     \\ ``--'\n                        //|`                      \\\n                       //  `|                      \\\n                      //   |`                      .          .d888888b.  //     `|                   .'.'\\  .d888888b.\n      o8Y'   .    `Y//      |`                  / /   \\Y'    .  .`Y8o\n    oY'   .  .   . //Y8o     `|               .'.'  dY'\\  .  .     .`Yo\n   dY  .     .    //   Yb    |`              / /   dY.  \\    .    .  .Yb\n  dY .  .  . .  .//   . Yb    `|           .'.'   dY   . \\ . . . .     Yb\n oY.   . .   .  //  .    Yb   |`          / /    oY .    .\\  .  . .   . Yo\no8    .   .  . // .    .  8b   `| =.=   .'.'    o8     .   \\ . .   .     8o\n8Y  .    . . .//__________Y8___|`_____ / /      8P  .     . \\.. .     .  Y8\n8............@/__ ........ 8   .'.  ..`.'       8............\\@)...........8\n8    .   . (`-.__`--.__   d8  /. . |..  \\       8     .  .  . . . .     .  8\n8b    .    .(@   `--.__`--.__|....  .... |      8b.    .   .  .  .   .    d8\nY8 .    . .  `-._      `--.__|..   @     |      Y8   .  . . . . . . .  .  8Y\n Yb   .  .   .  .`-._   dP   |.... |.    |       Yb.     .    .    .     dP\n  Yb.   .  . . . .   `-dP     \\  . |... /         Yb .  .  .  .  .  .  .dP\n   Yo. .     .    .  .oP `--.__`.__|__.'           Yo. .      .      ..oP\n    `8o.  .  .  .  .o8'            |                `8o.  .   .   . .o8'\n      `Y88booood888P'             =.=                 `Y88boooood888P'\n          \"\"\"\"\"\"                                          \"\"\"\"\"\"\"\n\n",
     "output_type": "stream"
    }
   ]
  },
  {
   "cell_type": "code",
   "metadata": {
    "cell_id": "118a1f87f5204607b9ccb2af1f4b8111",
    "tags": [],
    "deepnote_to_be_reexecuted": false,
    "source_hash": "af0f1116",
    "execution_start": 1657275802235,
    "execution_millis": 27770,
    "owner_user_id": "1aba9b8c-4aab-4d07-a681-34f66fdc4649",
    "deepnote_app_coordinates": {
     "x": 1,
     "y": 41,
     "w": 14,
     "h": 5
    },
    "deepnote_app_is_code_hidden": true,
    "deepnote_cell_type": "code",
    "deepnote_cell_height": 406
   },
   "source": "direction = input('You are at the cross road, where you want to go? East or West? write East or West').lower()\n\nif direction =='east':\n    print('Fantastic, you moved 1 step ahead')\n    lake = input('You are at the bank of a river, what you want to do? Swim or Wait for a boat? write Swim or Wait').lower()\n    if lake =='swim':\n        print('Fantastic, you moved 2 step ahead')\n        gate = input('You are a junction of 3 doors? Which door you want to select? red, yellow or green?').lower()\n        if gate =='green':\n            print('Fantastic, you moved 3 step ahead')\n            print('Congratulations you found the treasure, you win')\n        else: print('Game over')\nelse:\n    print('Game over')",
   "execution_count": 9,
   "outputs": [
    {
     "name": "stdout",
     "text": "Fantastic, you moved 1 step ahead\nFantastic, you moved 2 step ahead\nFantastic, you moved 3 step ahead\nCongratulations you found the treasure, you win\n",
     "output_type": "stream"
    }
   ]
  },
  {
   "cell_type": "markdown",
   "source": "<a style='text-decoration:none;line-height:16px;display:flex;color:#5B5B62;padding:10px;justify-content:end;' href='https://deepnote.com?utm_source=created-in-deepnote-cell&projectId=5f2ba61e-f20a-41eb-9b1d-c6316d94e176' target=\"_blank\">\n<img alt='Created in deepnote.com' style='display:inline;max-height:16px;margin:0px;margin-right:7.5px;' src='data:image/svg+xml;base64,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' > </img>\nCreated in <span style='font-weight:600;margin-left:4px;'>Deepnote</span></a>",
   "metadata": {
    "tags": [],
    "created_in_deepnote_cell": true,
    "deepnote_cell_type": "markdown"
   }
  }
 ],
 "nbformat": 4,
 "nbformat_minor": 2,
 "metadata": {
  "orig_nbformat": 2,
  "deepnote": {},
  "deepnote_notebook_id": "c75182db-ac53-4217-b608-66759dea1470",
  "deepnote_app_layout": "dashboard",
  "deepnote_execution_queue": []
 }
}