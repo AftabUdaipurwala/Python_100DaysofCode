{
  "nbformat": 4,
  "nbformat_minor": 0,
  "metadata": {
    "colab": {
      "name": "Day9_DictionariesNestingAndSecretBidderGame.ipynb",
      "provenance": [],
      "collapsed_sections": [],
      "authorship_tag": "ABX9TyMyYgnftxzhDoz9y05EVt7k",
      "include_colab_link": true
    },
    "kernelspec": {
      "name": "python3",
      "display_name": "Python 3"
    },
    "language_info": {
      "name": "python"
    }
  },
  "cells": [
    {
      "cell_type": "markdown",
      "metadata": {
        "id": "view-in-github",
        "colab_type": "text"
      },
      "source": [
        "<a href=\"https://colab.research.google.com/github/AftabUdaipurwala/Python_100DaysofCode/blob/main/Day9_DictionariesNestingAndSecretBidderGame.ipynb\" target=\"_parent\"><img src=\"https://colab.research.google.com/assets/colab-badge.svg\" alt=\"Open In Colab\"/></a>"
      ]
    },
    {
      "cell_type": "markdown",
      "source": [
        "# Dictionaries"
      ],
      "metadata": {
        "id": "9icOZfICpJDk"
      }
    },
    {
      "cell_type": "code",
      "execution_count": null,
      "metadata": {
        "id": "jemkN1-Be3DD"
      },
      "outputs": [],
      "source": [
        "programming_dictionary = {\"Bug\": \"An error in a program that prevents the program from running as expected.\", \"Function\": \"A piece of code that you can easily call over and over again.\"}"
      ]
    },
    {
      "cell_type": "code",
      "source": [
        "programming_dictionary.keys()"
      ],
      "metadata": {
        "colab": {
          "base_uri": "https://localhost:8080/"
        },
        "id": "CklR98KCpMor",
        "outputId": "3e2589ee-52ee-4854-d276-666449453b3f"
      },
      "execution_count": null,
      "outputs": [
        {
          "output_type": "execute_result",
          "data": {
            "text/plain": [
              "dict_keys(['Bug', 'Function'])"
            ]
          },
          "metadata": {},
          "execution_count": 4
        }
      ]
    },
    {
      "cell_type": "code",
      "source": [
        "programming_dictionary.values()"
      ],
      "metadata": {
        "colab": {
          "base_uri": "https://localhost:8080/"
        },
        "id": "8bv-zTPbpN6h",
        "outputId": "c1f7462e-0514-4065-d600-6725ce3240ee"
      },
      "execution_count": null,
      "outputs": [
        {
          "output_type": "execute_result",
          "data": {
            "text/plain": [
              "dict_values(['An error in a program that prevents the program from running as expected.', 'A piece of code that you can easily call over and over again.'])"
            ]
          },
          "metadata": {},
          "execution_count": 3
        }
      ]
    },
    {
      "cell_type": "markdown",
      "source": [
        "#Exercise 1 - Grading Program"
      ],
      "metadata": {
        "id": "E13O322-pv0C"
      }
    },
    {
      "cell_type": "markdown",
      "source": [
        "***Instructions***\n",
        "\n",
        "\n",
        "You have access to a database of student_scores in the format of a dictionary. The keys in student_scores are the names of the students and the values are their exam scores.\n",
        "\n",
        "\n",
        "Write a program that converts their scores to grades. By the end of your program, you should have a new dictionary called student_grades that should contain student names for keys and their grades for values. The final version of the student_grades dictionary will be checked.\n",
        "\n",
        "DO NOT modify lines 1-7 to change the existing student_scores dictionary.\n",
        "\n",
        "DO NOT write any print statements.\n",
        "\n",
        " \n",
        "\n",
        "```\n",
        "\n",
        "This is the scoring criteria:\n",
        "\n",
        "Scores 91 - 100: Grade = \"Outstanding\"\n",
        "\n",
        "Scores 81 - 90: Grade = \"Exceeds Expectations\"\n",
        "\n",
        "Scores 71 - 80: Grade = \"Acceptable\"\n",
        "\n",
        "Scores 70 or lower: Grade = \"Fail\"\n",
        "```\n",
        "\n"
      ],
      "metadata": {
        "id": "R5yMiW3Xp0C5"
      }
    },
    {
      "cell_type": "code",
      "source": [
        "student_scores = {\n",
        "  \"Harry\": 81,\n",
        "  \"Ron\": 78,\n",
        "  \"Hermione\": 99, \n",
        "  \"Draco\": 74,\n",
        "  \"Neville\": 62,\n",
        "}\n",
        "# 🚨 Don't change the code above 👆\n",
        "\n",
        "#TODO-1: Create an empty dictionary called student_grades.\n",
        "student_grades={}\n",
        "\n",
        "#TODO-2: Write your code below to add the grades to student_grades.👇\n",
        "new_value=''\n",
        "for key,value in student_scores.items():\n",
        "    if int(value) >90:\n",
        "        value = 'Outstanding'\n",
        "        student_grades[key]=value\n",
        "    elif int(value)>80:\n",
        "        value = 'Exceeds Expectations'\n",
        "        student_grades[key]=value\n",
        "    elif int(value)>70:\n",
        "        value ='Acceptable'\n",
        "        student_grades[key]=value\n",
        "    else:\n",
        "        student_grades[key]='Fail'\n",
        "\n",
        "# 🚨 Don't change the code below 👇\n",
        "print(student_grades)"
      ],
      "metadata": {
        "colab": {
          "base_uri": "https://localhost:8080/"
        },
        "id": "YtCypZgopw5C",
        "outputId": "c1219603-9c4b-4ea4-a5ab-113a3bf4fc3c"
      },
      "execution_count": null,
      "outputs": [
        {
          "output_type": "stream",
          "name": "stdout",
          "text": [
            "{'Harry': 'Exceeds Expectations', 'Ron': 'Acceptable', 'Hermione': 'Outstanding', 'Draco': 'Acceptable', 'Neville': 'Fail'}\n"
          ]
        }
      ]
    },
    {
      "cell_type": "markdown",
      "source": [
        "#Exercise 2 - Dictionary in Lis"
      ],
      "metadata": {
        "id": "_q_EM5e2zn1B"
      }
    },
    {
      "cell_type": "markdown",
      "source": [
        "# ***Instructions***\n",
        "\n",
        "\n",
        "\n",
        "You are going to write a program that adds to a travel_log. You can see a travel_log which is a List that contains 2 Dictionaries.\n",
        "\n",
        "\n",
        "\n",
        "Write a function that will work with the following line of code on line 21 to add the entry for Russia to the travel_log.\n",
        "\n",
        "\n",
        "\n",
        "\n",
        "\n",
        "```\n",
        "add_new_country(\"Russia\", 2, [\"Moscow\", \"Saint Petersburg\"])\n",
        "You've visited Russia 2 times.\n",
        "```\n",
        "\n",
        "\n",
        "\n",
        "\n",
        "You've been to Moscow and Saint Petersburg.\n",
        "\n",
        "\n",
        "DO NOT modify the travel_log directly. You need to create a function that modifies it.\n",
        "\n",
        "\n",
        "\n",
        "***Hint***\n",
        "\n",
        "\n",
        "Look at the function call above to see what the name of the function should be.\n",
        "\n",
        "\n",
        "The inputs for the function are positional arguments. The order is very important.\n",
        "\n",
        "\n",
        "Feel free to choose your own parameter names."
      ],
      "metadata": {
        "id": "fX-Pt55VzqUw"
      }
    },
    {
      "cell_type": "code",
      "source": [
        "travel_log = [\n",
        "{\n",
        "  \"country\": \"France\",\n",
        "  \"visits\": 12,\n",
        "  \"cities\": [\"Paris\", \"Lille\", \"Dijon\"]\n",
        "},\n",
        "{\n",
        "  \"country\": \"Germany\",\n",
        "  \"visits\": 5,\n",
        "  \"cities\": [\"Berlin\", \"Hamburg\", \"Stuttgart\"]\n",
        "},\n",
        "]\n",
        "#🚨 Do NOT change the code above\n",
        "\n",
        "#TODO: Write the function that will allow new countries\n",
        "#to be added to the travel_log. 👇\n",
        "dict1={}\n",
        "def add_new_country(country,times,city):\n",
        "    dict1 = {'country':country, 'visits':times, 'cities':city}\n",
        "    travel_log.append(dict1)\n",
        "\n",
        "\n",
        "#🚨 Do not change the code below\n",
        "add_new_country(\"Russia\", 2, [\"Moscow\", \"Saint Petersburg\"])\n",
        "print(travel_log)\n"
      ],
      "metadata": {
        "colab": {
          "base_uri": "https://localhost:8080/"
        },
        "id": "YKVKrzO2zoxp",
        "outputId": "4d435477-7180-4d1d-a8c1-5db51d73a014"
      },
      "execution_count": null,
      "outputs": [
        {
          "output_type": "stream",
          "name": "stdout",
          "text": [
            "[{'country': 'France', 'visits': 12, 'cities': ['Paris', 'Lille', 'Dijon']}, {'country': 'Germany', 'visits': 5, 'cities': ['Berlin', 'Hamburg', 'Stuttgart']}, {'country': 'Russia', 'visits': 2, 'cities': ['Moscow', 'Saint Petersburg']}]\n"
          ]
        }
      ]
    },
    {
      "cell_type": "code",
      "source": [
        "!pip install replit"
      ],
      "metadata": {
        "colab": {
          "base_uri": "https://localhost:8080/"
        },
        "id": "CrWsjddTOj2P",
        "outputId": "6f61d4ea-467a-4ecb-969a-5ca123f49293"
      },
      "execution_count": null,
      "outputs": [
        {
          "output_type": "stream",
          "name": "stdout",
          "text": [
            "Looking in indexes: https://pypi.org/simple, https://us-python.pkg.dev/colab-wheels/public/simple/\n",
            "Collecting replit\n",
            "  Downloading replit-1.2.11-py3-none-any.whl (7.0 kB)\n",
            "Installing collected packages: replit\n",
            "Successfully installed replit-1.2.11\n"
          ]
        }
      ]
    },
    {
      "cell_type": "code",
      "source": [
        "from replit import clear"
      ],
      "metadata": {
        "id": "ppl5kIpuOlA-"
      },
      "execution_count": null,
      "outputs": []
    },
    {
      "cell_type": "markdown",
      "source": [
        "# Secret Bidding Game"
      ],
      "metadata": {
        "id": "JbOariEglFQ9"
      }
    },
    {
      "cell_type": "markdown",
      "source": [
        "![SecretBiddingGame.jpg](data:image/jpeg;base64,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)"
      ],
      "metadata": {
        "id": "TpE2z7cFlHli"
      }
    },
    {
      "cell_type": "code",
      "source": [
        "\n",
        "from replit import clear\n",
        "\n",
        "\n",
        "print('Welcome to the Secret Bidding Auction !')\n",
        "should_continue=True\n",
        "userbids=[]\n",
        "while should_continue:\n",
        "    userkey = input('Whats is your name \\t')\n",
        "    useramount = int(input(\"What is your bid price?\\t$\"))\n",
        "    userbid={userkey:useramount}\n",
        "    userbids.append(userbid)\n",
        "    next_user = input('Are there any more bidders? Type \\'yes\\' or \\'no\\'  \\t').lower()\n",
        "    clear()\n",
        "    if next_user=='no':\n",
        "        should_continue=False\n",
        "\n",
        "max_value=0\n",
        "max_user=''\n",
        "for i in userbids:\n",
        "    x = list(i.keys())[0]\n",
        "    if i.get(x)>max_value:\n",
        "        max_value = i.get(x)\n",
        "        max_user = x\n",
        "    elif i.get(x)==max_value:\n",
        "        max_user = max_user +' and '+ x\n",
        "print(f'Congratulations to {max_user} who has the maximum bid of ${max_value}')\n",
        "\n",
        "\n"
      ],
      "metadata": {
        "colab": {
          "base_uri": "https://localhost:8080/"
        },
        "id": "YI4MtttF1RGc",
        "outputId": "31008f02-ea0f-4bf0-bc07-a544153bbb86"
      },
      "execution_count": 39,
      "outputs": [
        {
          "output_type": "stream",
          "name": "stdout",
          "text": [
            "Welcome to the Secret Bidding Auction !\n",
            "Whats is your name \tAftab\n",
            "What is your bid price?\t$123\n",
            "Are there any more bidders? Type 'yes' or 'no'  \tyes\n",
            "\u001b[H\u001b[2JWhats is your name \tAmit\n",
            "What is your bid price?\t$123\n",
            "Are there any more bidders? Type 'yes' or 'no'  \tno\n",
            "\u001b[H\u001b[2JCongratulations to Aftab and Amit who has the maximum bid of $123\n"
          ]
        }
      ]
    }
  ]
}