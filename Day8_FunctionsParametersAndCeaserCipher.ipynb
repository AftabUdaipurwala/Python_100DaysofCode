{
  "nbformat": 4,
  "nbformat_minor": 0,
  "metadata": {
    "colab": {
      "name": "Day8_FunctionsParametersAndCeaserCipher.ipynb",
      "provenance": [],
      "collapsed_sections": [],
      "authorship_tag": "ABX9TyNrpweCpRTFBz2olUIrdqme",
      "include_colab_link": true
    },
    "kernelspec": {
      "name": "python3",
      "display_name": "Python 3"
    },
    "language_info": {
      "name": "python"
    }
  },
  "cells": [
    {
      "cell_type": "markdown",
      "metadata": {
        "id": "view-in-github",
        "colab_type": "text"
      },
      "source": [
        "<a href=\"https://colab.research.google.com/github/AftabUdaipurwala/Python_100DaysofCode/blob/main/Day8_FunctionsParametersAndCeaserCipher.ipynb\" target=\"_parent\"><img src=\"https://colab.research.google.com/assets/colab-badge.svg\" alt=\"Open In Colab\"/></a>"
      ]
    },
    {
      "cell_type": "markdown",
      "source": [
        "# Simple function"
      ],
      "metadata": {
        "id": "WeIemUCJAyXp"
      }
    },
    {
      "cell_type": "code",
      "source": [
        "def greet():\n",
        "    print(\"Hello\")\n",
        "    print('How are you?')\n",
        "    print('Day is so beautiful')\n",
        "\n",
        "greet()"
      ],
      "metadata": {
        "colab": {
          "base_uri": "https://localhost:8080/"
        },
        "id": "mGjAtaZCAyD5",
        "outputId": "f1d9d7c7-2aae-4bbe-b848-6197c28a1384"
      },
      "execution_count": null,
      "outputs": [
        {
          "output_type": "stream",
          "name": "stdout",
          "text": [
            "Hello\n",
            "How are you?\n",
            "Day is so beautiful\n"
          ]
        }
      ]
    },
    {
      "cell_type": "markdown",
      "source": [
        "# Function with parameters"
      ],
      "metadata": {
        "id": "ATWlAXpLRud6"
      }
    },
    {
      "cell_type": "code",
      "source": [
        "def greet_name(name):\n",
        "    print(f\"Hello {name}\")\n",
        "    print(f'How are you? {name}')\n",
        "    print('Day is so beautiful')\n",
        "\n",
        "greet_name('Aftab')"
      ],
      "metadata": {
        "colab": {
          "base_uri": "https://localhost:8080/"
        },
        "id": "kuRsqa6yRy9X",
        "outputId": "979f77f3-85b0-45be-d91c-b51c9e4717fd"
      },
      "execution_count": null,
      "outputs": [
        {
          "output_type": "stream",
          "name": "stdout",
          "text": [
            "Hello Aftab\n",
            "How are you? Aftab\n",
            "Day is so beautiful\n"
          ]
        }
      ]
    },
    {
      "cell_type": "markdown",
      "source": [
        "# Positional vs Keyword Arguements"
      ],
      "metadata": {
        "id": "V3NMuY0mS8Bi"
      }
    },
    {
      "cell_type": "code",
      "source": [
        "def greet_loc(name, location):\n",
        "    print(f\"Hello {name}\")\n",
        "    print(f'How are you? {name}')\n",
        "    print(f'Day is so beautiful in {location}')\n",
        "\n",
        "greet_loc('Aftab','Mumbai')   # Aftab and Mumbai are postional arguements\n",
        "greet_loc(location='Mumbai',name='Aftab') # this is for keyword arguements"
      ],
      "metadata": {
        "colab": {
          "base_uri": "https://localhost:8080/"
        },
        "id": "low6wN_wS-eR",
        "outputId": "774a1fd1-9ff7-43ca-b66f-751e069fe52f"
      },
      "execution_count": null,
      "outputs": [
        {
          "output_type": "stream",
          "name": "stdout",
          "text": [
            "Hello Aftab\n",
            "How are you? Aftab\n",
            "Day is so beautiful in Mumbai\n",
            "Hello Aftab\n",
            "How are you? Aftab\n",
            "Day is so beautiful in Mumbai\n"
          ]
        }
      ]
    },
    {
      "cell_type": "markdown",
      "source": [
        "# Paint Area Calculator"
      ],
      "metadata": {
        "id": "cfb9hITlXeli"
      }
    },
    {
      "cell_type": "code",
      "source": [
        "#Write your code below this line 👇\n",
        "import math\n",
        "def paint_calc(height,width,cover):\n",
        "    area = height*width\n",
        "    paint_coverage =math.ceil(area/cover)\n",
        "    print(f'you will need {paint_coverage} cans for total area of {area}')\n",
        "\n",
        "#Write your code above this line 👆\n",
        "# Define a function called paint_calc() so that the code below works.   \n",
        "\n",
        "# 🚨 Don't change the code below 👇\n",
        "test_h = int(input(\"Height of wall: \"))\n",
        "test_w = int(input(\"Width of wall: \"))\n",
        "coverage = 5\n",
        "paint_calc(height=test_h, width=test_w, cover=coverage)"
      ],
      "metadata": {
        "colab": {
          "base_uri": "https://localhost:8080/"
        },
        "id": "x_TAAn8jXeE6",
        "outputId": "37b33838-9b9c-4556-e9d9-e68562e23867"
      },
      "execution_count": null,
      "outputs": [
        {
          "output_type": "stream",
          "name": "stdout",
          "text": [
            "Height of wall: 10\n",
            "Width of wall: 20\n",
            "you will need 40 cans for total area of 200\n"
          ]
        }
      ]
    },
    {
      "cell_type": "markdown",
      "source": [
        "# Prime Number checker"
      ],
      "metadata": {
        "id": "9slI6QOtaet2"
      }
    },
    {
      "cell_type": "code",
      "source": [
        "#Write your code below this line 👇\n",
        "import numpy as np\n",
        "def prime_checker(number):\n",
        "    #sq = round(np.sqrt(number))\n",
        "    value = 'It\\'s a prime number.'\n",
        "    for i in range(2,number):\n",
        "        if number%i==0:\n",
        "            value = 'It\\'s not a prime number.'\n",
        "    print(value)\n",
        "\n",
        "#Write your code above this line 👆\n",
        "    \n",
        "#Do NOT change any of the code below👇\n",
        "n = int(input(\"Check this number: \"))\n",
        "prime_checker(number=n)\n"
      ],
      "metadata": {
        "colab": {
          "base_uri": "https://localhost:8080/"
        },
        "id": "DJyB6ISAagg9",
        "outputId": "a178e881-eec0-4a9d-d0dc-35f837c64513"
      },
      "execution_count": null,
      "outputs": [
        {
          "output_type": "stream",
          "name": "stdout",
          "text": [
            "Check this number: 97\n",
            "It's a prime number.\n"
          ]
        }
      ]
    },
    {
      "cell_type": "markdown",
      "source": [
        "# Ceaser Cipher"
      ],
      "metadata": {
        "id": "yxOfrxfjA_Sx"
      }
    },
    {
      "cell_type": "markdown",
      "source": [
        "![image.png](data:image/png;base64,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)"
      ],
      "metadata": {
        "id": "sHd2Kp_fAZ_N"
      }
    },
    {
      "cell_type": "markdown",
      "source": [
        "## Encode function"
      ],
      "metadata": {
        "id": "wIrrbWbXEUOw"
      }
    },
    {
      "cell_type": "code",
      "source": [
        "def encode():\n",
        "    message = input('Type your message to be encoded : \\n').lower()\n",
        "    shifter = int(input('Type shift number: \\n'))\n",
        "    alphabets = list('abcdefghijklmnopqrstuvwxyz')\n",
        "    new_code = []\n",
        "    for i in message:\n",
        "        indexer = alphabets.index(i)\n",
        "        new_indexer = indexer+ shifter\n",
        "        if new_indexer>26:\n",
        "            new_indexer = new_indexer%26\n",
        "        new_code.append(alphabets[new_indexer])\n",
        "    print(''.join(new_code))\n",
        "    tryagain= input('Do you want to try encoding again : yes or no?').lower()\n",
        "    if tryagain=='yes':\n",
        "        encode()"
      ],
      "metadata": {
        "id": "BFlip1tkEV-a"
      },
      "execution_count": null,
      "outputs": []
    },
    {
      "cell_type": "code",
      "source": [
        "encode()"
      ],
      "metadata": {
        "colab": {
          "base_uri": "https://localhost:8080/"
        },
        "id": "OJxYxlABHFlZ",
        "outputId": "30cf98b0-ed62-41d6-d9c4-301c293620a0"
      },
      "execution_count": null,
      "outputs": [
        {
          "name": "stdout",
          "output_type": "stream",
          "text": [
            "Type your message to be encoded : \n",
            "Aftab\n",
            "Type shift number: \n",
            "10\n",
            "kpdkl\n",
            "Do you want to try encoding again : yes or no?no\n"
          ]
        }
      ]
    },
    {
      "cell_type": "markdown",
      "source": [
        "## Decode function"
      ],
      "metadata": {
        "id": "rWNGD_kaEWx3"
      }
    },
    {
      "cell_type": "code",
      "source": [
        "def decode():\n",
        "    message = input('Type your message to be decoded : \\n').lower()\n",
        "    shifter = int(input('Type shift number: \\n'))\n",
        "    alphabets = list('abcdefghijklmnopqrstuvwxyz')\n",
        "    new_code = []\n",
        "    for i in message:\n",
        "        indexer = alphabets.index(i)\n",
        "        new_indexer = indexer- shifter\n",
        "        if new_indexer>26:\n",
        "            new_indexer = new_indexer%26\n",
        "        new_code.append(alphabets[new_indexer])\n",
        "    print(''.join(new_code))\n",
        "    tryagain= input('Do you want to try decoding again : yes or no?').lower()\n",
        "    if tryagain=='yes':\n",
        "        decode()"
      ],
      "metadata": {
        "id": "ibQdFfMhEYaH"
      },
      "execution_count": null,
      "outputs": []
    },
    {
      "cell_type": "code",
      "source": [
        "decode()"
      ],
      "metadata": {
        "colab": {
          "base_uri": "https://localhost:8080/"
        },
        "id": "-2Z5RtJYHvRY",
        "outputId": "77097991-1807-48e2-a59c-40a65eddfb7c"
      },
      "execution_count": null,
      "outputs": [
        {
          "name": "stdout",
          "output_type": "stream",
          "text": [
            "Type your message to be decoded : \n",
            "Aftab\n",
            "Type shift number: \n",
            "10\n",
            "qvjqr\n",
            "Do you want to try decoding again : yes or no?no\n"
          ]
        }
      ]
    },
    {
      "cell_type": "markdown",
      "source": [
        "## Final Loop"
      ],
      "metadata": {
        "id": "n2hlhMQSERD4"
      }
    },
    {
      "cell_type": "code",
      "execution_count": null,
      "metadata": {
        "colab": {
          "base_uri": "https://localhost:8080/"
        },
        "id": "l_veEH724e-g",
        "outputId": "41d4bfa1-cf52-49e1-9ab0-48db9bfea26e"
      },
      "outputs": [
        {
          "name": "stdout",
          "output_type": "stream",
          "text": [
            "Type 'encode' to encode and 'decode' to decodeencode\n",
            "Type your message to be encoded : \n",
            "Aftab\n",
            "Type shift number: \n",
            "2\n",
            "chvcd\n",
            "Do you want to try encoding again : yes or no?no\n"
          ]
        }
      ],
      "source": [
        "encode_decode=input('Type \\'encode\\' to encode and \\'decode\\' to decode')\n",
        "if encode_decode=='encode':\n",
        "    encode()\n",
        "elif encode_decode=='decode':\n",
        "    decode()\n",
        "else:\n",
        "    print('Invalid input, Program exited')"
      ]
    },
    {
      "cell_type": "markdown",
      "source": [
        "# Angela's Ceaser Cipher"
      ],
      "metadata": {
        "id": "oD-o7i2KlUf_"
      }
    },
    {
      "cell_type": "code",
      "source": [
        "alphabet = ['a', 'b', 'c', 'd', 'e', 'f', 'g', 'h', 'i', 'j', 'k', 'l', 'm', 'n', 'o', 'p', 'q', 'r', 's', 't', 'u', 'v', 'w', 'x', 'y', 'z']\n",
        "\n",
        "direction = input(\"Type 'encode' to encrypt, type 'decode' to decrypt:\\n\")\n",
        "text = input(\"Type your text:\\n\").lower()\n",
        "shift = int(input(\"Type the shift number:\\n\"))"
      ],
      "metadata": {
        "colab": {
          "base_uri": "https://localhost:8080/"
        },
        "id": "GEayhnxUnF6z",
        "outputId": "b63ada7f-5e76-4161-98eb-10e4f5b2bc67"
      },
      "execution_count": null,
      "outputs": [
        {
          "name": "stdout",
          "output_type": "stream",
          "text": [
            "Type 'encode' to encrypt, type 'decode' to decrypt:\n",
            "encode\n",
            "Type your text:\n",
            "hello\n",
            "Type the shift number:\n",
            "5\n"
          ]
        }
      ]
    },
    {
      "cell_type": "markdown",
      "source": [
        "## Encrypt function"
      ],
      "metadata": {
        "id": "dmRcBa29nKIj"
      }
    },
    {
      "cell_type": "code",
      "source": [
        "def encrypt(plain_text,shift_amount):\n",
        "    new_code = []\n",
        "    for i in plain_text:\n",
        "        indexer = alphabet.index(i)\n",
        "        new_indexer = indexer + shift_amount\n",
        "        if new_indexer>26:\n",
        "            new_indexer = new_indexer%26\n",
        "        new_code.append(alphabet[new_indexer])\n",
        "    print(f\"The encoded text is {''.join(new_code)}\")"
      ],
      "metadata": {
        "id": "WT7jYheNlWhC"
      },
      "execution_count": null,
      "outputs": []
    },
    {
      "cell_type": "code",
      "source": [
        "encrypt('hello',25)"
      ],
      "metadata": {
        "colab": {
          "base_uri": "https://localhost:8080/"
        },
        "id": "g4ZGTx4sm5Mm",
        "outputId": "4479b5fd-bea4-44c0-85e8-0f7e4111d0a7"
      },
      "execution_count": null,
      "outputs": [
        {
          "output_type": "stream",
          "name": "stdout",
          "text": [
            "The encoded text is gdkkn\n"
          ]
        }
      ]
    },
    {
      "cell_type": "markdown",
      "source": [
        "## Decrypt function"
      ],
      "metadata": {
        "id": "HE6WBhDTCu_L"
      }
    },
    {
      "cell_type": "code",
      "source": [
        "def decrypt(plain_text,shift_amount):\n",
        "    new_code = []\n",
        "    for i in plain_text:\n",
        "        indexer = alphabet.index(i)\n",
        "        new_indexer = indexer- shift_amount\n",
        "        if new_indexer>26:\n",
        "            new_indexer = new_indexer%26\n",
        "        new_code.append(alphabet[new_indexer])\n",
        "    print(f\"The decoded text is {''.join(new_code)}\")"
      ],
      "metadata": {
        "id": "OGttJHjuCwv3"
      },
      "execution_count": null,
      "outputs": []
    },
    {
      "cell_type": "code",
      "source": [
        "decrypt('gdkkn',25)"
      ],
      "metadata": {
        "colab": {
          "base_uri": "https://localhost:8080/"
        },
        "id": "zvklROGxDBNp",
        "outputId": "c66d5dd5-89ba-4a6c-a556-6896a2ed0e2e"
      },
      "execution_count": null,
      "outputs": [
        {
          "output_type": "stream",
          "name": "stdout",
          "text": [
            "The decoded text is hello\n"
          ]
        }
      ]
    },
    {
      "cell_type": "markdown",
      "source": [
        "# Encode or decode"
      ],
      "metadata": {
        "id": "9HTFVAU7DVBY"
      }
    },
    {
      "cell_type": "code",
      "source": [
        "if direction=='encode':\n",
        "    encrypt(plain_text=text,shift_amount=shift)\n",
        "elif direction=='decode':\n",
        "    decrypt(plain_text=text,shift_amount=shift)\n",
        "else:\n",
        "    print('Invalid input, Program exited')"
      ],
      "metadata": {
        "colab": {
          "base_uri": "https://localhost:8080/"
        },
        "id": "qDuu6XgKDUoZ",
        "outputId": "5adf1880-9558-46fc-aad1-80f7101a8d34"
      },
      "execution_count": null,
      "outputs": [
        {
          "output_type": "stream",
          "name": "stdout",
          "text": [
            "mjqqt\n"
          ]
        }
      ]
    },
    {
      "cell_type": "markdown",
      "source": [
        "## Final Game"
      ],
      "metadata": {
        "id": "vsSF7dhTGh7u"
      }
    },
    {
      "cell_type": "code",
      "source": [
        "logo_cc = \"\"\"           \n",
        " ,adPPYba, ,adPPYYba,  ,adPPYba, ,adPPYba, ,adPPYYba, 8b,dPPYba,  \n",
        "a8\"     \"\" \"\"     `Y8 a8P_____88 I8[    \"\" \"\"     `Y8 88P'   \"Y8  \n",
        "8b         ,adPPPPP88 8PP\"\"\"\"\"\"\"  `\"Y8ba,  ,adPPPPP88 88          \n",
        "\"8a,   ,aa 88,    ,88 \"8b,   ,aa aa    ]8I 88,    ,88 88          \n",
        " `\"Ybbd8\"' `\"8bbdP\"Y8  `\"Ybbd8\"' `\"YbbdP\"' `\"8bbdP\"Y8 88   \n",
        "            88             88                                 \n",
        "           \"\"             88                                 \n",
        "                          88                                 \n",
        " ,adPPYba, 88 8b,dPPYba,  88,dPPYba,   ,adPPYba, 8b,dPPYba,  \n",
        "a8\"     \"\" 88 88P'    \"8a 88P'    \"8a a8P_____88 88P'   \"Y8  \n",
        "8b         88 88       d8 88       88 8PP\"\"\"\"\"\"\" 88          \n",
        "\"8a,   ,aa 88 88b,   ,a8\" 88       88 \"8b,   ,aa 88          \n",
        " `\"Ybbd8\"' 88 88`YbbdP\"'  88       88  `\"Ybbd8\"' 88          \n",
        "              88                                             \n",
        "              88           \n",
        "\"\"\""
      ],
      "metadata": {
        "id": "Da1ccIqwO-8h"
      },
      "execution_count": null,
      "outputs": []
    },
    {
      "cell_type": "code",
      "source": [
        "# get alphabets\n",
        "\n",
        "\n",
        "alphabet = ['a', 'b', 'c', 'd', 'e', 'f', 'g', 'h', 'i', 'j', 'k', 'l', 'm', 'n', 'o', 'p', 'q', 'r', 's', 't', 'u', 'v', 'w', 'x', 'y', 'z']\n",
        "\n",
        "\n",
        "def ceaser(direction, plain_text, shift_amount):\n",
        "    new_code = ''\n",
        "    if direction == 'decode':\n",
        "        shift_amount *= -1\n",
        "    for i in plain_text:\n",
        "        if i in alphabet:\n",
        "            indexer = alphabet.index(i)\n",
        "            new_indexer = indexer + shift_amount\n",
        "            if new_indexer > 26:\n",
        "                new_indexer = new_indexer % 26\n",
        "            new_code += alphabet[new_indexer]\n",
        "        else:\n",
        "            new_code+=i\n",
        "    print(f\"The {direction}d text is {new_code}\")\n",
        "\n",
        "# Get inputs\n",
        "should_continue=True\n",
        "while should_continue:\n",
        "    direction = input(\"Type 'encode' to encrypt, type 'decode' to decrypt:\\n\")\n",
        "    text = input(\"Type your text:\\n\").lower()\n",
        "    shift = int(input(\"Type the shift number:\\n\"))\n",
        "\n",
        "    # play the game\n",
        "    ceaser(direction=direction,plain_text=text,shift_amount=shift)\n",
        "    result = input(\"Type 'yes' if you want to go again. Otherwise type 'no'.\")\n",
        "    if result=='no':\n",
        "        should_continue=False\n",
        "        print('Goodbye')\n"
      ],
      "metadata": {
        "colab": {
          "base_uri": "https://localhost:8080/"
        },
        "id": "tmTN5iP3GjrV",
        "outputId": "75db817c-6c59-4dab-855e-aec5080b3e08"
      },
      "execution_count": 1,
      "outputs": [
        {
          "output_type": "stream",
          "name": "stdout",
          "text": [
            "Type 'encode' to encrypt, type 'decode' to decrypt:\n",
            "encode\n",
            "Type your text:\n",
            "Hello\n",
            "Type the shift number:\n",
            "5\n",
            "The encoded text is mjqqt\n",
            "Type 'yes' if you want to go again. Otherwise type 'no'.yes\n",
            "Type 'encode' to encrypt, type 'decode' to decrypt:\n",
            "decode\n",
            "Type your text:\n",
            "mjqqt\n",
            "Type the shift number:\n",
            "5\n",
            "The decoded text is hello\n",
            "Type 'yes' if you want to go again. Otherwise type 'no'.no\n",
            "Goodbye\n"
          ]
        }
      ]
    }
  ]
}